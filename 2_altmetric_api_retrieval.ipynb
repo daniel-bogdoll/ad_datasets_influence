{
 "cells": [
  {
   "cell_type": "code",
   "execution_count": 47,
   "outputs": [],
   "source": [
    "import json\n",
    "import warnings\n",
    "import requests\n",
    "import tqdm"
   ],
   "metadata": {
    "collapsed": false,
    "pycharm": {
     "name": "#%%\n"
    }
   }
  },
  {
   "cell_type": "code",
   "execution_count": 48,
   "outputs": [
    {
     "data": {
      "text/plain": "{'total_number_of_other_articles': 22796179,\n 'mean': 10.19502521226795,\n 'rank': 2415136,\n 'this_scored_higher_than_pct': 89,\n 'this_scored_higher_than': 20369550,\n 'rank_type': 'exact',\n 'sample_size': 22796179,\n 'percentile': 89}"
     },
     "execution_count": 48,
     "metadata": {},
     "output_type": "execute_result"
    }
   ],
   "source": [
    "#Load your api key\n",
    "with open('api_keys.json') as f:\n",
    "    api_keys = json.load(f)\n",
    "alt_metric_key = api_keys['alt_metric']\n",
    "def get_reduced_alt_values(r):\n",
    "    \"\"\"when some info is missing extracts less information from the response object\"\"\"\n",
    "\n",
    "    score = r['score']\n",
    "    try:\n",
    "        percentile = r['altmetric_score']['context_for_score']['all']['percentile']\n",
    "    except:\n",
    "        percentile = float('NaN')\n",
    "    try:\n",
    "        similar_age_3m_percentile = r['altmetric_score']['context_for_score']['similar_age_3m']\n",
    "    except:\n",
    "        similar_age_3m_percentile = float('NaN')\n",
    "    try:\n",
    "        total_readers = 0\n",
    "        for key in r['counts']['readers'].keys():\n",
    "            total_readers += int(r['counts']['readers'][key])\n",
    "    except:\n",
    "        total_readers = float('NaN')\n",
    "    alt_values = {'score': score}, {'percentile': percentile}, {'similar_age_3m_percentile': similar_age_3m_percentile}, {'total_readers': total_readers}\n",
    "    return alt_values\n",
    "def get_alt_values(r):\n",
    "    \"\"\"extracts relevant information from the response object\"\"\"\n",
    "    total_readers = 0\n",
    "    for key in r['counts']['readers'].keys():\n",
    "        total_readers += int(r['counts']['readers'][key])\n",
    "    score = r['score']\n",
    "    percentile = r['altmetric_score']['context_for_score']['all']['percentile']\n",
    "    similar_age_3m_percentile= r['altmetric_score']['context_for_score']['similar_age_3m']  #['percentile']\n",
    "    alt_values = {'score': score}, {'percentile': percentile}, {'similar_age_3m_percentile': similar_age_3m_percentile}, {'total_readers': total_readers}\n",
    "    return alt_values\n",
    "def altmetric_arxiv_requests(arxiv):\n",
    "    \"\"\"make request with arxiv id\"\"\"\n",
    "    global alt_metric_key\n",
    "    r = requests.get(f'https://api.altmetric.com/v1/fetch/arxiv_id/{arxiv}?key={alt_metric_key}')\n",
    "    if r.status_code != 200:\n",
    "        print('Warning - Response Code ', r.status_code)\n",
    "    return r.json()\n",
    "def altmetric_doi_requests(doi):\n",
    "    \"\"\"make request with arxiv doi\"\"\"\n",
    "    global alt_metric_key\n",
    "    r = requests.get(f'https://api.altmetric.com/v1/fetch/doi/{doi}?key={alt_metric_key}')\n",
    "    if r.status_code != 200:\n",
    "        print('Warning - Response Code ', r.status_code, 'DOI', doi)\n",
    "    return r.json()\n",
    "altmetric_doi_requests('10.1177%2F0278364913491297')['altmetric_score']['context_for_score']['all']"
   ],
   "metadata": {
    "collapsed": false,
    "pycharm": {
     "name": "#%%\n"
    }
   }
  },
  {
   "cell_type": "code",
   "execution_count": 49,
   "outputs": [
    {
     "name": "stdout",
     "output_type": "stream",
     "text": [
      "Number of Datasets: 186\n",
      "Warning - Response Code  404 DOI 10.1109/IJCNN.2013.6706807\n"
     ]
    },
    {
     "name": "stderr",
     "output_type": "stream",
     "text": [
      "C:\\Users\\jonas\\AppData\\Local\\Temp\\ipykernel_9376\\3423221373.py:19: UserWarning: GTSDB caused: 'arxivId'\n",
      "  warnings.warn(f'{paper[\"id\"]} caused: {ex}')\n"
     ]
    },
    {
     "name": "stdout",
     "output_type": "stream",
     "text": [
      "Warning - Response Code  404 DOI 10.1177/0278364913507326\n",
      "Warning - Response Code  404 DOI -\n"
     ]
    },
    {
     "name": "stderr",
     "output_type": "stream",
     "text": [
      "C:\\Users\\jonas\\AppData\\Local\\Temp\\ipykernel_9376\\3423221373.py:19: UserWarning: Malaga Stereo and Laser Urban caused: 'arxivId'\n",
      "  warnings.warn(f'{paper[\"id\"]} caused: {ex}')\n"
     ]
    },
    {
     "name": "stdout",
     "output_type": "stream",
     "text": [
      "Warning - Response Code  404 DOI 10.48550/arXiv.1608.01230\n",
      "Warning - Response Code  404 DOI 10.1109/ICRA.2011.5979636\n"
     ]
    },
    {
     "name": "stderr",
     "output_type": "stream",
     "text": [
      "C:\\Users\\jonas\\AppData\\Local\\Temp\\ipykernel_9376\\3423221373.py:19: UserWarning: Stanford Track Collection caused: 'arxivId'\n",
      "  warnings.warn(f'{paper[\"id\"]} caused: {ex}')\n"
     ]
    },
    {
     "name": "stdout",
     "output_type": "stream",
     "text": [
      "Warning - Response Code  404 DOI 10.48550/arXiv.2006.14480\n",
      "Warning - Response Code  404 DOI 10.48550/arXiv.2006.14480\n",
      "Warning - Response Code  404 DOI 10.48550/arXiv.2006.14480\n",
      "Warning - Response Code  404 DOI 10.48550/arXiv.2004.06320\n",
      "Warning - Response Code  404 DOI 10.1177/0278364919843996\n"
     ]
    },
    {
     "name": "stderr",
     "output_type": "stream",
     "text": [
      "C:\\Users\\jonas\\AppData\\Local\\Temp\\ipykernel_9376\\3423221373.py:19: UserWarning: Complex Urban caused: 'arxivId'\n",
      "  warnings.warn(f'{paper[\"id\"]} caused: {ex}')\n"
     ]
    },
    {
     "name": "stdout",
     "output_type": "stream",
     "text": [
      "Warning - Response Code  404 DOI 10.1177/0278364919843996\n",
      "Warning - Response Code  404 DOI 10.48550/arXiv.1810.08705\n",
      "Warning - Response Code  404 DOI 10.1109/ITSC.2016.7795584\n"
     ]
    },
    {
     "name": "stderr",
     "output_type": "stream",
     "text": [
      "C:\\Users\\jonas\\AppData\\Local\\Temp\\ipykernel_9376\\3423221373.py:19: UserWarning: UAH-DriveSet caused: 'arxivId'\n",
      "  warnings.warn(f'{paper[\"id\"]} caused: {ex}')\n"
     ]
    },
    {
     "name": "stdout",
     "output_type": "stream",
     "text": [
      "Warning - Response Code  404 DOI 10.1109/CVPRW.2016.10\n"
     ]
    },
    {
     "name": "stderr",
     "output_type": "stream",
     "text": [
      "C:\\Users\\jonas\\AppData\\Local\\Temp\\ipykernel_9376\\3423221373.py:19: UserWarning: HD1K caused: 'arxivId'\n",
      "  warnings.warn(f'{paper[\"id\"]} caused: {ex}')\n"
     ]
    },
    {
     "name": "stdout",
     "output_type": "stream",
     "text": [
      "Warning - Response Code  404 DOI 10.48550/arXiv.1911.11132\n",
      "Warning - Response Code  404 DOI 10.48550/arXiv.2106.11037\n",
      "Warning - Response Code  404 DOI 10.1109/ITSC45102.2020.9294728\n"
     ]
    },
    {
     "name": "stderr",
     "output_type": "stream",
     "text": [
      "C:\\Users\\jonas\\AppData\\Local\\Temp\\ipykernel_9376\\3423221373.py:19: UserWarning: rounD caused: 'arxivId'\n",
      "  warnings.warn(f'{paper[\"id\"]} caused: {ex}')\n"
     ]
    },
    {
     "name": "stdout",
     "output_type": "stream",
     "text": [
      "Warning - Response Code  404 DOI 10.48550/arXiv.1904.01975\n",
      "Warning - Response Code  404 DOI 10.48550/arXiv.1812.05752\n",
      "Warning - Response Code  404 DOI -\n",
      "Warning - Response Code  404 DOI 10.48550/arXiv.2104.14812\n",
      "Warning - Response Code  404 DOI 10.48550/arXiv.2104.14812\n",
      "Warning - Response Code  404 DOI 10.48550/arXiv.2006.07864\n",
      "Warning - Response Code  404 DOI 10.5281/ZENODO.4559821\n",
      "Warning - Response Code  404 DOI 10.1109/ICRA.2018.8460737\n",
      "Warning - Response Code  404 DOI 10.1109/ITSC.2019.8917433\n"
     ]
    },
    {
     "name": "stderr",
     "output_type": "stream",
     "text": [
      "C:\\Users\\jonas\\AppData\\Local\\Temp\\ipykernel_9376\\3423221373.py:19: UserWarning: DriveU Traffic Light caused: 'arxivId'\n",
      "  warnings.warn(f'{paper[\"id\"]} caused: {ex}')\n",
      "C:\\Users\\jonas\\AppData\\Local\\Temp\\ipykernel_9376\\3423221373.py:19: UserWarning: PREVENTION caused: 'arxivId'\n",
      "  warnings.warn(f'{paper[\"id\"]} caused: {ex}')\n"
     ]
    },
    {
     "name": "stdout",
     "output_type": "stream",
     "text": [
      "Warning - Response Code  404 DOI 10.48550/arXiv.2106.11810\n",
      "Warning - Response Code  404 DOI 10.1109/ICCVW.2019.00112\n"
     ]
    },
    {
     "name": "stderr",
     "output_type": "stream",
     "text": [
      "C:\\Users\\jonas\\AppData\\Local\\Temp\\ipykernel_9376\\3423221373.py:19: UserWarning: Boxy caused: 'arxivId'\n",
      "  warnings.warn(f'{paper[\"id\"]} caused: {ex}')\n"
     ]
    },
    {
     "name": "stdout",
     "output_type": "stream",
     "text": [
      "Warning - Response Code  404 DOI 10.48550/arXiv.1912.06258\n",
      "Warning - Response Code  404 DOI 10.1109/ITSC.2017.8317749\n"
     ]
    },
    {
     "name": "stderr",
     "output_type": "stream",
     "text": [
      "C:\\Users\\jonas\\AppData\\Local\\Temp\\ipykernel_9376\\3423221373.py:19: UserWarning: TRoM caused: 'arxivId'\n",
      "  warnings.warn(f'{paper[\"id\"]} caused: {ex}')\n"
     ]
    },
    {
     "name": "stdout",
     "output_type": "stream",
     "text": [
      "Warning - Response Code  404 DOI -\n",
      "Warning - Response Code  404 DOI 10.1109/CVPRW56347.2022.00491\n",
      "Warning - Response Code  404 DOI 10.1109/CVPR52688.2022.02066\n"
     ]
    },
    {
     "name": "stderr",
     "output_type": "stream",
     "text": [
      "C:\\Users\\jonas\\AppData\\Local\\Temp\\ipykernel_9376\\3423221373.py:19: UserWarning: WildDash 2 caused: 'arxivId'\n",
      "  warnings.warn(f'{paper[\"id\"]} caused: {ex}')\n"
     ]
    },
    {
     "name": "stdout",
     "output_type": "stream",
     "text": [
      "Warning - Response Code  404 DOI 10.5281/zenodo.4389243\n",
      "Warning - Response Code  404 DOI 10.1109/iv51971.2022.9827157\n"
     ]
    },
    {
     "name": "stderr",
     "output_type": "stream",
     "text": [
      "C:\\Users\\jonas\\AppData\\Local\\Temp\\ipykernel_9376\\3423221373.py:19: UserWarning: LUMPI caused: 'arxivId'\n",
      "  warnings.warn(f'{paper[\"id\"]} caused: {ex}')\n"
     ]
    },
    {
     "name": "stdout",
     "output_type": "stream",
     "text": [
      "Warning - Response Code  404 DOI 10.48550/arXiv.2206.00527\n",
      "Warning - Response Code  404 DOI 10.48550/arXiv.2211.09445\n",
      "Warning - Response Code  404 DOI 10.48550/arXiv.2211.09342\n",
      "Warning - Response Code  404 DOI 10.1109/CVPRW56347.2022.00498\n"
     ]
    },
    {
     "name": "stderr",
     "output_type": "stream",
     "text": [
      "C:\\Users\\jonas\\AppData\\Local\\Temp\\ipykernel_9376\\3423221373.py:19: UserWarning: CarlaScenes caused: 'arxivId'\n",
      "  warnings.warn(f'{paper[\"id\"]} caused: {ex}')\n"
     ]
    },
    {
     "name": "stdout",
     "output_type": "stream",
     "text": [
      "Warning - Response Code  404 DOI 10.1109/CVPRW56347.2022.00490\n",
      "Warning - Response Code  404 DOI 10.1109/ICPR48806.2021.9412960\n"
     ]
    },
    {
     "name": "stderr",
     "output_type": "stream",
     "text": [
      "C:\\Users\\jonas\\AppData\\Local\\Temp\\ipykernel_9376\\3423221373.py:19: UserWarning: RoadSaW caused: 'arxivId'\n",
      "  warnings.warn(f'{paper[\"id\"]} caused: {ex}')\n",
      "C:\\Users\\jonas\\AppData\\Local\\Temp\\ipykernel_9376\\3423221373.py:19: UserWarning: VLMV - Vehicle Lane Merge Visual Benchmark caused: 'arxivId'\n",
      "  warnings.warn(f'{paper[\"id\"]} caused: {ex}')\n"
     ]
    },
    {
     "name": "stdout",
     "output_type": "stream",
     "text": [
      "Warning - Response Code  404 DOI 10.15607/RSS.2021.XVII.080\n"
     ]
    },
    {
     "name": "stderr",
     "output_type": "stream",
     "text": [
      "C:\\Users\\jonas\\AppData\\Local\\Temp\\ipykernel_9376\\3423221373.py:19: UserWarning: GROUNDED caused: 'arxivId'\n",
      "  warnings.warn(f'{paper[\"id\"]} caused: {ex}')\n"
     ]
    },
    {
     "name": "stdout",
     "output_type": "stream",
     "text": [
      "Warning - Response Code  404 DOI 10.1109/iv51971.2022.9827305\n"
     ]
    },
    {
     "name": "stderr",
     "output_type": "stream",
     "text": [
      "C:\\Users\\jonas\\AppData\\Local\\Temp\\ipykernel_9376\\3423221373.py:19: UserWarning: exiD caused: 'arxivId'\n",
      "  warnings.warn(f'{paper[\"id\"]} caused: {ex}')\n"
     ]
    },
    {
     "name": "stdout",
     "output_type": "stream",
     "text": [
      "Warning - Response Code  404 DOI 10.48550/arXiv.2206.08171\n"
     ]
    },
    {
     "name": "stderr",
     "output_type": "stream",
     "text": [
      "C:\\Users\\jonas\\AppData\\Local\\Temp\\ipykernel_9376\\3423221373.py:19: UserWarning: K-Radar caused: 'arxivId'\n",
      "  warnings.warn(f'{paper[\"id\"]} caused: {ex}')\n"
     ]
    },
    {
     "name": "stdout",
     "output_type": "stream",
     "text": [
      "Warning - Response Code  404 DOI 10.48550/arXiv.2109.07995\n",
      "Warning - Response Code  404\n"
     ]
    },
    {
     "name": "stderr",
     "output_type": "stream",
     "text": [
      "C:\\Users\\jonas\\AppData\\Local\\Temp\\ipykernel_9376\\3423221373.py:19: UserWarning: R3 Driving caused: Expecting value: line 1 column 1 (char 0)\n",
      "  warnings.warn(f'{paper[\"id\"]} caused: {ex}')\n"
     ]
    },
    {
     "name": "stdout",
     "output_type": "stream",
     "text": [
      "Warning - Response Code  404 DOI 10.48550/arXiv.2203.07724\n",
      "Warning - Response Code  404 DOI 10.48550/arXiv.2106.11118\n",
      "Warning - Response Code  404 DOI 10.48550/arXiv.2204.06527\n",
      "Warning - Response Code  404 DOI 10.1109/ICRA40945.2020.9197298\n"
     ]
    },
    {
     "name": "stderr",
     "output_type": "stream",
     "text": [
      "C:\\Users\\jonas\\AppData\\Local\\Temp\\ipykernel_9376\\3423221373.py:19: UserWarning: MuIRan caused: 'arxivId'\n",
      "  warnings.warn(f'{paper[\"id\"]} caused: {ex}')\n"
     ]
    },
    {
     "name": "stdout",
     "output_type": "stream",
     "text": [
      "Warning - Response Code  404 DOI 10.48550/arXiv.2203.00214\n",
      "Warning - Response Code  404 DOI 10.48550/arXiv.2203.10168\n",
      "Warning - Response Code  404\n"
     ]
    },
    {
     "name": "stderr",
     "output_type": "stream",
     "text": [
      "C:\\Users\\jonas\\AppData\\Local\\Temp\\ipykernel_9376\\3423221373.py:19: UserWarning: Boreas caused: Expecting value: line 1 column 1 (char 0)\n",
      "  warnings.warn(f'{paper[\"id\"]} caused: {ex}')\n"
     ]
    },
    {
     "name": "stdout",
     "output_type": "stream",
     "text": [
      "Warning - Response Code  404 DOI 10.1109/tvt.2022.3143173\n"
     ]
    },
    {
     "name": "stderr",
     "output_type": "stream",
     "text": [
      "C:\\Users\\jonas\\AppData\\Local\\Temp\\ipykernel_9376\\3423221373.py:19: UserWarning: OpenMPD caused: 'arxivId'\n",
      "  warnings.warn(f'{paper[\"id\"]} caused: {ex}')\n"
     ]
    },
    {
     "name": "stdout",
     "output_type": "stream",
     "text": [
      "Warning - Response Code  404 DOI 10.48550/arXiv.2210.02074\n",
      "Warning - Response Code  404 DOI 10.48550/arXiv.2210.02074\n",
      "Warning - Response Code  404 DOI 10.48550/arXiv.2210.02074\n",
      "Warning - Response Code  404 DOI 10.1109/ACCESS.2022.3144076\n"
     ]
    },
    {
     "name": "stderr",
     "output_type": "stream",
     "text": [
      "C:\\Users\\jonas\\AppData\\Local\\Temp\\ipykernel_9376\\3423221373.py:19: UserWarning: Autonomous Platform Inertial caused: 'arxivId'\n",
      "  warnings.warn(f'{paper[\"id\"]} caused: {ex}')\n"
     ]
    },
    {
     "name": "stdout",
     "output_type": "stream",
     "text": [
      "Warning - Response Code  404 DOI 10.1109/ICASSP43922.2022.9747779\n"
     ]
    },
    {
     "name": "stderr",
     "output_type": "stream",
     "text": [
      "C:\\Users\\jonas\\AppData\\Local\\Temp\\ipykernel_9376\\3423221373.py:19: UserWarning: HDBD caused: 'arxivId'\n",
      "  warnings.warn(f'{paper[\"id\"]} caused: {ex}')\n"
     ]
    },
    {
     "name": "stdout",
     "output_type": "stream",
     "text": [
      "Warning - Response Code  404 DOI 10.1109/IROS40897.2019.8968283\n",
      "Warning - Response Code  404 DOI 10.48550/arXiv.1712.02463\n"
     ]
    },
    {
     "name": "stderr",
     "output_type": "stream",
     "text": [
      "C:\\Users\\jonas\\AppData\\Local\\Temp\\ipykernel_9376\\3423221373.py:19: UserWarning: RUGD: Robot Unstructured Ground Driving caused: 'arxivId'\n",
      "  warnings.warn(f'{paper[\"id\"]} caused: {ex}')\n"
     ]
    },
    {
     "name": "stdout",
     "output_type": "stream",
     "text": [
      "found: 159 / 186\n"
     ]
    }
   ],
   "source": [
    "suffix = '_22_12_2022'\n",
    "file_name = f'data/data_sorted_only_w_ids{suffix}.json'\n",
    "with open(file_name, \"r\") as ds:\n",
    "    retrieved_data = json.load(ds)\n",
    "print('Number of Datasets:', len(retrieved_data))\n",
    "c = 0\n",
    "c_doi = 0\n",
    "for idx_paper, paper in enumerate(retrieved_data):\n",
    "    c += 1\n",
    "    try:\n",
    "        doi = paper['DOI']\n",
    "        r = altmetric_doi_requests(doi)\n",
    "        c_doi += 1\n",
    "    except:\n",
    "        try:\n",
    "            r = altmetric_arxiv_requests(paper['arxivId'])\n",
    "            c_doi += 1\n",
    "        except Exception as ex:\n",
    "            warnings.warn(f'{paper[\"id\"]} reqeust caused: {ex}')\n",
    "        continue\n",
    "    try:\n",
    "        alt_values = get_alt_values(r)\n",
    "    except:\n",
    "        try:\n",
    "            alt_values = get_reduced_alt_values(r)\n",
    "        except Exception as exec:\n",
    "            print(exec)\n",
    "            c_doi -= 1\n",
    "    retrieved_data[idx_paper].update({'altmetrics': alt_values})\n",
    "#with open(f'data/data_sorted_only_w_ids{suffix}_altmetrics.json', 'w', encoding='utf-8') as f:\n",
    "#    json.dump(retrieved_data, f)\n",
    "print('found:', c_doi, '/', c)"
   ],
   "metadata": {
    "collapsed": false,
    "pycharm": {
     "name": "#%%\n"
    }
   }
  },
  {
   "cell_type": "code",
   "execution_count": 63,
   "outputs": [
    {
     "data": {
      "text/plain": "26"
     },
     "execution_count": 63,
     "metadata": {},
     "output_type": "execute_result"
    }
   ],
   "source": [
    "zero_counter = 0\n",
    "for data in retrieved_data:\n",
    "    try:\n",
    "        perc = data['altmetrics'][1]['percentile']\n",
    "        if perc >= 1:\n",
    "            zero_counter += 1\n",
    "    except:\n",
    "        continue\n",
    "zero_counter"
   ],
   "metadata": {
    "collapsed": false,
    "pycharm": {
     "name": "#%%\n"
    }
   }
  },
  {
   "cell_type": "code",
   "execution_count": 51,
   "outputs": [],
   "source": [
    "doi = '10.1177%2F0278364913491297'\n",
    "r = requests.get(f'https://api.altmetric.com/v1/fetch/doi/{doi}?key={alt_metric_key}')"
   ],
   "metadata": {
    "collapsed": false,
    "pycharm": {
     "name": "#%%\n"
    }
   }
  },
  {
   "cell_type": "code",
   "execution_count": 57,
   "outputs": [
    {
     "name": "stdout",
     "output_type": "stream",
     "text": [
      "KITTI-360 PanopticBEV ({'score': 1}, {'percentile': 22}, {'similar_age_3m_percentile': {'total_number_of_other_articles': 470716, 'mean': 15.343056981278384, 'rank': 272899, 'this_scored_higher_than_pct': 31, 'this_scored_higher_than': 147657, 'rank_type': 'exact', 'sample_size': 470716, 'percentile': 31}}, {'total_readers': 64}) \n",
      "\n",
      "nuScenes PanopticBEV ({'score': 1}, {'percentile': 22}, {'similar_age_3m_percentile': {'total_number_of_other_articles': 470716, 'mean': 15.343056981278384, 'rank': 272899, 'this_scored_higher_than_pct': 31, 'this_scored_higher_than': 147657, 'rank_type': 'exact', 'sample_size': 470716, 'percentile': 31}}, {'total_readers': 64}) \n",
      "\n",
      "ScribbleKITTI ({'score': 0}, {'percentile': nan}, {'similar_age_3m_percentile': nan}, {'total_readers': 0}) \n",
      "\n",
      "SHIFT ({'score': 0}, {'percentile': nan}, {'similar_age_3m_percentile': nan}, {'total_readers': 63}) \n",
      "\n",
      "CrashD ({'score': 0}, {'percentile': nan}, {'similar_age_3m_percentile': nan}, {'total_readers': 30}) \n",
      "\n",
      "Rope3D ({'score': 0}, {'percentile': nan}, {'similar_age_3m_percentile': nan}, {'total_readers': 29}) \n",
      "\n",
      "R-U-MAAD ({'score': 0}, {'percentile': nan}, {'similar_age_3m_percentile': nan}, {'total_readers': 3}) \n",
      "\n"
     ]
    }
   ],
   "source": [
    "c = 0\n",
    "for paper in retrieved_data:\n",
    "    try:\n",
    "        year = int(paper['publishDate'][:4])\n",
    "\n",
    "    except:\n",
    "        continue\n",
    "    #print(year)\n",
    "    if year == 2022:\n",
    "        try:\n",
    "            print(paper['id'], paper['altmetrics'], '\\n')\n",
    "            c += 1\n",
    "        except:\n",
    "            continue"
   ],
   "metadata": {
    "collapsed": false,
    "pycharm": {
     "name": "#%%\n"
    }
   }
  },
  {
   "cell_type": "code",
   "execution_count": 53,
   "outputs": [],
   "source": [
    "import pandas as pd\n",
    "test = pd.Series([-100, -100, 0, 2, 3])"
   ],
   "metadata": {
    "collapsed": false,
    "pycharm": {
     "name": "#%%\n"
    }
   }
  },
  {
   "cell_type": "code",
   "execution_count": 54,
   "outputs": [
    {
     "data": {
      "text/plain": "0    0.3\n1    0.3\n2    0.6\n3    0.8\n4    1.0\ndtype: float64"
     },
     "execution_count": 54,
     "metadata": {},
     "output_type": "execute_result"
    }
   ],
   "source": [
    "test.rank(pct=True)"
   ],
   "metadata": {
    "collapsed": false,
    "pycharm": {
     "name": "#%%\n"
    }
   }
  },
  {
   "cell_type": "code",
   "execution_count": 55,
   "outputs": [
    {
     "data": {
      "text/plain": "0    0.3\n1    0.3\n2    0.6\n3    0.8\n4    1.0\ndtype: float64"
     },
     "execution_count": 55,
     "metadata": {},
     "output_type": "execute_result"
    }
   ],
   "source": [
    "test.rank(pct=True).rank(pct=True)"
   ],
   "metadata": {
    "collapsed": false,
    "pycharm": {
     "name": "#%%\n"
    }
   }
  },
  {
   "cell_type": "code",
   "execution_count": 55,
   "outputs": [],
   "source": [],
   "metadata": {
    "collapsed": false,
    "pycharm": {
     "name": "#%%\n"
    }
   }
  }
 ],
 "metadata": {
  "kernelspec": {
   "display_name": "Python 3",
   "language": "python",
   "name": "python3"
  },
  "language_info": {
   "codemirror_mode": {
    "name": "ipython",
    "version": 2
   },
   "file_extension": ".py",
   "mimetype": "text/x-python",
   "name": "python",
   "nbconvert_exporter": "python",
   "pygments_lexer": "ipython2",
   "version": "2.7.6"
  }
 },
 "nbformat": 4,
 "nbformat_minor": 0
}