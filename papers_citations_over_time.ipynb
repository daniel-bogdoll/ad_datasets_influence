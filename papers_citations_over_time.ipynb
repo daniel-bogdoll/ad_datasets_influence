{
 "cells": [
  {
   "cell_type": "code",
   "execution_count": 21,
   "metadata": {
    "collapsed": true
   },
   "outputs": [],
   "source": [
    "import json\n",
    "import os\n",
    "import numpy as np\n",
    "import matplotlib.pyplot as plt\n",
    "from operator import itemgetter\n",
    "import pandas as pd"
   ]
  },
  {
   "cell_type": "code",
   "execution_count": 22,
   "outputs": [
    {
     "name": "stdout",
     "output_type": "stream",
     "text": [
      "Added  req4Seasons.json\n",
      "Added  reqA2D2.json\n",
      "Added  reqA3D.json\n",
      "Added  reqA9.json\n",
      "Added  reqaiMotive.json\n",
      "Added  reqAmodalCityscapes.json\n",
      "Added  reqAMUSE.json\n",
      "Added  reqApolloScape.json\n",
      "Added  reqArgoverse1Stereo.json\n",
      "Added  reqArgoverse3DTracking.json\n",
      "Added  reqArgoverseMotionForecasting.json\n",
      "Added  reqAugKITTI.json\n",
      "Added  reqAutomatumOpenHighway.json\n",
      "Added  reqAutonomousPlatformInertial.json\n",
      "Added  reqBayArea.json\n",
      "Added  reqBDD100k.json\n",
      "Added  reqBeyondPASCAL.json\n",
      "Added  reqBLVD.json\n",
      "Added  reqBoreas.json\n",
      "Added  reqBoschSmallTrafficLightsDataset.json\n",
      "Added  reqBoschTL.json\n",
      "Added  reqBoxCars116k.json\n",
      "Added  reqBoxy.json\n",
      "Added  reqBrain4Cars.json\n",
      "Added  reqCADC.json\n",
      "Added  reqCADP.json\n",
      "Added  reqCaltechLanes.json\n",
      "Added  reqCaltechPedestrian.json\n",
      "Added  reqCamVid.json\n",
      "Added  reqCarlaScenes.json\n",
      "Added  reqCARLAWildLifeCWL.json\n",
      "Added  reqCARRADA.json\n",
      "Added  reqCars.json\n",
      "Added  reqCCSAD.json\n",
      "Added  reqCityscapes3D.json\n",
      "Added  reqCityscapesDVPS.json\n",
      "Added  reqCODA.json\n",
      "Added  reqComma2k19.json\n",
      "Added  reqcommaai.json\n",
      "Added  reqComplexUrban.json\n",
      "Added  reqCooperativeDrivingCODD.json\n",
      "Added  reqCrashD.json\n",
      "Added  reqCULane.json\n",
      "Added  reqCURETSD.json\n",
      "Added  reqCURETSR.json\n",
      "Added  reqD2City.json\n",
      "Added  reqDBNet.json\n",
      "Added  reqDDAD.json\n",
      "Added  reqDDD20DAVISDriving2020.json\n",
      "Added  reqDGLMOTS.json\n",
      "Added  reqDIPLECSAutonomousDriving.json\n",
      "Added  reqDReyeVE.json\n",
      "Added  reqDRIV100.json\n",
      "Added  reqDriveUTrafficLight.json\n",
      "Added  reqETHPedestrian.json\n",
      "Added  reqEuroCityPersons.json\n",
      "Added  reqexiD.json\n",
      "Added  reqFishyscapes.json\n",
      "Added  reqFiveRoundabouts.json\n",
      "Added  reqFordAutonomousVehicle.json\n",
      "Added  reqFordCAMPUS.json\n",
      "Added  reqGated2Depth.json\n",
      "Added  reqGated2Gated.json\n",
      "Added  reqGROUNDED.json\n",
      "Added  reqGroundTruthStixel.json\n",
      "Added  reqGTA5.json\n",
      "Added  reqGTSDB.json\n",
      "Added  reqGTSRB.json\n",
      "Added  reqH3D.json\n",
      "Added  reqHAD.json\n",
      "Added  reqHCIChallengingStereo.json\n",
      "Added  reqHD1K.json\n",
      "Added  reqHDBD.json\n",
      "Added  reqHDD.json\n",
      "Added  reqHEVI.json\n",
      "Added  reqhighD.json\n",
      "Added  reqHSD.json\n",
      "Added  reqIDDA.json\n",
      "Added  reqIlluminationChangesinaday.json\n",
      "Added  reqinD.json\n",
      "Added  reqIndiaDriving.json\n",
      "Added  reqINTERACTION.json\n",
      "Added  reqIPS300.json\n",
      "Added  reqIseeyou.json\n",
      "Added  reqJAAD.json\n",
      "Added  reqKAISTMultiSpectralDayNight.json\n",
      "Added  reqKITTI.json\n",
      "Added  reqKITTI360.json\n",
      "Added  reqKITTI360PanopticBEV.json\n",
      "Added  reqKLane.json\n",
      "Added  reqKRadar.json\n",
      "Added  reqLIBRE.json\n",
      "Added  reqLiDARVideoDriving.json\n",
      "Added  reqLISAAmazonMLSLVehicleAttributesLAVA.json\n",
      "Added  reqLISATrafficLight.json\n",
      "Added  reqLISATrafficSign.json\n",
      "Added  reqLOKI.json\n",
      "Added  reqLostAndFound.json\n",
      "Added  reqLUMPI.json\n",
      "Added  reqLyftLevel5Perception.json\n",
      "Added  reqLyftLevel5Prediction.json\n",
      "Added  reqMalagaStereoandLaserUrban.json\n",
      "Added  reqMapillaryVistas.json\n",
      "Added  reqMAVDMultimodalAudioVisualDetection.json\n",
      "Added  reqMCityDataCollection.json\n",
      "Added  reqMITAVTClusteredDrivingScene.json\n",
      "Added  reqMOTSynth.json\n",
      "Added  reqMTSD.json\n",
      "Added  reqMuIRan.json\n",
      "Added  reqMultiVehicleStereoEventCamera.json\n",
      "Added  reqNCLT.json\n",
      "Added  reqNightOwls.json\n",
      "Added  reqNighttimeDriving.json\n",
      "Added  reqNoCrash.json\n",
      "Added  reqnuImages.json\n",
      "Added  reqnuPlan.json\n",
      "Added  reqnuScenes.json\n",
      "Added  reqnuScenesPanopticBEV.json\n",
      "Added  reqONCE.json\n",
      "Added  reqOneThousandandOneHours.json\n",
      "Added  reqopenDD.json\n",
      "Added  reqOpenMPD.json\n",
      "Added  reqOxfordRadarRobotCar.json\n",
      "Added  reqOxfordRobotCar.json\n",
      "Added  reqPepScenes.json\n",
      "Added  reqPIE.json\n",
      "Added  reqPointCloudDeNoising.json\n",
      "Added  reqPREVENTION.json\n",
      "Added  reqProvidentVehicleDetectionatNightPVDN.json\n",
      "Added  reqR3Driving.json\n",
      "Added  reqRadarScenes.json\n",
      "Added  reqRADIATE.json\n",
      "Added  reqRaincouver.json\n",
      "Added  reqRANUS.json\n",
      "Added  reqRELLIS3D.json\n",
      "Added  reqROAD.json\n",
      "Added  reqRoadAnomaly21.json\n",
      "Added  reqRoadDamage.json\n",
      "Added  reqRoadObstacle21.json\n",
      "Added  reqRoadSaW.json\n",
      "Added  reqRope3D.json\n",
      "Added  reqrounD.json\n",
      "Added  reqRUGDRobotUnstructuredGroundDriving.json\n",
      "Added  reqRUMAAD.json\n",
      "Added  reqScribbleKITTI.json\n",
      "Added  reqSeasonalVariation.json\n",
      "Added  reqSeeingThroughFog.json\n",
      "Added  reqSemanticKITTI.json\n",
      "Added  reqSemanticPOSS.json\n",
      "Added  reqSemanticUSL.json\n",
      "Added  reqSemKITTIDVPS.json\n",
      "Added  reqSHIFT.json\n",
      "Added  reqSmallObstacle.json\n",
      "Added  reqSODA10M.json\n",
      "Added  reqStanfordDrone.json\n",
      "Added  reqStanfordTrackCollection.json\n",
      "Added  reqStreetHazards.json\n",
      "Added  reqStreetLearn.json\n",
      "Added  reqStreetObstacleSequencesSOS.json\n",
      "Added  reqSynscapes.json\n",
      "Added  reqSyntheticDiscrepancy.json\n",
      "Added  reqSynthia.json\n",
      "Added  reqTAFBW.json\n",
      "Added  reqTalk2Car.json\n",
      "Added  reqTITAN.json\n",
      "Added  reqTMEMotorway.json\n",
      "Added  reqToronto3D.json\n",
      "Added  reqTRoM.json\n",
      "Added  reqTsinghuaDaimlerCyclistDetection.json\n",
      "Added  reqTT100K.json\n",
      "Added  reqTUDBrussels.json\n",
      "Added  reqUAHDriveSet.json\n",
      "Added  reqUnsupervisedLlamas.json\n",
      "Added  reqUSydCampus.json\n",
      "Added  reqUTBMEULTD.json\n",
      "Added  reqVLMVVehicleLaneMergeVisualBenchmark.json\n",
      "Added  reqVPGNet.json\n",
      "Added  reqWaymoBlockNeRF.json\n",
      "Added  reqWaymoOpenMotion.json\n",
      "Added  reqWaymoOpenPerception.json\n",
      "Added  reqWildDash.json\n",
      "Added  reqWildDash2.json\n",
      "Added  reqWoodScape.json\n",
      "Added  reqWuppertalObstacleSequencesWOS.json\n",
      "Added  reqWZtraffic.json\n"
     ]
    }
   ],
   "source": [
    "wd = os.getcwd()\n",
    "wd = wd.replace('.ipynb_checkpoints', '')\n",
    "directory = os.path.join(wd, 'data', 'requests5')\n",
    "retrieved_data =  []\n",
    "for file in os.listdir(directory):\n",
    "    with open(os.path.join(directory, file), \"r\") as j:\n",
    "        a = json.loads(j.read())\n",
    "        retrieved_data.append(a)\n",
    "        print('Added ', file)\n",
    "#retrieved_data\n",
    "retrieved_data = sorted(retrieved_data, key=itemgetter('citationCount'), reverse=True)"
   ],
   "metadata": {
    "collapsed": false,
    "pycharm": {
     "name": "#%%\n"
    }
   }
  },
  {
   "cell_type": "markdown",
   "source": [
    "Paper releases over time"
   ],
   "metadata": {
    "collapsed": false,
    "pycharm": {
     "name": "#%% md\n"
    }
   }
  },
  {
   "cell_type": "code",
   "execution_count": 23,
   "outputs": [],
   "source": [
    "publications = []\n",
    "for o_paper in retrieved_data:\n",
    "    publications.append(o_paper['paperInfo']['year'])"
   ],
   "metadata": {
    "collapsed": false,
    "pycharm": {
     "name": "#%%\n"
    }
   }
  },
  {
   "cell_type": "code",
   "execution_count": 24,
   "outputs": [
    {
     "name": "stdout",
     "output_type": "stream",
     "text": [
      "[[0. 0. 0. 0. 0. 0. 0. 0. 0. 0. 0. 0. 0. 0. 0. 0.]]\n"
     ]
    },
    {
     "data": {
      "text/plain": "array([[4.000e+00, 5.300e+01, 1.500e+02, 2.230e+02, 2.410e+02, 3.180e+02,\n        4.930e+02, 7.550e+02, 9.830e+02, 1.762e+03, 2.838e+03, 4.545e+03,\n        7.127e+03, 8.654e+03, 9.898e+03, 2.600e+01]])"
     },
     "execution_count": 24,
     "metadata": {},
     "output_type": "execute_result"
    }
   ],
   "source": [
    "total_citations = np.zeros((1, 16))\n",
    "print(total_citations)\n",
    "for o_paper in retrieved_data:\n",
    "    if 'citations' in o_paper['paperInfo'].keys():\n",
    "        for citation in o_paper['paperInfo']['citations']:\n",
    "            if 'year' in citation.keys():\n",
    "                year = citation['year']\n",
    "                if year is not None:\n",
    "                    total_citations[0, year-2008] += 1\n",
    "total_citations"
   ],
   "metadata": {
    "collapsed": false,
    "pycharm": {
     "name": "#%%\n"
    }
   }
  },
  {
   "cell_type": "code",
   "execution_count": 25,
   "outputs": [],
   "source": [
    "citations = pd.Series(publications).value_counts().sort_index()"
   ],
   "metadata": {
    "collapsed": false,
    "pycharm": {
     "name": "#%%\n"
    }
   }
  },
  {
   "cell_type": "code",
   "execution_count": 36,
   "outputs": [
    {
     "data": {
      "text/plain": "<Figure size 432x288 with 2 Axes>",
      "image/png": "[encoded data removed]"
     },
     "metadata": {
      "needs_background": "light"
     },
     "output_type": "display_data"
    }
   ],
   "source": [
    "fig,ax = plt.subplots()\n",
    "ax.plot(citations.index, citations, color='#648fff')\n",
    "ax.set_ylabel('publications', color='#648fff')\n",
    "ax.set_xlabel('year')\n",
    "\n",
    "ax2=ax.twinx()\n",
    "ax2.plot(citations.index, total_citations[0][1:-1], color='#dc267f')\n",
    "ax2.set_ylabel('total citations', color='#dc267f')\n",
    "plt.savefig('output/growth_publications_and_citations.pdf', bbox_inches='tight')\n",
    "plt.show()"
   ],
   "metadata": {
    "collapsed": false,
    "pycharm": {
     "name": "#%%\n"
    }
   }
  },
  {
   "cell_type": "code",
   "execution_count": 33,
   "outputs": [],
   "source": [
    "publications = []\n",
    "for o_paper in retrieved_data:\n",
    "    publications.append(o_paper['paperInfo']['year'])"
   ],
   "metadata": {
    "collapsed": false,
    "pycharm": {
     "name": "#%%\n"
    }
   }
  },
  {
   "cell_type": "code",
   "execution_count": 34,
   "outputs": [],
   "source": [
    "features = ['number of scenes', 'storage size [GB]', 'total length [h]', 'number of sensors'] #,  'Altmetric score at 3 mos'"
   ],
   "metadata": {
    "collapsed": false,
    "pycharm": {
     "name": "#%%\n"
    }
   }
  },
  {
   "cell_type": "code",
   "execution_count": 35,
   "outputs": [
    {
     "ename": "ValueError",
     "evalue": "could not convert string to float: ''",
     "output_type": "error",
     "traceback": [
      "\u001B[1;31m---------------------------------------------------------------------------\u001B[0m",
      "\u001B[1;31mValueError\u001B[0m                                Traceback (most recent call last)",
      "Input \u001B[1;32mIn [35]\u001B[0m, in \u001B[0;36m<cell line: 3>\u001B[1;34m()\u001B[0m\n\u001B[0;32m     46\u001B[0m \u001B[38;5;28;01mexcept\u001B[39;00m:\n\u001B[0;32m     47\u001B[0m     \u001B[38;5;28;01mpass\u001B[39;00m\n\u001B[1;32m---> 48\u001B[0m meta_data[index, :] \u001B[38;5;241m=\u001B[39m [year, numberOfScenes, size_storage, size_hours, sensors_value]\n",
      "\u001B[1;31mValueError\u001B[0m: could not convert string to float: ''"
     ]
    }
   ],
   "source": [
    "meta_data = np.empty((len(retrieved_data), len(features)+1))\n",
    "meta_data[:] = np.NAN\n",
    "for index, o_paper in enumerate(retrieved_data):\n",
    "    if 'year' in o_paper['paperInfo'].keys():\n",
    "        altmetric = np.NAN\n",
    "        sensors_value = np.NAN\n",
    "        frames_value = np.NAN\n",
    "        lengthOfScenes = np.NAN\n",
    "        numberOfScenes = np.NAN\n",
    "        size_hours = np.NAN\n",
    "        size_storage = np.NAN\n",
    "\n",
    "        year = o_paper['paperInfo']['year']\n",
    "        try:\n",
    "            altmetric = o_paper['altmetrics'][2]['similar_age_3m_percentile']\n",
    "        except:\n",
    "            pass\n",
    "        try:\n",
    "            if o_paper['sensors'] != \"-\":\n",
    "                sensors_value = int(len(list(o_paper['sensors'].split(','))))\n",
    "        except:\n",
    "            pass\n",
    "        try:\n",
    "            if o_paper['frames'] != \"-\":\n",
    "                frames_value = o_paper['frames']\n",
    "        except:\n",
    "            pass\n",
    "        try:\n",
    "            if o_paper['lengthOfScenes'] != \"-\":\n",
    "                lengthOfScenes = o_paper['lengthOfScenes']\n",
    "        except:\n",
    "            pass\n",
    "        try:\n",
    "            if o_paper['numberOfScenes'] != \"-\":\n",
    "                numberOfScenes = o_paper['numberOfScenes']\n",
    "        except:\n",
    "            pass\n",
    "        try:\n",
    "            if o_paper['size_hours'] != \"-\":\n",
    "                size_hours = o_paper['size_hours']\n",
    "        except:\n",
    "            pass\n",
    "        try:\n",
    "            if o_paper['size_storage'] != \"-\" and len(o_paper['size_storage']) > 0:\n",
    "                size_storage = o_paper['size_storage']\n",
    "        except:\n",
    "            pass\n",
    "        meta_data[index, :] = [year, numberOfScenes, size_storage, size_hours, sensors_value] #, altmetric"
   ],
   "metadata": {
    "collapsed": false,
    "pycharm": {
     "name": "#%%\n"
    }
   }
  },
  {
   "cell_type": "code",
   "execution_count": null,
   "outputs": [],
   "source": [
    "meta_data"
   ],
   "metadata": {
    "collapsed": false,
    "pycharm": {
     "name": "#%%\n"
    }
   }
  },
  {
   "cell_type": "code",
   "execution_count": null,
   "outputs": [],
   "source": [
    "df_meta_data = pd.DataFrame(meta_data).set_index(0)\n"
   ],
   "metadata": {
    "collapsed": false,
    "pycharm": {
     "name": "#%%\n"
    }
   }
  },
  {
   "cell_type": "code",
   "execution_count": null,
   "outputs": [],
   "source": [
    "df_meta_data.columns = features"
   ],
   "metadata": {
    "collapsed": false,
    "pycharm": {
     "name": "#%%\n"
    }
   }
  },
  {
   "cell_type": "code",
   "execution_count": null,
   "outputs": [],
   "source": [
    "array = np.empty((len(features), 15))\n",
    "array[:] = np.NAN\n",
    "for index_type, col in enumerate(df_meta_data.columns):\n",
    "    for index_year, year in enumerate(range(2008, 2023)):\n",
    "        annual_data = df_meta_data[df_meta_data.index==year]\n",
    "        array[index_type, index_year] = annual_data[col].mean()"
   ],
   "metadata": {
    "collapsed": false,
    "pycharm": {
     "name": "#%%\n"
    }
   }
  },
  {
   "cell_type": "code",
   "execution_count": null,
   "outputs": [],
   "source": [
    "std = np.empty((len(features), 15))\n",
    "std[:] = np.NAN\n",
    "for index_type, col in enumerate(df_meta_data.columns):\n",
    "    for index_year, year in enumerate(range(2008, 2023)):\n",
    "        annual_data = df_meta_data[df_meta_data.index==year]\n",
    "        std[index_type, index_year] = annual_data[col].std()\n",
    "std"
   ],
   "metadata": {
    "collapsed": false,
    "pycharm": {
     "name": "#%%\n"
    }
   }
  },
  {
   "cell_type": "code",
   "execution_count": null,
   "outputs": [],
   "source": [
    "colors = ['#648fff', '#fe6100', '#dc267f', '#ffb000'] #, '#785ef0'\n",
    "for idx, row in enumerate(features):\n",
    "    plt.semilogy([*range(2012, 2022)], array[idx, 4:14], label=row, color=colors[idx])\n",
    "\n",
    "    #if array[idx, 4:14] == np.NaN or std[idx, 4:14] == 0:\n",
    "    #upper_std = (array[idx, 4:14] + std[idx, 4:14])\n",
    "    #lower_std = (array[idx, 4:14] - std[idx, 4:14])\n",
    "    #else:\n",
    "    #    upper_std = array[idx, 4:14]\n",
    "    #    lower_std = array[idx, 4:14]\n",
    "    #plt.fill_between([*range(2012, 2022)], lower_std, upper_std, color=colors[idx], alpha=0.1)\n",
    "    plt.xlim(2012, 2021)\n",
    "handles, labels = plt.gca().get_legend_handles_labels()\n",
    "order = [0, 1, 2, 3]\n",
    "plt.legend([handles[idx] for idx in order],[labels[idx] for idx in order], loc='best')\n",
    "plt.xticks([*range(2012, 2022)])\n",
    "plt.xlabel('year of publication')\n",
    "plt.ylabel('log(y)')\n",
    "plt.savefig('growth_of_data.pdf', bbox_inches='tight')\n",
    "plt.show()\n",
    "#plt.ylim(0, 1000)\n",
    "\n",
    "#plt.show()"
   ],
   "metadata": {
    "collapsed": false,
    "pycharm": {
     "name": "#%%\n"
    }
   }
  },
  {
   "cell_type": "code",
   "execution_count": null,
   "outputs": [],
   "source": [
    "print(features)"
   ],
   "metadata": {
    "collapsed": false,
    "pycharm": {
     "name": "#%%\n"
    }
   }
  },
  {
   "cell_type": "code",
   "execution_count": null,
   "outputs": [],
   "source": [],
   "metadata": {
    "collapsed": false,
    "pycharm": {
     "name": "#%%\n"
    }
   }
  }
 ],
 "metadata": {
  "kernelspec": {
   "display_name": "Python 3",
   "language": "python",
   "name": "python3"
  },
  "language_info": {
   "codemirror_mode": {
    "name": "ipython",
    "version": 2
   },
   "file_extension": ".py",
   "mimetype": "text/x-python",
   "name": "python",
   "nbconvert_exporter": "python",
   "pygments_lexer": "ipython2",
   "version": "2.7.6"
  }
 },
 "nbformat": 4,
 "nbformat_minor": 0
}