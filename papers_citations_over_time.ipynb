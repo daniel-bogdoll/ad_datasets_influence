{
 "cells": [
  {
   "cell_type": "code",
   "execution_count": 1,
   "metadata": {
    "collapsed": true
   },
   "outputs": [],
   "source": [
    "import json\n",
    "import os\n",
    "import numpy as np\n",
    "import matplotlib.pyplot as plt\n",
    "from operator import itemgetter\n",
    "import pandas as pd"
   ]
  },
  {
   "cell_type": "code",
   "execution_count": 2,
   "outputs": [
    {
     "name": "stdout",
     "output_type": "stream",
     "text": [
      "Added  req4Seasons.json\n",
      "Added  reqA2D2.json\n",
      "Added  reqA3D.json\n",
      "Added  reqA9.json\n",
      "Added  reqAmodalCityscapes.json\n",
      "Added  reqAMUSE.json\n",
      "Added  reqApolloScape.json\n",
      "Added  reqArgoverse3DTracking.json\n",
      "Added  reqArgoverseMotionForecasting.json\n",
      "Added  reqAugKITTI.json\n",
      "Added  reqBayAreaDataset.json\n",
      "Added  reqBDD100k.json\n",
      "Added  reqBDD100KAPS.json\n",
      "Added  reqBeyondPASCAL.json\n",
      "Added  reqBLVD.json\n",
      "Added  reqBoreas.json\n",
      "Added  reqBoschSmallTrafficLightsDataset.json\n",
      "Added  reqBoschTL.json\n",
      "Added  reqBoxy.json\n",
      "Added  reqBrain4Cars.json\n",
      "Added  reqCADC.json\n",
      "Added  reqCADP.json\n",
      "Added  reqCaltechLanes.json\n",
      "Added  reqCaltechPedestrian.json\n",
      "Added  reqCamVid.json\n",
      "Added  reqCARLA100.json\n",
      "Added  reqCarlaScenes.json\n",
      "Added  reqCARRADADataset.json\n",
      "Added  reqCarsDataset.json\n",
      "Added  reqCityscapes3D.json\n",
      "Added  reqCityscapesDVPS.json\n",
      "Added  reqCODA.json\n",
      "Added  reqComma2k19.json\n",
      "Added  reqcommaai.json\n",
      "Added  reqComplexUrbanDataset.json\n",
      "Added  reqCooperativeDrivingDatasetCODD.json\n",
      "Added  reqCrashD.json\n",
      "Added  reqCULaneDataset.json\n",
      "Added  reqC_O_D_A.json\n",
      "Added  reqD2City.json\n",
      "Added  reqDBNet.json\n",
      "Added  reqDDAD.json\n",
      "Added  reqDDD20.json\n",
      "Added  reqDDD20DAVISDrivingDataset2020.json\n",
      "Added  reqDGLMOTS.json\n",
      "Added  reqDIPLECSAutonomousDrivingDatasets.json\n",
      "Added  reqDReyeVE.json\n",
      "Added  reqDRIV100.json\n",
      "Added  reqDriveUTrafficLightDataset.json\n",
      "Added  reqexiD.json\n",
      "Added  reqFishyscapes.json\n",
      "Added  reqFiveRoundaboutsDataset.json\n",
      "Added  reqFordAutonomousVehicleDataset.json\n",
      "Added  reqGated2Depth.json\n",
      "Added  reqGated2Gated.json\n",
      "Added  reqGROUNDED.json\n",
      "Added  reqGroundTruthStixel.json\n",
      "Added  reqGTA5.json\n",
      "Added  reqGTSDB.json\n",
      "Added  reqGTSRB.json\n",
      "Added  reqH3D.json\n",
      "Added  reqHCIChallengingStereo.json\n",
      "Added  reqHD1K.json\n",
      "Added  reqhighD.json\n",
      "Added  reqIDDA.json\n",
      "Added  reqIlluminationChangesinaday.json\n",
      "Added  reqinD.json\n",
      "Added  reqIndiaDrivingDataset.json\n",
      "Added  reqINTERACTIONdataset.json\n",
      "Added  reqJAAD.json\n",
      "Added  reqKAISTMultiSpectralDayNight.json\n",
      "Added  reqKAISTUrban.json\n",
      "Added  reqKITTI.json\n",
      "Added  reqKITTI360.json\n",
      "Added  reqKITTI360APS.json\n",
      "Added  reqKITTI360PanopticBEV.json\n",
      "Added  reqKRadar.json\n",
      "Added  reqLIBRE.json\n",
      "Added  reqLiDARVideoDrivingDataset.json\n",
      "Added  reqLISATrafficLightDataset.json\n",
      "Added  reqLISATrafficSignDataset.json\n",
      "Added  reqLostAndFound.json\n",
      "Added  reqLyftLevel5Perception.json\n",
      "Added  reqLyftLevel5Prediction.json\n",
      "Added  reqMalagaStereoandLaserUrban.json\n",
      "Added  reqMapillaryVistas.json\n",
      "Added  reqMAVDMultimodalAudioVisualDetection.json\n",
      "Added  reqMCityDataCollection.json\n",
      "Added  reqMITAVTClusteredDrivingSceneDataset.json\n",
      "Added  reqMOTSynth.json\n",
      "Added  reqMTSD.json\n",
      "Added  reqMultiVehicleStereoEventCamera.json\n",
      "Added  reqNightOwls.json\n",
      "Added  reqnuImages.json\n",
      "Added  reqnuPlan.json\n",
      "Added  reqnuScenes.json\n",
      "Added  reqONCE.json\n",
      "Added  reqOneThousandandOneHours.json\n",
      "Added  reqOnSalienceSensitiveSignClassificationinAutonomousVehiclePathPlanning.json\n",
      "Added  reqopenDD.json\n",
      "Added  reqOpenMPD.json\n",
      "Added  reqOxfordRadarRobotCar.json\n",
      "Added  reqOxfordRobotCar.json\n",
      "Added  reqPepScenes.json\n",
      "Added  reqPointCloudDeNoising.json\n",
      "Added  reqPREVENTION.json\n",
      "Added  reqR3DrivingDataset.json\n",
      "Added  reqRadarScenes.json\n",
      "Added  reqRADIATE.json\n",
      "Added  reqRANUS.json\n",
      "Added  reqRELLIS3DDataset.json\n",
      "Added  reqROAD.json\n",
      "Added  reqRoadAnomaly21.json\n",
      "Added  reqRoadDamage.json\n",
      "Added  reqRope3D.json\n",
      "Added  reqrounD.json\n",
      "Added  reqRUGDRobotUnstructuredGroundDriving.json\n",
      "Added  reqScribbleKITTI.json\n",
      "Added  reqSeasonalVariationDataset.json\n",
      "Added  reqSeeingThroughFog.json\n",
      "Added  reqSemanticKITTI.json\n",
      "Added  reqSemKITTIDVPS.json\n",
      "Added  reqSHIFT.json\n",
      "Added  reqSmallObstacle.json\n",
      "Added  reqSODA10M.json\n",
      "Added  reqStanfordDroneDataset.json\n",
      "Added  reqStanfordTrackCollection.json\n",
      "Added  reqStreetHazards.json\n",
      "Added  reqStreetLearn.json\n",
      "Added  reqSynscapes.json\n",
      "Added  reqSyntheticDiscrepancyDatasets.json\n",
      "Added  reqSynthia.json\n",
      "Added  reqS_O_D_A_1_0_M.json\n",
      "Added  reqTalk2Car.json\n",
      "Added  reqTheAutonomousPlatformInertialDataset.json\n",
      "Added  reqTheEuroCityPersonsDataset.json\n",
      "Added  reqTheUSydCampusDataset.json\n",
      "Added  reqTMEMotorway.json\n",
      "Added  reqToronto3D.json\n",
      "Added  reqTRoM.json\n",
      "Added  reqTsinghuaDaimlerCyclistDetection.json\n",
      "Added  reqTT100K.json\n",
      "Added  reqTUDBrussels.json\n",
      "Added  reqUAHDriveSet.json\n",
      "Added  reqUnsupervisedLlamas.json\n",
      "Added  reqUTBMEULTD.json\n",
      "Added  reqVPGNet.json\n",
      "Added  reqWaymoBlockNeRF.json\n",
      "Added  reqWaymoOpenMotion.json\n",
      "Added  reqWaymoOpenPerception.json\n",
      "Added  reqWildDash.json\n",
      "Added  reqWoodScape.json\n"
     ]
    }
   ],
   "source": [
    "wd = os.getcwd()\n",
    "wd = wd.replace('.ipynb_checkpoints', '')\n",
    "directory = os.path.join(wd, 'data', 'requests')\n",
    "retrieved_data =  []\n",
    "for file in os.listdir(directory):\n",
    "    with open(os.path.join(directory, file), \"r\") as j:\n",
    "        a = json.loads(j.read())\n",
    "        retrieved_data.append(a)\n",
    "        print('Added ', file)\n",
    "#retrieved_data\n",
    "retrieved_data = sorted(retrieved_data, key=itemgetter('citationCount'), reverse=True)"
   ],
   "metadata": {
    "collapsed": false,
    "pycharm": {
     "name": "#%%\n"
    }
   }
  },
  {
   "cell_type": "markdown",
   "source": [
    "Paper releases over time"
   ],
   "metadata": {
    "collapsed": false,
    "pycharm": {
     "name": "#%% md\n"
    }
   }
  },
  {
   "cell_type": "code",
   "execution_count": 3,
   "outputs": [],
   "source": [
    "publications = []\n",
    "for o_paper in retrieved_data:\n",
    "    publications.append(o_paper['paperInfo']['year'])"
   ],
   "metadata": {
    "collapsed": false,
    "pycharm": {
     "name": "#%%\n"
    }
   }
  },
  {
   "cell_type": "code",
   "execution_count": 4,
   "outputs": [
    {
     "name": "stdout",
     "output_type": "stream",
     "text": [
      "[[0. 0. 0. 0. 0. 0. 0. 0. 0. 0. 0. 0. 0. 0. 0.]]\n"
     ]
    },
    {
     "data": {
      "text/plain": "array([[2.000e+00, 1.800e+01, 5.700e+01, 1.140e+02, 1.410e+02, 1.980e+02,\n        3.570e+02, 6.140e+02, 8.310e+02, 1.538e+03, 2.540e+03, 4.143e+03,\n        6.285e+03, 7.090e+03, 4.356e+03]])"
     },
     "execution_count": 4,
     "metadata": {},
     "output_type": "execute_result"
    }
   ],
   "source": [
    "total_citations = np.zeros((1, 15))\n",
    "print(total_citations)\n",
    "for o_paper in retrieved_data:\n",
    "    if 'citations' in o_paper['paperInfo'].keys():\n",
    "        for citation in o_paper['paperInfo']['citations']:\n",
    "            if 'year' in citation.keys():\n",
    "                year = citation['year']\n",
    "                if year is not None:\n",
    "                    total_citations[0, year-2008] += 1\n",
    "total_citations"
   ],
   "metadata": {
    "collapsed": false,
    "pycharm": {
     "name": "#%%\n"
    }
   }
  },
  {
   "cell_type": "code",
   "execution_count": 5,
   "outputs": [],
   "source": [
    "citations = pd.Series(publications).value_counts().sort_index()"
   ],
   "metadata": {
    "collapsed": false,
    "pycharm": {
     "name": "#%%\n"
    }
   }
  },
  {
   "cell_type": "code",
   "execution_count": 6,
   "outputs": [
    {
     "data": {
      "text/plain": "<Figure size 432x288 with 2 Axes>",
      "image/png": "[encoded data removed]"
     },
     "metadata": {
      "needs_background": "light"
     },
     "output_type": "display_data"
    }
   ],
   "source": [
    "fig,ax = plt.subplots()\n",
    "ax.plot(citations.index, citations, color='#648fff')\n",
    "ax.set_ylabel('publications', color='#648fff')\n",
    "ax.set_xlabel('year')\n",
    "\n",
    "ax2=ax.twinx()\n",
    "ax2.plot(citations.index, total_citations[0][1:], color='#dc267f')\n",
    "ax2.set_ylabel('total citations', color='#dc267f')\n",
    "plt.savefig('growth_publications_and_citations.pdf', bbox_inches='tight')\n",
    "plt.show()"
   ],
   "metadata": {
    "collapsed": false,
    "pycharm": {
     "name": "#%%\n"
    }
   }
  },
  {
   "cell_type": "code",
   "execution_count": 7,
   "outputs": [],
   "source": [
    "publications = []\n",
    "for o_paper in retrieved_data:\n",
    "    publications.append(o_paper['paperInfo']['year'])"
   ],
   "metadata": {
    "collapsed": false,
    "pycharm": {
     "name": "#%%\n"
    }
   }
  },
  {
   "cell_type": "code",
   "execution_count": 8,
   "outputs": [],
   "source": [
    "features = ['number of scenes', 'storage size [GB]', 'total length [h]', 'number of sensors'] #,  'Altmetric score at 3 mos'"
   ],
   "metadata": {
    "collapsed": false,
    "pycharm": {
     "name": "#%%\n"
    }
   }
  },
  {
   "cell_type": "code",
   "execution_count": 9,
   "outputs": [],
   "source": [
    "meta_data = np.empty((len(retrieved_data), len(features)+1))\n",
    "meta_data[:] = np.NAN\n",
    "for index, o_paper in enumerate(retrieved_data):\n",
    "    if 'year' in o_paper['paperInfo'].keys():\n",
    "        altmetric = np.NAN\n",
    "        sensors_value = np.NAN\n",
    "        frames_value = np.NAN\n",
    "        lengthOfScenes = np.NAN\n",
    "        numberOfScenes = np.NAN\n",
    "        size_hours = np.NAN\n",
    "        size_storage = np.NAN\n",
    "\n",
    "        year = o_paper['paperInfo']['year']\n",
    "        try:\n",
    "            altmetric = o_paper['altmetrics'][2]['similar_age_3m_percentile']\n",
    "        except:\n",
    "            pass\n",
    "        try:\n",
    "            if o_paper['sensors'] != \"-\":\n",
    "                sensors_value = int(len(list(o_paper['sensors'].split(','))))\n",
    "        except:\n",
    "            pass\n",
    "        try:\n",
    "            if o_paper['frames'] != \"-\":\n",
    "                frames_value = o_paper['frames']\n",
    "        except:\n",
    "            pass\n",
    "        try:\n",
    "            if o_paper['lengthOfScenes'] != \"-\":\n",
    "                lengthOfScenes = o_paper['lengthOfScenes']\n",
    "        except:\n",
    "            pass\n",
    "        try:\n",
    "            if o_paper['numberOfScenes'] != \"-\":\n",
    "                numberOfScenes = o_paper['numberOfScenes']\n",
    "        except:\n",
    "            pass\n",
    "        try:\n",
    "            if o_paper['size_hours'] != \"-\":\n",
    "                size_hours = o_paper['size_hours']\n",
    "        except:\n",
    "            pass\n",
    "        try:\n",
    "            if o_paper['size_storage'] != \"-\" and len(o_paper['size_storage']) > 0:\n",
    "                size_storage = o_paper['size_storage']\n",
    "        except:\n",
    "            pass\n",
    "        meta_data[index, :] = [year, numberOfScenes, size_storage, size_hours, sensors_value] #, altmetric"
   ],
   "metadata": {
    "collapsed": false,
    "pycharm": {
     "name": "#%%\n"
    }
   }
  },
  {
   "cell_type": "code",
   "execution_count": 10,
   "outputs": [
    {
     "data": {
      "text/plain": "array([[2.013000e+03, 5.000000e+01, 1.800000e+02, 6.000000e+00,\n        3.000000e+00],\n       [2.013000e+03,          nan,          nan,          nan,\n        1.000000e+00],\n       [2.016000e+03,          nan,          nan,          nan,\n        1.000000e+00],\n       [2.019000e+03, 9.300000e+04,          nan, 1.500000e+02,\n        4.000000e+00],\n       [2.019000e+03, 1.000000e+03,          nan, 1.500000e+01,\n        4.000000e+00],\n       [2.016000e+03,          nan, 5.705000e+01,          nan,\n        1.000000e+00],\n       [2.009000e+03, 1.000000e+00,          nan, 1.600000e-01,\n        1.000000e+00],\n       [2.017000e+03, 1.000000e+02, 2.315000e+04, 2.100000e+02,\n        3.000000e+00],\n       [2.011000e+03,          nan,          nan,          nan,\n        1.000000e+00],\n       [2.008000e+03,          nan, 5.500000e-01,          nan,\n        1.000000e+00],\n       [2.017000e+03,          nan,          nan,          nan,\n        1.000000e+00],\n       [2.009000e+03, 1.370000e+02,          nan, 1.000000e+01,\n        1.000000e+00],\n       [2.019000e+03, 1.950000e+03,          nan, 1.083000e+01,\n        2.000000e+00],\n       [2.014000e+03,          nan, 8.500000e+00,          nan,\n        1.000000e+00],\n       [2.013000e+03,          nan,          nan,          nan,\n        1.000000e+00],\n       [2.012000e+03,          nan,          nan,          nan,\n        1.000000e+00],\n       [2.018000e+03, 1.000000e+05, 1.800000e+03, 1.111000e+03,\n        2.000000e+00],\n       [2.019000e+03, 1.130000e+02, 2.544000e+02, 1.000000e+00,\n        3.000000e+00],\n       [2.019000e+03, 3.245570e+05, 4.810000e+00, 3.200000e+02,\n        3.000000e+00],\n       [2.016000e+03, 8.000000e+00, 6.900000e+01,          nan,\n        1.000000e+00],\n       [2.016000e+03,          nan,          nan,          nan,\n        1.000000e+00],\n       [2.017000e+03,          nan, 4.250000e+01,          nan,\n        1.000000e+00],\n       [2.018000e+03,          nan,          nan, 1.650000e+01,\n        1.000000e+00],\n       [2.018000e+03,          nan, 2.400000e+00,          nan,\n        1.000000e+00],\n       [2.017000e+03,          nan,          nan,          nan,\n        1.000000e+00],\n       [2.018000e+03,          nan,          nan, 1.000000e+02,\n        3.000000e+00],\n       [2.014000e+03, 1.500000e+01, 4.760000e+00, 1.550000e+00,\n        3.000000e+00],\n       [2.019000e+03, 4.350000e+02, 2.540000e+02,          nan,\n        2.000000e+00],\n       [2.009000e+03,          nan, 3.000000e+00,          nan,\n        1.000000e+00],\n       [2.015000e+03,          nan, 1.600000e+01,          nan,\n        3.000000e+00],\n       [2.016000e+03, 1.000000e+01, 8.000000e+01, 7.250000e+00,\n        1.000000e+00],\n       [2.019000e+03,          nan,          nan,          nan,\n                 nan],\n       [2.018000e+03, 1.100000e+01, 1.870000e+02,          nan,\n        4.000000e+00],\n       [2.011000e+03,          nan, 2.000000e+00,          nan,\n        2.000000e+00],\n       [2.016000e+03,          nan, 5.000000e+00, 7.500000e-01,\n        1.000000e+00],\n       [2.019000e+03,          nan,          nan, 1.650000e+01,\n        1.000000e+00],\n       [2.017000e+03,          nan,          nan,          nan,\n        1.000000e+00],\n       [2.017000e+03,          nan,          nan,          nan,\n        1.000000e+00],\n       [2.018000e+03, 1.820000e+02,          nan,          nan,\n        1.000000e+00],\n       [2.019000e+03, 3.200000e+01, 4.700000e+03,          nan,\n        4.000000e+00],\n       [2.012000e+03, 2.800000e+01,          nan, 4.500000e-01,\n        2.000000e+00],\n       [2.015000e+03,          nan,          nan,          nan,\n        3.000000e+00],\n       [2.017000e+03, 7.400000e+01,          nan, 6.160000e+00,\n        2.000000e+00],\n       [2.017000e+03, 3.460000e+02, 3.100000e+00,          nan,\n        1.000000e+00],\n       [2.018000e+03,          nan,          nan,          nan,\n        4.000000e+00],\n       [2.019000e+03,          nan,          nan,          nan,\n        4.000000e+00],\n       [2.019000e+03, 1.600000e+02,          nan, 7.700000e-01,\n        3.000000e+00],\n       [2.019000e+03, 4.100000e+01,          nan,          nan,\n        4.000000e+00],\n       [2.013000e+03, 3.180000e+02, 3.200000e+00,          nan,\n        2.000000e+00],\n       [2.019000e+03, 1.800000e+01,          nan,          nan,\n        3.000000e+00],\n       [2.019000e+03,          nan,          nan, 1.000000e+01,\n        1.000000e+00],\n       [2.020000e+03, 3.660000e+02,          nan, 2.500000e+00,\n        2.000000e+00],\n       [2.020000e+03, 1.700000e+05,          nan, 1.118000e+03,\n        3.000000e+00],\n       [2.020000e+03, 1.700000e+05,          nan, 1.118000e+03,\n        3.000000e+00],\n       [2.018000e+03, 2.500000e+04,          nan,          nan,\n        1.000000e+00],\n       [2.018000e+03, 1.560000e+02,          nan,          nan,\n        1.000000e+00],\n       [2.020000e+03, 3.000000e+00, 2.300000e+03,          nan,\n        3.000000e+00],\n       [2.018000e+03,          nan, 5.000000e-01,          nan,\n        1.000000e+00],\n       [2.016000e+03,          nan,          nan, 8.330000e+00,\n        2.000000e+00],\n       [2.016000e+03,          nan,          nan,          nan,\n        1.000000e+00],\n       [2.018000e+03,          nan, 1.610000e+03, 1.000000e+01,\n        4.000000e+00],\n       [2.018000e+03,          nan, 1.000000e+03,          nan,\n        4.000000e+00],\n       [2.016000e+03, 5.500000e+01,          nan,          nan,\n        3.000000e+00],\n       [2.016000e+03, 1.120000e+02,          nan,          nan,\n        1.000000e+00],\n       [2.012000e+03, 1.100000e+01,          nan,          nan,\n        1.000000e+00],\n       [2.019000e+03,          nan,          nan,          nan,\n        5.000000e+00],\n       [2.021000e+03, 1.033540e+05,          nan, 5.740000e+02,\n        2.000000e+00],\n       [2.020000e+03, 7.500000e+01,          nan,          nan,\n        3.000000e+00],\n       [2.019000e+03,          nan,          nan,          nan,\n        1.000000e+00],\n       [2.020000e+03,          nan,          nan,          nan,\n                 nan],\n       [2.020000e+03,          nan,          nan,          nan,\n                 nan],\n       [2.019000e+03,          nan,          nan,          nan,\n                 nan],\n       [2.019000e+03,          nan,          nan,          nan,\n        2.000000e+00],\n       [2.020000e+03,          nan,          nan,          nan,\n        3.000000e+00],\n       [2.018000e+03, 4.000000e+01,          nan, 5.170000e+00,\n        1.000000e+00],\n       [2.019000e+03,          nan,          nan,          nan,\n        1.000000e+00],\n       [2.022000e+03,          nan, 2.000000e+00,          nan,\n        1.000000e+00],\n       [2.018000e+03, 2.019000e+03, 1.000000e+02, 3.365000e+01,\n        3.000000e+00],\n       [2.020000e+03,          nan,          nan, 6.000000e+00,\n        1.000000e+00],\n       [2.019000e+03,          nan, 5.400000e+00,          nan,\n        3.000000e+00],\n       [2.019000e+03, 1.121100e+04,          nan,          nan,\n        1.000000e+00],\n       [2.020000e+03,          nan,          nan,          nan,\n        3.000000e+00],\n       [2.015000e+03, 4.000000e+00,          nan, 4.000000e+00,\n        3.000000e+00],\n       [2.021000e+03, 5.810000e+02,          nan, 1.440000e+02,\n        2.000000e+00],\n       [2.020000e+03,          nan, 5.810000e+01,          nan,\n        3.000000e+00],\n       [2.019000e+03,          nan,          nan,          nan,\n        1.000000e+00],\n       [2.020000e+03,          nan,          nan,          nan,\n        4.000000e+00],\n       [2.020000e+03,          nan,          nan, 5.000000e+00,\n        4.000000e+00],\n       [2.018000e+03, 1.416000e+03,          nan, 5.200000e+00,\n        1.000000e+00],\n       [2.019000e+03,          nan,          nan,          nan,\n                 nan],\n       [2.019000e+03,          nan,          nan,          nan,\n        1.000000e+00],\n       [2.022000e+03,          nan,          nan,          nan,\n                 nan],\n       [2.014000e+03,          nan,          nan,          nan,\n        2.000000e+00],\n       [2.014000e+03,          nan,          nan,          nan,\n        2.000000e+00],\n       [2.014000e+03,          nan,          nan,          nan,\n        2.000000e+00],\n       [2.019000e+03, 6.540000e+02, 4.270000e+01,          nan,\n        3.000000e+00],\n       [2.020000e+03, 2.160000e+02, 1.300000e+03, 5.100000e+01,\n        2.000000e+00],\n       [2.020000e+03, 2.160000e+02, 1.300000e+03, 5.100000e+01,\n        1.000000e+00],\n       [2.019000e+03,          nan,          nan,          nan,\n        2.000000e+00],\n       [2.019000e+03, 8.500000e+02, 3.000000e+02,          nan,\n        4.000000e+00],\n       [2.021000e+03,          nan,          nan,          nan,\n                 nan],\n       [2.020000e+03, 3.000000e+01, 2.880000e+02,          nan,\n        2.000000e+00],\n       [2.020000e+03, 3.000000e+01,          nan,          nan,\n        2.000000e+00],\n       [2.018000e+03,          nan,          nan,          nan,\n        1.000000e+00],\n       [2.019000e+03, 1.400000e+01,          nan,          nan,\n        1.000000e+00],\n       [2.018000e+03, 5.000000e+01, 1.140000e+01,          nan,\n        1.000000e+00],\n       [2.013000e+03, 7.000000e+00, 1.263000e+03,          nan,\n        4.000000e+00],\n       [2.019000e+03,          nan,          nan,          nan,\n        1.000000e+00],\n       [2.020000e+03,          nan,          nan,          nan,\n                 nan],\n       [2.021000e+03, 1.000000e+02, 5.000000e-02,          nan,\n        1.000000e+00],\n       [2.020000e+03,          nan, 6.314100e+01,          nan,\n        3.000000e+00],\n       [2.021000e+03,          nan,          nan,          nan,\n                 nan],\n       [2.019000e+03,          nan,          nan,          nan,\n                 nan],\n       [2.019000e+03, 3.400000e+01,          nan,          nan,\n        1.000000e+00],\n       [2.021000e+03, 1.580000e+02,          nan, 4.000000e+00,\n        3.000000e+00],\n       [2.021000e+03,          nan,          nan,          nan,\n                 nan],\n       [2.020000e+03, 5.010000e+02,          nan, 6.270000e+01,\n        1.000000e+00],\n       [2.019000e+03, 2.550000e+02, 1.100000e+04, 5.000000e+01,\n        4.000000e+00],\n       [2.019000e+03, 2.100000e+01,          nan,          nan,\n        1.000000e+00],\n       [2.021000e+03,          nan,          nan, 1.500000e+03,\n        3.000000e+00],\n       [2.021000e+03, 2.200000e+01,          nan, 2.830000e+00,\n        1.000000e+00],\n       [2.020000e+03,          nan, 1.060000e+01,          nan,\n        2.000000e+00],\n       [2.017000e+03, 7.120000e+02,          nan,          nan,\n        2.000000e+00],\n       [2.020000e+03,          nan,          nan,          nan,\n                 nan],\n       [2.022000e+03,          nan,          nan,          nan,\n                 nan],\n       [2.022000e+03,          nan,          nan,          nan,\n                 nan],\n       [2.022000e+03,          nan,          nan,          nan,\n                 nan],\n       [2.022000e+03,          nan,          nan,          nan,\n                 nan],\n       [2.022000e+03,          nan,          nan,          nan,\n                 nan],\n       [2.020000e+03,          nan,          nan, 4.000000e+01,\n        5.000000e+00],\n       [2.022000e+03,          nan,          nan,          nan,\n                 nan],\n       [2.022000e+03,          nan,          nan,          nan,\n                 nan],\n       [2.021000e+03,          nan,          nan,          nan,\n                 nan],\n       [2.021000e+03,          nan,          nan,          nan,\n                 nan],\n       [2.021000e+03,          nan, 1.670000e+01,          nan,\n        1.000000e+00],\n       [2.021000e+03,          nan,          nan,          nan,\n                 nan],\n       [2.022000e+03,          nan,          nan,          nan,\n                 nan],\n       [2.022000e+03,          nan,          nan,          nan,\n        1.000000e+00],\n       [2.021000e+03, 1.000000e+02,          nan,          nan,\n        1.000000e+00],\n       [2.021000e+03, 1.835000e+03,          nan,          nan,\n        5.000000e+00],\n       [2.021000e+03, 1.080000e+02, 7.500000e+02, 1.200000e+01,\n        5.000000e+00],\n       [2.020000e+03, 1.156592e+06, 4.000000e+03, 3.212000e+03,\n        3.000000e+00],\n       [2.022000e+03,          nan,          nan,          nan,\n                 nan],\n       [2.022000e+03,          nan,          nan,          nan,\n                 nan],\n       [2.022000e+03,          nan,          nan,          nan,\n                 nan],\n       [2.022000e+03,          nan,          nan,          nan,\n                 nan],\n       [2.021000e+03,          nan,          nan,          nan,\n                 nan],\n       [2.022000e+03,          nan,          nan, 1.610000e+01,\n        1.000000e+00],\n       [2.022000e+03,          nan,          nan,          nan,\n                 nan],\n       [2.021000e+03,          nan,          nan,          nan,\n                 nan],\n       [2.021000e+03,          nan,          nan,          nan,\n                 nan],\n       [2.022000e+03,          nan,          nan,          nan,\n                 nan]])"
     },
     "execution_count": 10,
     "metadata": {},
     "output_type": "execute_result"
    }
   ],
   "source": [
    "meta_data"
   ],
   "metadata": {
    "collapsed": false,
    "pycharm": {
     "name": "#%%\n"
    }
   }
  },
  {
   "cell_type": "code",
   "execution_count": 11,
   "outputs": [],
   "source": [
    "df_meta_data = pd.DataFrame(meta_data).set_index(0)\n"
   ],
   "metadata": {
    "collapsed": false,
    "pycharm": {
     "name": "#%%\n"
    }
   }
  },
  {
   "cell_type": "code",
   "execution_count": 12,
   "outputs": [],
   "source": [
    "df_meta_data.columns = features"
   ],
   "metadata": {
    "collapsed": false,
    "pycharm": {
     "name": "#%%\n"
    }
   }
  },
  {
   "cell_type": "code",
   "execution_count": 13,
   "outputs": [],
   "source": [
    "array = np.empty((len(features), 15))\n",
    "array[:] = np.NAN\n",
    "for index_type, col in enumerate(df_meta_data.columns):\n",
    "    for index_year, year in enumerate(range(2008, 2023)):\n",
    "        annual_data = df_meta_data[df_meta_data.index==year]\n",
    "        array[index_type, index_year] = annual_data[col].mean()"
   ],
   "metadata": {
    "collapsed": false,
    "pycharm": {
     "name": "#%%\n"
    }
   }
  },
  {
   "cell_type": "code",
   "execution_count": 14,
   "outputs": [
    {
     "data": {
      "text/plain": "array([[           nan, 9.61665222e+01,            nan,            nan,\n        1.20208153e+01, 1.68520028e+02,            nan,            nan,\n        4.89106328e+01, 2.95905390e+02, 3.31393900e+04, 8.02421320e+04,\n        3.45180718e+05, 3.63995014e+04,            nan],\n       [           nan,            nan,            nan,            nan,\n                   nan, 6.82061004e+02, 2.64457936e+00,            nan,\n        3.31922525e+01, 1.33525097e+04, 7.65568091e+02, 3.94654437e+03,\n        1.40930526e+03, 4.28258317e+02,            nan],\n       [           nan, 6.95793073e+00,            nan,            nan,\n                   nan,            nan,            nan,            nan,\n        4.10026015e+00, 1.44136646e+02, 4.10541509e+02, 1.06943286e+02,\n        1.03371016e+03, 5.94386844e+02,            nan],\n       [           nan, 0.00000000e+00,            nan, 7.07106781e-01,\n        5.77350269e-01, 1.30384048e+00, 7.07106781e-01, 0.00000000e+00,\n        6.74948558e-01, 7.26483157e-01, 1.32287566e+00, 1.32334105e+00,\n        1.03998988e+00, 1.57762128e+00, 0.00000000e+00]])"
     },
     "execution_count": 14,
     "metadata": {},
     "output_type": "execute_result"
    }
   ],
   "source": [
    "std = np.empty((len(features), 15))\n",
    "std[:] = np.NAN\n",
    "for index_type, col in enumerate(df_meta_data.columns):\n",
    "    for index_year, year in enumerate(range(2008, 2023)):\n",
    "        annual_data = df_meta_data[df_meta_data.index==year]\n",
    "        std[index_type, index_year] = annual_data[col].std()\n",
    "std"
   ],
   "metadata": {
    "collapsed": false,
    "pycharm": {
     "name": "#%%\n"
    }
   }
  },
  {
   "cell_type": "code",
   "execution_count": 15,
   "outputs": [
    {
     "data": {
      "text/plain": "<Figure size 432x288 with 1 Axes>",
      "image/png": "[encoded data removed]"
     },
     "metadata": {
      "needs_background": "light"
     },
     "output_type": "display_data"
    }
   ],
   "source": [
    "colors = ['#648fff', '#fe6100', '#dc267f', '#ffb000'] #, '#785ef0'\n",
    "for idx, row in enumerate(features):\n",
    "    plt.semilogy([*range(2012, 2022)], array[idx, 4:14], label=row, color=colors[idx])\n",
    "\n",
    "    #if array[idx, 4:14] == np.NaN or std[idx, 4:14] == 0:\n",
    "    #upper_std = (array[idx, 4:14] + std[idx, 4:14])\n",
    "    #lower_std = (array[idx, 4:14] - std[idx, 4:14])\n",
    "    #else:\n",
    "    #    upper_std = array[idx, 4:14]\n",
    "    #    lower_std = array[idx, 4:14]\n",
    "    #plt.fill_between([*range(2012, 2022)], lower_std, upper_std, color=colors[idx], alpha=0.1)\n",
    "    plt.xlim(2012, 2021)\n",
    "handles, labels = plt.gca().get_legend_handles_labels()\n",
    "order = [0, 1, 2, 3]\n",
    "plt.legend([handles[idx] for idx in order],[labels[idx] for idx in order], loc='best')\n",
    "plt.xticks([*range(2012, 2022)])\n",
    "plt.xlabel('year of publication')\n",
    "plt.ylabel('log(y)')\n",
    "plt.savefig('growth_of_data.pdf', bbox_inches='tight')\n",
    "plt.show()\n",
    "#plt.ylim(0, 1000)\n",
    "\n",
    "#plt.show()"
   ],
   "metadata": {
    "collapsed": false,
    "pycharm": {
     "name": "#%%\n"
    }
   }
  },
  {
   "cell_type": "code",
   "execution_count": 32,
   "outputs": [
    {
     "name": "stdout",
     "output_type": "stream",
     "text": [
      "['scenes', 'storage size [GB]', 'total length [h]', 'sensors']\n"
     ]
    }
   ],
   "source": [
    "print(features)"
   ],
   "metadata": {
    "collapsed": false,
    "pycharm": {
     "name": "#%%\n"
    }
   }
  },
  {
   "cell_type": "code",
   "execution_count": 32,
   "outputs": [],
   "source": [],
   "metadata": {
    "collapsed": false,
    "pycharm": {
     "name": "#%%\n"
    }
   }
  }
 ],
 "metadata": {
  "kernelspec": {
   "display_name": "Python 3",
   "language": "python",
   "name": "python3"
  },
  "language_info": {
   "codemirror_mode": {
    "name": "ipython",
    "version": 2
   },
   "file_extension": ".py",
   "mimetype": "text/x-python",
   "name": "python",
   "nbconvert_exporter": "python",
   "pygments_lexer": "ipython2",
   "version": "2.7.6"
  }
 },
 "nbformat": 4,
 "nbformat_minor": 0
}