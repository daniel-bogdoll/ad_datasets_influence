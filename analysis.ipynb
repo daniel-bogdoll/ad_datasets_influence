{
 "cells": [
  {
   "cell_type": "code",
   "execution_count": 101,
   "metadata": {
    "collapsed": true
   },
   "outputs": [],
   "source": [
    "import json\n",
    "import os\n",
    "import numpy as np\n",
    "from tqdm import tqdm\n",
    "from sklearn.cluster import KMeans\n",
    "import matplotlib.pyplot as plt\n",
    "from operator import itemgetter\n",
    "import pandas as pd\n",
    "import seaborn as sns\n",
    "from statsmodels.stats.outliers_influence import variance_inflation_factor\n",
    "from statsmodels.tools.tools import add_constant\n",
    "from statsmodels.discrete.discrete_model import Poisson\n",
    "import statsmodels.api as sm"
   ]
  },
  {
   "cell_type": "code",
   "execution_count": 102,
   "outputs": [
    {
     "name": "stdout",
     "output_type": "stream",
     "text": [
      "Added  req4Seasons.json\n",
      "Added  reqA2D2.json\n",
      "Added  reqA3D.json\n",
      "Added  reqA9.json\n",
      "Added  reqAmodalCityscapes.json\n",
      "Added  reqAMUSE.json\n",
      "Added  reqApolloScape.json\n",
      "Added  reqArgoverse3DTracking.json\n",
      "Added  reqArgoverseMotionForecasting.json\n",
      "Added  reqAugKITTI.json\n",
      "Added  reqBayAreaDataset.json\n",
      "Added  reqBDD100k.json\n",
      "Added  reqBDD100KAPS.json\n",
      "Added  reqBeyondPASCAL.json\n",
      "Added  reqBLVD.json\n",
      "Added  reqBoreas.json\n",
      "Added  reqBoschSmallTrafficLightsDataset.json\n",
      "Added  reqBoschTL.json\n",
      "Added  reqBoxy.json\n",
      "Added  reqBrain4Cars.json\n",
      "Added  reqCADC.json\n",
      "Added  reqCADP.json\n",
      "Added  reqCaltechLanes.json\n",
      "Added  reqCaltechPedestrian.json\n",
      "Added  reqCamVid.json\n",
      "Added  reqCARLA100.json\n",
      "Added  reqCarlaScenes.json\n",
      "Added  reqCARRADADataset.json\n",
      "Added  reqCarsDataset.json\n",
      "Added  reqCityscapes3D.json\n",
      "Added  reqCityscapesDVPS.json\n",
      "Added  reqCODA.json\n",
      "Added  reqComma2k19.json\n",
      "Added  reqcommaai.json\n",
      "Added  reqComplexUrbanDataset.json\n",
      "Added  reqCooperativeDrivingDatasetCODD.json\n",
      "Added  reqCrashD.json\n",
      "Added  reqCULaneDataset.json\n",
      "Added  reqD2City.json\n",
      "Added  reqDBNet.json\n",
      "Added  reqDDAD.json\n",
      "Added  reqDDD20.json\n",
      "Added  reqDDD20DAVISDrivingDataset2020.json\n",
      "Added  reqDGLMOTS.json\n",
      "Added  reqDIPLECSAutonomousDrivingDatasets.json\n",
      "Added  reqDReyeVE.json\n",
      "Added  reqDRIV100.json\n",
      "Added  reqDriveUTrafficLightDataset.json\n",
      "Added  reqexiD.json\n",
      "Added  reqFishyscapes.json\n",
      "Added  reqFiveRoundaboutsDataset.json\n",
      "Added  reqFordAutonomousVehicleDataset.json\n",
      "Added  reqGated2Depth.json\n",
      "Added  reqGated2Gated.json\n",
      "Added  reqGROUNDED.json\n",
      "Added  reqGroundTruthStixel.json\n",
      "Added  reqGTA5.json\n",
      "Added  reqGTSDB.json\n",
      "Added  reqGTSRB.json\n",
      "Added  reqH3D.json\n",
      "Added  reqHCIChallengingStereo.json\n",
      "Added  reqHD1K.json\n",
      "Added  reqhighD.json\n",
      "Added  reqIDDA.json\n",
      "Added  reqIlluminationChangesinaday.json\n",
      "Added  reqinD.json\n",
      "Added  reqIndiaDrivingDataset.json\n",
      "Added  reqINTERACTIONdataset.json\n",
      "Added  reqJAAD.json\n",
      "Added  reqKAISTMultiSpectralDayNight.json\n",
      "Added  reqKAISTUrban.json\n",
      "Added  reqKITTI.json\n",
      "Added  reqKITTI360.json\n",
      "Added  reqKITTI360APS.json\n",
      "Added  reqKITTI360PanopticBEV.json\n",
      "Added  reqKRadar.json\n",
      "Added  reqLIBRE.json\n",
      "Added  reqLiDARVideoDrivingDataset.json\n",
      "Added  reqLISATrafficLightDataset.json\n",
      "Added  reqLISATrafficSignDataset.json\n",
      "Added  reqLostAndFound.json\n",
      "Added  reqLyftLevel5Perception.json\n",
      "Added  reqLyftLevel5Prediction.json\n",
      "Added  reqMalagaStereoandLaserUrban.json\n",
      "Added  reqMapillaryVistas.json\n",
      "Added  reqMAVDMultimodalAudioVisualDetection.json\n",
      "Added  reqMCityDataCollection.json\n",
      "Added  reqMITAVTClusteredDrivingSceneDataset.json\n",
      "Added  reqMOTSynth.json\n",
      "Added  reqMTSD.json\n",
      "Added  reqMultiVehicleStereoEventCamera.json\n",
      "Added  reqNightOwls.json\n",
      "Added  reqnuImages.json\n",
      "Added  reqnuPlan.json\n",
      "Added  reqnuScenes.json\n",
      "Added  reqONCE.json\n",
      "Added  reqOneThousandandOneHours.json\n",
      "Added  reqOnSalienceSensitiveSignClassificationinAutonomousVehiclePathPlanning.json\n",
      "Added  reqopenDD.json\n",
      "Added  reqOpenMPD.json\n",
      "Added  reqOxfordRadarRobotCar.json\n",
      "Added  reqOxfordRobotCar.json\n",
      "Added  reqPepScenes.json\n",
      "Added  reqPointCloudDeNoising.json\n",
      "Added  reqPREVENTION.json\n",
      "Added  reqR3DrivingDataset.json\n",
      "Added  reqRadarScenes.json\n",
      "Added  reqRADIATE.json\n",
      "Added  reqRANUS.json\n",
      "Added  reqRELLIS3DDataset.json\n",
      "Added  reqROAD.json\n",
      "Added  reqRoadAnomaly21.json\n",
      "Added  reqRoadDamage.json\n",
      "Added  reqRope3D.json\n",
      "Added  reqrounD.json\n",
      "Added  reqRUGDRobotUnstructuredGroundDriving.json\n",
      "Added  reqScribbleKITTI.json\n",
      "Added  reqSeasonalVariationDataset.json\n",
      "Added  reqSeeingThroughFog.json\n",
      "Added  reqSemanticKITTI.json\n",
      "Added  reqSemKITTIDVPS.json\n",
      "Added  reqSHIFT.json\n",
      "Added  reqSmallObstacle.json\n",
      "Added  reqSODA10M.json\n",
      "Added  reqStanfordDroneDataset.json\n",
      "Added  reqStanfordTrackCollection.json\n",
      "Added  reqStreetHazards.json\n",
      "Added  reqStreetLearn.json\n",
      "Added  reqSynscapes.json\n",
      "Added  reqSyntheticDiscrepancyDatasets.json\n",
      "Added  reqSynthia.json\n",
      "Added  reqTalk2Car.json\n",
      "Added  reqTheAutonomousPlatformInertialDataset.json\n",
      "Added  reqTheEuroCityPersonsDataset.json\n",
      "Added  reqTheUSydCampusDataset.json\n",
      "Added  reqTMEMotorway.json\n",
      "Added  reqToronto3D.json\n",
      "Added  reqTRoM.json\n",
      "Added  reqTsinghuaDaimlerCyclistDetection.json\n",
      "Added  reqTT100K.json\n",
      "Added  reqTUDBrussels.json\n",
      "Added  reqUAHDriveSet.json\n",
      "Added  reqUnsupervisedLlamas.json\n",
      "Added  reqUTBMEULTD.json\n",
      "Added  reqVPGNet.json\n",
      "Added  reqWaymoBlockNeRF.json\n",
      "Added  reqWaymoOpenMotion.json\n",
      "Added  reqWaymoOpenPerception.json\n",
      "Added  reqWildDash.json\n",
      "Added  reqWoodScape.json\n"
     ]
    }
   ],
   "source": [
    "wd = os.getcwd()\n",
    "wd = wd.replace('.ipynb_checkpoints', '')\n",
    "directory = os.path.join(wd, 'data', 'requests4')\n",
    "retrieved_data =  []\n",
    "names = []\n",
    "for file in os.listdir(directory):\n",
    "    with open(os.path.join(directory, file), \"r\") as j:\n",
    "        a = json.loads(j.read())\n",
    "        retrieved_data.append(a)\n",
    "        print('Added ', file)\n",
    "        names.append(file.split('.')[0].split('q')[1])\n",
    "#retrieved_data\n",
    "retrieved_data = sorted(retrieved_data, key=itemgetter('citationCount'), reverse=True)"
   ],
   "metadata": {
    "collapsed": false,
    "pycharm": {
     "name": "#%%\n"
    }
   }
  },
  {
   "cell_type": "code",
   "execution_count": 103,
   "outputs": [
    {
     "name": "stdout",
     "output_type": "stream",
     "text": [
      "150\n"
     ]
    }
   ],
   "source": [
    "print(len(names))\n",
    "df_name = pd.DataFrame(names)\n",
    "df_name.to_csv(f'output/retrieved_{len(names)}.csv', index=False, header=False, sep=\",\")"
   ],
   "metadata": {
    "collapsed": false,
    "pycharm": {
     "name": "#%%\n"
    }
   }
  },
  {
   "cell_type": "code",
   "execution_count": 104,
   "outputs": [],
   "source": [
    "class scoring:\n",
    "    def __init__(self, o_paper, lower_bound, upper_bound, impact_year):\n",
    "        self.o_paper = o_paper\n",
    "        self.lower_bound = o_paper['paperInfo']['year'] - lower_bound\n",
    "        self.upper_bound = o_paper['paperInfo']['year'] + upper_bound\n",
    "        self.impact_year = impact_year\n",
    "\n",
    "    def number_citations_authors(self, author):\n",
    "        \"\"\"Returns a list where each entry is the number of citations a paper by a given author had up until the given year. Ignores citations without year resulting in different counts compared to the one given by the API.\"\"\"\n",
    "        ls_citations = []\n",
    "        for paper in self.o_paper['paperInfo']['authors'][author]['authorsPapers']:\n",
    "            #print(paper)\n",
    "            if 'year' in paper and paper['year'] is not None and paper['year'] <= self.upper_bound:\n",
    "                numb_cit = 0\n",
    "                for citation in paper['citations']:\n",
    "                    if 'year' in citation and citation['year'] is not None and self.upper_bound >= citation[\n",
    "                        'year'] >= self.lower_bound:\n",
    "                        numb_cit += 1\n",
    "                else:\n",
    "                    ls_citations.append(numb_cit)\n",
    "        return ls_citations\n",
    "\n",
    "    def number_citations_ref(self, dimension='references', dimension_papers='citations'):\n",
    "        \"\"\"Like number_citations but the list elements represent the citations the references of a paper received.\"\"\"\n",
    "        ls_citations = []\n",
    "        for paper in self.o_paper['paperInfo'][dimension]:\n",
    "            if paper['year'] is not None and paper['year'] <= self.upper_bound and 'citations' in paper.keys():\n",
    "                numb_cit = 0\n",
    "                for citation in paper[dimension_papers]: #TODO: maybe change dimension_paper and paper?\n",
    "                    if citation['year'] is not None and self.upper_bound >= citation['year'] >= self.lower_bound:\n",
    "                        numb_cit += 1\n",
    "                else:\n",
    "                    ls_citations.append(numb_cit)\n",
    "        return ls_citations\n",
    "\n",
    "    def just_citations(self):\n",
    "        numb_cit = 0\n",
    "        for paper in self.o_paper['paperInfo']['citations']:\n",
    "            if paper['year'] is not None and self.o_paper['paperInfo']['year'] + self.impact_year >= paper[\n",
    "                'year'] >= self.lower_bound:\n",
    "                        numb_cit += 1\n",
    "                        #print((paper['year'] + self.impact_year))\n",
    "        return numb_cit\n",
    "    def just_citations_non_cumulative(self):\n",
    "        numb_cit = 0\n",
    "        for paper in self.o_paper['paperInfo']['citations']:\n",
    "            #print(paper)\n",
    "            if paper['year'] is not None and self.o_paper['paperInfo']['year'] + self.impact_year == paper[\n",
    "                'year']:\n",
    "                        numb_cit += 1\n",
    "                        #print((paper['year'] + self.impact_year))\n",
    "        return numb_cit\n",
    "    def reference_score(self):\n",
    "        return calc_h_score(self.number_citations_ref())\n",
    "    def citations_citations_score(self):\n",
    "        return calc_h_score(self.number_citations_ref('citations', 'citations'))\n",
    "    def citations_citations_sum(self):\n",
    "        return np.sum(self.number_citations_ref('citations', 'citations'))\n",
    "    def citations_single_author_score(self, author_number):\n",
    "        return calc_h_score(self.number_citations_authors(author_number))\n"
   ],
   "metadata": {
    "collapsed": false,
    "pycharm": {
     "name": "#%%\n"
    }
   }
  },
  {
   "cell_type": "code",
   "execution_count": 105,
   "outputs": [
    {
     "name": "stdout",
     "output_type": "stream",
     "text": [
      "KITTI\n",
      "9 2022 987\n"
     ]
    }
   ],
   "source": [
    "impact_year = 9\n",
    "ind_paper = 0\n",
    "print(retrieved_data[ind_paper]['id'])\n",
    "scorer = scoring(retrieved_data[ind_paper], 200, 0, impact_year)\n",
    "print(impact_year, retrieved_data[ind_paper]['paperInfo']['year']+impact_year, scorer.just_citations_non_cumulative())"
   ],
   "metadata": {
    "collapsed": false,
    "pycharm": {
     "name": "#%%\n"
    }
   }
  },
  {
   "cell_type": "code",
   "execution_count": 106,
   "outputs": [
    {
     "data": {
      "text/plain": "{'citations': [{'paperId': 'edb454208a16742615b0dd9c23a31d7bcde1dd3b',\n   'year': 2022},\n  {'paperId': '272fe83f6b9a80716952b20cb1d7cfd2f480a2c8', 'year': 2022},\n  {'paperId': '0314cfdc5fac4f9a9b9195c73dea9e4a1203b471', 'year': 2021},\n  {'paperId': 'ba426fe6e6af3d855cb5461725a7830dd8661ebf', 'year': 2022},\n  {'paperId': '5df0f6b6372dfff270cac89bf7d0f461d69a2a4f', 'year': 2021},\n  {'paperId': '51f349b27791484d41255944ad94e11690e2c710', 'year': 2020},\n  {'paperId': '30863583187e6eb27efdbec50062bd53cf2f4fe6', 'year': 2020},\n  {'paperId': '6990c3daf2da844ebdb2dea5877dedd45e5d5105', 'year': 2019},\n  {'paperId': '3a7058616fdee4cb47de2f7c2ab9990660963d39', 'year': 2019},\n  {'paperId': '9c5f7f314010ec8ba092e9d00444040dce021e96', 'year': 2019},\n  {'paperId': '542de16b6f21c7089007a63a7504aec4a098a1f0', 'year': 2019},\n  {'paperId': '37d446fe0421497544d67f9dc3c13abb3f16d2d4', 'year': 2018},\n  {'paperId': '9b4001c8dbe3ed5b492ef1040d8fe622c523be97', 'year': 2018},\n  {'paperId': '3887f78efaa5e751442f7e4c3a614875438b8868', 'year': 2017},\n  {'paperId': 'fd131c95f17c78517927f3a65ec49d7615d4d776', 'year': 2017},\n  {'paperId': '466c8ad1da2ffc8907b65c3023697fbbd18bf1b8', 'year': 2017},\n  {'paperId': '67880b2fb624daf3b58f2f48c7b76118ae03a68f', 'year': 2017},\n  {'paperId': 'db11440da82b9f05554ee3df793f114abffa5022', 'year': 2017},\n  {'paperId': '44717be5e7876e4ba8f982cb83e068c75fb23d63', 'year': 2016},\n  {'paperId': 'd3267b3083fcf43990193de8af5bdf835dc00dca', 'year': 2016},\n  {'paperId': '9993fdbecea16e48aa1f0077aa28ce5f05bbcec4', 'year': 2016},\n  {'paperId': '8686d1b1982e261c2334170b05d9e9aea9dee548', 'year': 2015},\n  {'paperId': '7eab4fb362fdc4cc8f37ed97acfc16f350f24635', 'year': 2015},\n  {'paperId': 'cf5744eec348ba182b7fe58a87a5d0fd55103295', 'year': 2014},\n  {'paperId': 'a709bb6d3aac3c8d32084580eb0573d18f82c7d0', 'year': 2014},\n  {'paperId': 'ba406932c3860e1d97c9d34edd38b989cc1ff066', 'year': 2013},\n  {'paperId': '79b949d9b35c3f51dd20fb5c746cc81fc87147eb', 'year': 2013},\n  {'paperId': 'c585a7958e432f0bebc32633986dcaed39a7feee', 'year': 2013},\n  {'paperId': 'ed7fec9decdf128cbcae7c07a82ba32a483e4529', 'year': 2013},\n  {'paperId': 'be17c2c7c4c569eec4ee21a985400aadc8e766df', 'year': 2013},\n  {'paperId': 'a27b8458794b64ff12e06b86328337b579e0fc0b', 'year': 2012},\n  {'paperId': '18b7a5317edd6c68f459c8e2d43ba7bd8df3f933', 'year': 2012}],\n 'paperId': '4ec81fbe561b4690d6f1fa3585d0344176f3b99e',\n 'title': 'The Mercator Projections'}"
     },
     "execution_count": 106,
     "metadata": {},
     "output_type": "execute_result"
    }
   ],
   "source": [
    "retrieved_data[0]['paperInfo']['references'][0]"
   ],
   "metadata": {
    "collapsed": false,
    "pycharm": {
     "name": "#%%\n"
    }
   }
  },
  {
   "cell_type": "code",
   "execution_count": 107,
   "outputs": [
    {
     "data": {
      "text/plain": "{'citations': [],\n 'paperId': '98f3f03939a44143cf5d809229f9aa9eb07a05bc',\n 'year': 2022}"
     },
     "execution_count": 107,
     "metadata": {},
     "output_type": "execute_result"
    }
   ],
   "source": [
    "retrieved_data[6]['paperInfo']['citations'][4]"
   ],
   "metadata": {
    "collapsed": false,
    "pycharm": {
     "name": "#%%\n"
    }
   }
  },
  {
   "cell_type": "code",
   "execution_count": 108,
   "outputs": [
    {
     "name": "stdout",
     "output_type": "stream",
     "text": [
      "KITTI 4737\n",
      "Cars Dataset 1625\n",
      "Synthia 1376\n",
      "nuImages 1357\n",
      "nuScenes 1357\n",
      "GTA5 1148\n",
      "CamVid 918\n",
      "Oxford Robot Car 847\n",
      "GTSRB 696\n",
      "Caltech Lanes 685\n",
      "Mapillary Vistas 651\n",
      "Caltech Pedestrian 643\n",
      "Waymo Open Perception 628\n",
      "Beyond PASCAL 622\n",
      "GTSDB 525\n",
      "LISA Traffic Sign Dataset 515\n",
      "BDD100k 500\n",
      "Argoverse 3D Tracking 476\n",
      "Argoverse Motion Forecasting 476\n",
      "Stanford Drone Dataset 464\n",
      "TT100K 377\n",
      "CULane Dataset 329\n",
      "highD 307\n",
      "Road Damage 240\n",
      "VPGNet 237\n",
      "ApolloScape 233\n",
      "Malaga Stereo and Laser Urban 200\n",
      "DDAD 195\n",
      "TUD Brussels 188\n",
      "Brain4Cars 180\n",
      "comma.ai 179\n",
      "CARLA100 177\n",
      "Multi Vehicle Stereo Event Camera 167\n",
      "Stanford Track Collection 159\n",
      "LISA Traffic Light Dataset 148\n",
      "INTERACTION dataset 141\n",
      "Bosch Small Traffic Lights Dataset 139\n",
      "Bosch TL 139\n",
      "India Driving Dataset 137\n",
      "Oxford Radar Robot Car 137\n",
      "TME Motorway 129\n",
      "KITTI-360 128\n",
      "DR(eye)VE 121\n",
      "JAAD 114\n",
      "KAIST Multi-Spectral Day/Night 112\n",
      "WoodScape 103\n",
      "H3D 101\n",
      "Complex Urban Dataset 95\n",
      "Ground Truth Stixel 95\n",
      "KAIST Urban 95\n",
      "inD 89\n",
      "Lyft Level5 Perception 87\n",
      "Lyft Level5 Prediction 87\n",
      "One Thousand and One Hours 87\n",
      "Synscapes 87\n",
      "WildDash 86\n",
      "A2D2 82\n",
      "Five Roundabouts Dataset 80\n",
      "UAH-DriveSet 79\n",
      "Tsinghua Daimler Cyclist Detection 74\n",
      "DBNet 73\n",
      "LiDAR-Video Driving Dataset 73\n",
      "HD1K 70\n",
      "LostAndFound 70\n",
      "HCI Challenging Stereo 67\n",
      "SeeingThroughFog 67\n",
      "Waymo Open Motion 54\n",
      "CADC 51\n",
      "Fishyscapes 50\n",
      "Cityscapes-DVPS 48\n",
      "SemKITTI-DVPS 48\n",
      "Synthetic Discrepancy Datasets 48\n",
      "A*3D 47\n",
      "Toronto 3D 47\n",
      "NightOwls 41\n",
      "The EuroCity Persons Dataset 38\n",
      "Street Hazards 36\n",
      "Comma2k19 33\n",
      "rounD 32\n",
      "RUGD: Robot Unstructured Ground Driving 32\n",
      "D^2 City 31\n",
      "Ford Autonomous Vehicle Dataset 31\n",
      "DIPLECS Autonomous Driving Datasets 29\n",
      "ONCE 29\n",
      "RELLIS-3D Dataset 29\n",
      "Street Learn 29\n",
      "LIBRE 28\n",
      "RADIATE 27\n",
      "CADP 26\n",
      "UTBM EU LTD 26\n",
      "PointCloudDeNoising 25\n",
      "Waymo Block-NeRF 25\n",
      "Bay Area Dataset 24\n",
      "Illumination Changes in a day 24\n",
      "Seasonal Variation Dataset 24\n",
      "BLVD 23\n",
      "DDD 20 23\n",
      "DDD20: DAVIS Driving Dataset 2020 23\n",
      "Gated2Depth 23\n",
      "Talk2Car 23\n",
      "MAVD Multimodal Audio-Visual Detection 22\n",
      "CARRADA Dataset 21\n",
      "4Seasons 20\n",
      "DriveU Traffic Light Dataset 20\n",
      "Unsupervised Llamas 20\n",
      "RANUS 19\n",
      "AMUSE 18\n",
      "MTSD 18\n",
      "IDDA 17\n",
      "RoadAnomaly21 17\n",
      "Cityscapes 3D 16\n",
      "MOTSynth 16\n",
      "PREVENTION 15\n",
      "Boxy 13\n",
      "RadarScenes 13\n",
      "KITTI-360 PanopticBEV 10\n",
      "openDD 10\n",
      "MCity Data Collection 9\n",
      "Semantic KITTI 9\n",
      "nuPlan 8\n",
      "ROAD 6\n",
      "Small Obstacle 6\n",
      "TRoM 6\n",
      "PepScenes 5\n",
      "A9 4\n",
      "BDD100K-APS 4\n",
      "Boreas 4\n",
      "KITTI-360-APS 4\n",
      "The Autonomous Platform Inertial Dataset 4\n",
      "The USyd Campus Dataset 4\n",
      "CODA 3\n",
      "SODA10M 3\n",
      "Cooperative Driving Dataset (CODD) 2\n",
      "DGL-MOTS 2\n",
      "SHIFT 2\n",
      "Amodal Cityscapes 1\n",
      "DRIV100 1\n",
      "Gated2Gated 1\n",
      "GROUNDED 1\n",
      "MIT-AVT Clustered Driving Scene Dataset 1\n",
      "OpenMPD 1\n",
      "ScribbleKITTI 1\n",
      "AugKITTI 0\n",
      "CarlaScenes 0\n",
      "CrashD 0\n",
      "exiD 0\n",
      "K-Radar 0\n",
      "On Salience-Sensitive Sign Classification in Autonomous Vehicle Path Planning 0\n",
      "R3 Driving Dataset 0\n",
      "Rope3D 0\n"
     ]
    }
   ],
   "source": [
    "# 6 - camvid has some problem returns nones\n",
    "for paper in retrieved_data:\n",
    "    print(paper['id'], paper['citationCount'])"
   ],
   "metadata": {
    "collapsed": false,
    "pycharm": {
     "name": "#%%\n"
    }
   }
  },
  {
   "cell_type": "code",
   "execution_count": 109,
   "outputs": [
    {
     "data": {
      "text/plain": "'2009-01-15'"
     },
     "execution_count": 109,
     "metadata": {},
     "output_type": "execute_result"
    }
   ],
   "source": [
    "retrieved_data[6]['publishDate']"
   ],
   "metadata": {
    "collapsed": false,
    "pycharm": {
     "name": "#%%\n"
    }
   }
  },
  {
   "cell_type": "markdown",
   "source": [
    "When do citations take off"
   ],
   "metadata": {
    "collapsed": false
   }
  },
  {
   "cell_type": "code",
   "execution_count": 110,
   "outputs": [
    {
     "name": "stderr",
     "output_type": "stream",
     "text": [
      "  0%|          | 0/150 [00:00<?, ?it/s]"
     ]
    },
    {
     "name": "stdout",
     "output_type": "stream",
     "text": [
      "-1 1\n",
      "0 7\n",
      "1 90\n",
      "2 259\n",
      "3 503\n",
      "4 869\n",
      "5 1454\n",
      "6 2322\n",
      "7 3355\n",
      "8 4339\n",
      "9 5326\n",
      "-1 0\n",
      "0 1\n",
      "1 10\n",
      "2 34\n",
      "3 86\n",
      "4 199\n",
      "5 363\n",
      "6 641\n",
      "7 1035\n",
      "8 1467\n",
      "9 1946\n",
      "-1 0\n",
      "0 31\n",
      "1 142\n",
      "2 356\n",
      "3 623\n",
      "4 945\n",
      "5 1269\n",
      "6 1541\n",
      "-1 5\n",
      "0 97\n",
      "1 479\n",
      "2 1056\n",
      "3 1815\n",
      "-1 5\n",
      "0 97\n",
      "1 479\n",
      "2 1056\n",
      "3 1815\n",
      "-1 0\n",
      "0 23\n",
      "1 125\n",
      "2 304\n",
      "3 521\n",
      "4 773\n",
      "5 1057\n",
      "6 1299\n"
     ]
    },
    {
     "name": "stderr",
     "output_type": "stream",
     "text": [
      "  6%|▌         | 9/150 [00:00<00:01, 82.08it/s]"
     ]
    },
    {
     "name": "stdout",
     "output_type": "stream",
     "text": [
      "-1 1\n",
      "0 6\n",
      "1 17\n",
      "2 32\n",
      "3 48\n",
      "4 64\n",
      "5 83\n",
      "6 106\n",
      "7 149\n",
      "8 238\n",
      "9 377\n",
      "10 524\n",
      "11 708\n",
      "12 862\n",
      "13 992\n",
      "-1 8\n",
      "0 56\n",
      "1 169\n",
      "2 330\n",
      "3 558\n",
      "4 760\n",
      "5 949\n",
      "-1 1\n",
      "0 14\n",
      "1 34\n",
      "2 50\n",
      "3 77\n",
      "4 111\n",
      "5 148\n",
      "6 217\n",
      "7 325\n",
      "8 443\n",
      "9 571\n",
      "10 667\n",
      "11 759\n",
      "-1 0\n",
      "0 1\n",
      "1 5\n",
      "2 17\n",
      "3 36\n",
      "4 64\n",
      "5 105\n",
      "6 151\n",
      "7 208\n",
      "8 275\n",
      "9 356\n",
      "10 455\n",
      "11 532\n",
      "12 629\n",
      "13 684\n",
      "14 733\n",
      "-1 0\n",
      "0 4\n",
      "1 70\n",
      "2 229\n",
      "3 389\n",
      "4 565\n",
      "5 757\n",
      "-1 0\n",
      "0 11\n",
      "1 77\n",
      "2 172\n",
      "3 249\n",
      "4 324\n",
      "5 404\n",
      "6 495\n",
      "7 574\n",
      "8 689\n",
      "9 809\n",
      "10 930\n",
      "11 1059\n",
      "12 1169\n",
      "13 1263\n",
      "-1 1\n",
      "0 9\n",
      "1 162\n",
      "2 465\n",
      "3 895\n",
      "-1 0\n",
      "0 11\n",
      "1 58\n",
      "2 111\n",
      "3 182\n",
      "4 303\n",
      "5 410\n",
      "6 508\n",
      "7 598\n",
      "8 659\n",
      "-1 0\n",
      "0 12\n",
      "1 34\n",
      "2 63\n",
      "3 102\n",
      "4 164\n",
      "5 234\n",
      "6 326\n",
      "7 413\n",
      "8 503\n",
      "9 589\n",
      "-1 0\n",
      "0 5\n",
      "1 23\n",
      "2 58\n",
      "3 121\n",
      "4 165\n",
      "5 233\n",
      "6 295\n",
      "7 380\n",
      "8 456\n",
      "9 508\n",
      "10 546\n",
      "-1 1\n",
      "0 13\n",
      "1 74\n",
      "2 145\n",
      "3 391\n",
      "4 687\n",
      "-1 3\n",
      "0 37\n",
      "1 183\n",
      "2 372\n",
      "3 594\n",
      "-1 3\n",
      "0 37\n",
      "1 183\n",
      "2 372\n",
      "3 594\n",
      "-1 0\n",
      "0 1\n",
      "1 29\n",
      "2 81\n",
      "3 186\n",
      "4 322\n",
      "5 421\n",
      "6 519\n",
      "-1 0\n",
      "0 2\n",
      "1 52\n",
      "2 117\n",
      "3 204\n",
      "4 276\n",
      "5 361\n",
      "6 440\n",
      "-1 1\n",
      "0 1\n",
      "1 19\n",
      "2 77\n",
      "3 181\n",
      "4 295\n",
      "5 432\n",
      "-1 0\n",
      "0 4\n",
      "1 42\n",
      "2 154\n",
      "3 269\n",
      "4 402\n",
      "-1 0\n",
      "0 7\n",
      "1 36\n",
      "2 108\n",
      "3 180\n",
      "4 228\n",
      "-1 0\n",
      "0 0\n",
      "1 28\n",
      "2 76\n",
      "3 160\n",
      "4 232\n",
      "5 280\n",
      "-1 0\n",
      "0 10\n",
      "1 40\n",
      "2 106\n",
      "3 191\n",
      "4 284\n"
     ]
    },
    {
     "name": "stderr",
     "output_type": "stream",
     "text": [
      "100%|██████████| 150/150 [00:00<00:00, 668.74it/s]"
     ]
    },
    {
     "name": "stdout",
     "output_type": "stream",
     "text": [
      "-1 0\n",
      "0 3\n",
      "1 16\n",
      "2 29\n",
      "3 55\n",
      "4 85\n",
      "5 121\n",
      "6 159\n",
      "7 190\n",
      "8 210\n",
      "-1 0\n",
      "0 7\n",
      "1 44\n",
      "2 150\n",
      "3 266\n",
      "-1 0\n",
      "0 2\n",
      "1 27\n",
      "2 63\n",
      "3 88\n",
      "4 133\n",
      "5 169\n",
      "6 214\n",
      "7 247\n",
      "8 290\n",
      "9 330\n",
      "10 360\n",
      "11 386\n",
      "12 403\n",
      "13 417\n",
      "-1 0\n",
      "0 4\n",
      "1 24\n",
      "2 43\n",
      "3 82\n",
      "4 117\n",
      "5 159\n",
      "6 178\n",
      "7 194\n",
      "-1 0\n",
      "0 10\n",
      "1 33\n",
      "2 71\n",
      "3 109\n",
      "4 148\n",
      "5 179\n",
      "6 188\n",
      "-1 2\n",
      "0 18\n",
      "1 67\n",
      "2 136\n",
      "3 220\n",
      "-1 0\n",
      "0 13\n",
      "1 46\n",
      "2 85\n",
      "3 150\n",
      "4 210\n",
      "-1 0\n",
      "0 6\n",
      "1 16\n",
      "2 30\n",
      "3 39\n",
      "4 59\n",
      "5 76\n",
      "6 100\n",
      "7 118\n",
      "8 137\n",
      "9 153\n",
      "10 163\n",
      "11 171\n",
      "-1 2\n",
      "0 12\n",
      "1 33\n",
      "2 62\n",
      "3 94\n",
      "4 124\n",
      "5 149\n",
      "6 161\n",
      "-1 0\n",
      "0 6\n",
      "1 54\n",
      "2 119\n",
      "3 198\n",
      "-1 0\n",
      "0 2\n",
      "1 24\n",
      "2 66\n",
      "3 101\n",
      "4 130\n",
      "5 154\n",
      "-1 0\n",
      "0 2\n",
      "1 24\n",
      "2 66\n",
      "3 101\n",
      "4 130\n",
      "5 154\n",
      "-1 0\n",
      "0 2\n",
      "1 18\n",
      "2 51\n",
      "3 102\n",
      "4 169\n",
      "-1 1\n",
      "0 5\n",
      "1 48\n",
      "2 111\n",
      "3 173\n",
      "-1 0\n",
      "0 2\n",
      "1 12\n",
      "2 24\n",
      "3 49\n",
      "4 69\n",
      "5 87\n",
      "6 99\n",
      "7 111\n",
      "8 122\n",
      "9 127\n",
      "10 133\n",
      "-1 0\n",
      "0 0\n",
      "1 7\n",
      "2 29\n",
      "3 48\n",
      "4 64\n",
      "5 78\n",
      "6 119\n",
      "7 141\n",
      "-1 0\n",
      "0 4\n",
      "1 10\n",
      "2 43\n",
      "3 78\n",
      "4 111\n",
      "5 148\n",
      "-1 0\n",
      "0 0\n",
      "1 11\n",
      "2 32\n",
      "3 71\n",
      "4 107\n",
      "5 137\n",
      "-1 0\n",
      "0 3\n",
      "1 20\n",
      "2 53\n",
      "3 92\n",
      "4 133\n",
      "-1 0\n",
      "0 13\n",
      "1 36\n",
      "2 81\n",
      "3 120\n",
      "-1 0\n",
      "0 17\n",
      "1 49\n",
      "2 85\n",
      "3 123\n",
      "-1 0\n",
      "0 13\n",
      "1 43\n",
      "2 78\n",
      "3 114\n",
      "-1 0\n",
      "0 4\n",
      "1 15\n",
      "2 29\n",
      "3 45\n",
      "4 67\n",
      "5 77\n",
      "6 85\n",
      "7 89\n",
      "8 94\n",
      "9 96\n",
      "-1 0\n",
      "0 13\n",
      "1 43\n",
      "2 78\n",
      "3 114\n",
      "-1 0\n",
      "0 0\n",
      "1 25\n",
      "2 64\n",
      "3 131\n",
      "-1 0\n",
      "0 8\n",
      "1 56\n",
      "2 124\n",
      "-1 0\n",
      "0 8\n",
      "1 56\n",
      "2 124\n",
      "-1 0\n",
      "0 8\n",
      "1 56\n",
      "2 124\n",
      "-1 0\n",
      "0 2\n",
      "1 16\n",
      "2 45\n",
      "3 80\n",
      "4 107\n",
      "-1 0\n",
      "0 2\n",
      "1 20\n",
      "2 40\n",
      "3 68\n",
      "4 105\n",
      "-1 1\n",
      "0 24\n",
      "1 70\n",
      "2 117\n",
      "-1 0\n",
      "0 5\n",
      "1 19\n",
      "2 44\n",
      "3 75\n",
      "4 106\n",
      "-1 0\n",
      "0 0\n",
      "1 3\n",
      "2 11\n",
      "3 37\n",
      "4 63\n",
      "5 79\n",
      "6 97\n",
      "-1 0\n",
      "0 3\n",
      "1 14\n",
      "2 23\n",
      "3 46\n",
      "4 60\n",
      "5 71\n",
      "6 79\n",
      "-1 0\n",
      "0 9\n",
      "1 34\n",
      "2 52\n",
      "3 69\n",
      "4 86\n",
      "-1 0\n",
      "0 9\n",
      "1 34\n",
      "2 52\n",
      "3 69\n",
      "4 86\n",
      "-1 0\n",
      "0 1\n",
      "1 6\n",
      "2 13\n",
      "3 20\n",
      "4 33\n",
      "5 50\n",
      "6 79\n",
      "-1 0\n",
      "0 1\n",
      "1 5\n",
      "2 10\n",
      "3 23\n",
      "4 35\n",
      "5 55\n",
      "6 84\n",
      "-1 2\n",
      "0 7\n",
      "1 15\n",
      "2 24\n",
      "3 36\n",
      "4 39\n",
      "5 49\n",
      "6 52\n",
      "7 61\n",
      "8 65\n",
      "9 66\n",
      "10 70\n",
      "-1 0\n",
      "0 2\n",
      "1 7\n",
      "2 46\n",
      "3 105\n",
      "-1 1\n",
      "0 24\n",
      "1 110\n",
      "-1 1\n",
      "0 11\n",
      "1 37\n",
      "2 75\n",
      "-1 0\n",
      "0 7\n",
      "1 15\n",
      "2 36\n",
      "3 66\n",
      "-1 0\n",
      "0 2\n",
      "1 29\n",
      "2 58\n",
      "-1 0\n",
      "0 2\n",
      "1 29\n",
      "2 58\n",
      "-1 0\n",
      "0 5\n",
      "1 12\n",
      "2 31\n",
      "3 66\n",
      "-1 0\n",
      "0 4\n",
      "1 15\n",
      "2 33\n",
      "3 55\n",
      "-1 1\n",
      "0 7\n",
      "1 40\n",
      "2 67\n",
      "-1 0\n",
      "0 2\n",
      "1 7\n",
      "2 21\n",
      "3 38\n",
      "4 51\n",
      "-1 2\n",
      "0 31\n",
      "1 79\n",
      "2 108\n",
      "3 143\n",
      "-1 23\n",
      "0 71\n",
      "-1 0\n",
      "0 1\n",
      "1 4\n",
      "2 12\n",
      "3 21\n",
      "4 34\n",
      "-1 0\n",
      "0 3\n",
      "1 19\n",
      "2 44\n",
      "-1 0\n",
      "0 0\n",
      "1 2\n",
      "2 24\n",
      "3 47\n",
      "-1 0\n",
      "0 3\n",
      "1 15\n",
      "2 29\n",
      "3 37\n",
      "-1 1\n",
      "0 9\n",
      "1 22\n",
      "2 42\n",
      "-1 0\n",
      "0 0\n",
      "1 3\n",
      "2 6\n",
      "3 9\n",
      "4 13\n",
      "5 19\n",
      "6 26\n",
      "7 31\n",
      "-1 1\n",
      "0 9\n",
      "1 48\n",
      "-1 0\n",
      "0 1\n",
      "1 20\n",
      "2 48\n",
      "-1 1\n",
      "0 8\n",
      "1 14\n",
      "2 28\n",
      "3 32\n",
      "-1 0\n",
      "0 6\n",
      "1 25\n",
      "2 39\n",
      "-1 0\n",
      "0 1\n",
      "1 21\n",
      "2 34\n",
      "-1 0\n",
      "0 0\n",
      "1 9\n",
      "2 16\n",
      "3 26\n",
      "4 41\n",
      "-1 0\n",
      "0 3\n",
      "1 9\n",
      "2 22\n",
      "3 35\n",
      "-1 0\n",
      "0 0\n",
      "1 2\n",
      "2 10\n",
      "3 33\n",
      "-1 7\n",
      "0 83\n",
      "-1 0\n",
      "0 1\n",
      "1 4\n",
      "2 8\n",
      "3 10\n",
      "4 16\n",
      "5 17\n",
      "6 20\n",
      "7 22\n",
      "8 24\n",
      "-1 0\n",
      "0 1\n",
      "1 4\n",
      "2 8\n",
      "3 10\n",
      "4 16\n",
      "5 17\n",
      "6 20\n",
      "7 22\n",
      "8 24\n",
      "-1 0\n",
      "0 1\n",
      "1 4\n",
      "2 8\n",
      "3 10\n",
      "4 16\n",
      "5 17\n",
      "6 20\n",
      "7 22\n",
      "8 24\n",
      "-1 0\n",
      "0 5\n",
      "1 13\n",
      "2 19\n",
      "3 26\n",
      "-1 1\n",
      "0 3\n",
      "1 14\n",
      "2 27\n",
      "-1 1\n",
      "0 3\n",
      "1 14\n",
      "2 27\n",
      "-1 0\n",
      "0 4\n",
      "1 10\n",
      "2 20\n",
      "3 26\n",
      "-1 0\n",
      "0 2\n",
      "1 11\n",
      "2 20\n",
      "3 31\n",
      "-1 0\n",
      "0 7\n",
      "1 32\n",
      "-1 0\n",
      "0 1\n",
      "1 17\n",
      "2 36\n",
      "-1 0\n",
      "0 0\n",
      "1 10\n",
      "2 27\n",
      "-1 0\n",
      "0 3\n",
      "1 10\n",
      "2 13\n",
      "3 18\n",
      "4 23\n",
      "-1 0\n",
      "0 0\n",
      "1 4\n",
      "2 11\n",
      "3 25\n",
      "-1 0\n",
      "0 1\n",
      "1 8\n",
      "2 13\n",
      "3 19\n",
      "4 25\n",
      "-1 0\n",
      "0 0\n",
      "1 1\n",
      "2 3\n",
      "3 3\n",
      "4 6\n",
      "5 7\n",
      "6 12\n",
      "7 14\n",
      "8 16\n",
      "9 18\n",
      "-1 0\n",
      "0 0\n",
      "1 3\n",
      "2 11\n",
      "3 26\n",
      "-1 0\n",
      "0 0\n",
      "1 5\n",
      "2 20\n",
      "-1 0\n",
      "0 5\n",
      "1 29\n",
      "-1 0\n",
      "0 1\n",
      "1 8\n",
      "2 23\n",
      "-1 0\n",
      "0 2\n",
      "1 30\n",
      "-1 0\n",
      "0 0\n",
      "1 7\n",
      "2 14\n",
      "3 23\n",
      "-1 0\n",
      "0 1\n",
      "1 8\n",
      "2 11\n",
      "3 17\n",
      "-1 0\n",
      "0 11\n",
      "1 23\n",
      "-1 0\n",
      "0 2\n",
      "1 20\n",
      "-1 0\n",
      "0 1\n",
      "1 8\n",
      "2 14\n",
      "-1 0\n",
      "0 0\n",
      "1 4\n",
      "2 8\n",
      "3 11\n",
      "-1 0\n",
      "0 4\n",
      "1 6\n",
      "2 7\n",
      "3 9\n",
      "-1 0\n",
      "0 3\n",
      "1 21\n",
      "-1 0\n",
      "0 2\n",
      "1 16\n",
      "-1 0\n",
      "0 1\n",
      "1 3\n",
      "2 8\n",
      "-1 0\n",
      "0 0\n",
      "1 0\n",
      "2 3\n",
      "3 5\n",
      "4 7\n",
      "5 9\n",
      "-1 0\n",
      "0 2\n",
      "1 5\n",
      "2 6\n",
      "-1 0\n",
      "0 8\n",
      "-1 0\n",
      "0 7\n",
      "-1 0\n",
      "0 9\n",
      "-1 0\n",
      "0 7\n",
      "-1 0\n",
      "0 6\n",
      "-1 0\n",
      "0 1\n",
      "1 5\n",
      "2 8\n",
      "-1 0\n",
      "0 6\n",
      "-1 0\n",
      "0 0\n",
      "1 7\n",
      "-1 0\n",
      "0 0\n",
      "1 7\n",
      "-1 0\n",
      "0 0\n",
      "1 6\n",
      "-1 2\n",
      "0 6\n",
      "-1 0\n",
      "0 1\n",
      "-1 0\n",
      "0 0\n",
      "1 1\n",
      "-1 0\n",
      "0 1\n",
      "1 1\n",
      "-1 0\n",
      "0 1\n",
      "1 2\n",
      "-1 0\n",
      "0 0\n",
      "1 1\n",
      "2 1\n",
      "-1 0\n",
      "0 5\n",
      "-1 0\n",
      "0 6\n",
      "-1 0\n",
      "0 0\n",
      "-1 0\n",
      "0 4\n",
      "-1 0\n",
      "0 0\n",
      "1 3\n",
      "-1 0\n",
      "0 2\n",
      "-1 0\n",
      "0 1\n",
      "-1 0\n",
      "0 0\n",
      "1 0\n",
      "-1 0\n",
      "0 0\n",
      "1 0\n",
      "-1 0\n",
      "0 3\n"
     ]
    },
    {
     "name": "stderr",
     "output_type": "stream",
     "text": [
      "\n"
     ]
    },
    {
     "data": {
      "text/plain": "array([[  1.,   7.,  90., ...,   0.,   0.,   0.],\n       [  0.,   1.,  10., ...,   0.,   0.,   0.],\n       [  0.,  31., 142., ...,   0.,   0.,   0.],\n       ...,\n       [  0.,   0.,   0., ...,   0.,   0.,   0.],\n       [  0.,   0.,   0., ...,   0.,   0.,   0.],\n       [  0.,   3.,   0., ...,   0.,   0.,   0.]])"
     },
     "execution_count": 110,
     "metadata": {},
     "output_type": "execute_result"
    }
   ],
   "source": [
    "# TODO: nuSecenes 60 citations stimmt nicht\n",
    "def citation_timeline_array(retrieved_data):\n",
    "    \"\"\"Columns are years, rows datasets. column 0 is year prior to publication. column 1 year of pub. etc. entries are #citations that year\"\"\"\n",
    "    array = np.zeros([len(retrieved_data), 16])\n",
    "    names = []\n",
    "    for paper_idx, paper in enumerate(tqdm(retrieved_data)):\n",
    "        names.append(paper['id'])\n",
    "        if 'paperInfo' in retrieved_data[paper_idx].keys() and 'year' in retrieved_data[paper_idx]['paperInfo'].keys():\n",
    "            array_idx = 0\n",
    "            for impact_year in range(-1, 2022-retrieved_data[paper_idx]['paperInfo']['year']+1, 1):\n",
    "                # iterates from 1 year prior to publication until today. e.g. kitti pub in 2012 2011-2022 -> last entry column 9\n",
    "                scorer = scoring(paper, 200, 0, impact_year)\n",
    "                print(impact_year, scorer.just_citations())\n",
    "                array[paper_idx][array_idx] = scorer.just_citations()\n",
    "                array_idx += 1\n",
    "    return array, names\n",
    "array, name = citation_timeline_array(retrieved_data)\n",
    "array"
   ],
   "metadata": {
    "collapsed": false,
    "pycharm": {
     "name": "#%%\n"
    }
   }
  },
  {
   "cell_type": "code",
   "execution_count": 111,
   "outputs": [],
   "source": [
    "data = array\n",
    "data = np.delete(data, np.s_[-12:], axis=1)\n",
    "df = pd.DataFrame(data).set_axis(name)#\n",
    "for column in range(df.shape[1]):\n",
    "    if column >= 3:\n",
    "        df = df[df[column] > 0]\n",
    "data = np.array(df)"
   ],
   "metadata": {
    "collapsed": false,
    "pycharm": {
     "name": "#%%\n"
    }
   }
  },
  {
   "cell_type": "code",
   "execution_count": 112,
   "outputs": [
    {
     "data": {
      "text/plain": "array([[1.000e+00, 7.000e+00, 9.000e+01, 2.590e+02],\n       [0.000e+00, 1.000e+00, 1.000e+01, 3.400e+01],\n       [0.000e+00, 3.100e+01, 1.420e+02, 3.560e+02],\n       [5.000e+00, 9.700e+01, 4.790e+02, 1.056e+03],\n       [5.000e+00, 9.700e+01, 4.790e+02, 1.056e+03],\n       [0.000e+00, 2.300e+01, 1.250e+02, 3.040e+02],\n       [1.000e+00, 6.000e+00, 1.700e+01, 3.200e+01],\n       [8.000e+00, 5.600e+01, 1.690e+02, 3.300e+02],\n       [1.000e+00, 1.400e+01, 3.400e+01, 5.000e+01],\n       [0.000e+00, 1.000e+00, 5.000e+00, 1.700e+01],\n       [0.000e+00, 4.000e+00, 7.000e+01, 2.290e+02],\n       [0.000e+00, 1.100e+01, 7.700e+01, 1.720e+02],\n       [1.000e+00, 9.000e+00, 1.620e+02, 4.650e+02],\n       [0.000e+00, 1.100e+01, 5.800e+01, 1.110e+02],\n       [0.000e+00, 1.200e+01, 3.400e+01, 6.300e+01],\n       [0.000e+00, 5.000e+00, 2.300e+01, 5.800e+01],\n       [1.000e+00, 1.300e+01, 7.400e+01, 1.450e+02],\n       [3.000e+00, 3.700e+01, 1.830e+02, 3.720e+02],\n       [3.000e+00, 3.700e+01, 1.830e+02, 3.720e+02],\n       [0.000e+00, 1.000e+00, 2.900e+01, 8.100e+01],\n       [0.000e+00, 2.000e+00, 5.200e+01, 1.170e+02],\n       [1.000e+00, 1.000e+00, 1.900e+01, 7.700e+01],\n       [0.000e+00, 4.000e+00, 4.200e+01, 1.540e+02],\n       [0.000e+00, 7.000e+00, 3.600e+01, 1.080e+02],\n       [0.000e+00, 0.000e+00, 2.800e+01, 7.600e+01],\n       [0.000e+00, 1.000e+01, 4.000e+01, 1.060e+02],\n       [0.000e+00, 3.000e+00, 1.600e+01, 2.900e+01],\n       [0.000e+00, 7.000e+00, 4.400e+01, 1.500e+02],\n       [0.000e+00, 2.000e+00, 2.700e+01, 6.300e+01],\n       [0.000e+00, 4.000e+00, 2.400e+01, 4.300e+01],\n       [0.000e+00, 1.000e+01, 3.300e+01, 7.100e+01],\n       [2.000e+00, 1.800e+01, 6.700e+01, 1.360e+02],\n       [0.000e+00, 1.300e+01, 4.600e+01, 8.500e+01],\n       [0.000e+00, 6.000e+00, 1.600e+01, 3.000e+01],\n       [2.000e+00, 1.200e+01, 3.300e+01, 6.200e+01],\n       [0.000e+00, 6.000e+00, 5.400e+01, 1.190e+02],\n       [0.000e+00, 2.000e+00, 2.400e+01, 6.600e+01],\n       [0.000e+00, 2.000e+00, 2.400e+01, 6.600e+01],\n       [0.000e+00, 2.000e+00, 1.800e+01, 5.100e+01],\n       [1.000e+00, 5.000e+00, 4.800e+01, 1.110e+02],\n       [0.000e+00, 2.000e+00, 1.200e+01, 2.400e+01],\n       [0.000e+00, 0.000e+00, 7.000e+00, 2.900e+01],\n       [0.000e+00, 4.000e+00, 1.000e+01, 4.300e+01],\n       [0.000e+00, 0.000e+00, 1.100e+01, 3.200e+01],\n       [0.000e+00, 3.000e+00, 2.000e+01, 5.300e+01],\n       [0.000e+00, 1.300e+01, 3.600e+01, 8.100e+01],\n       [0.000e+00, 1.700e+01, 4.900e+01, 8.500e+01],\n       [0.000e+00, 1.300e+01, 4.300e+01, 7.800e+01],\n       [0.000e+00, 4.000e+00, 1.500e+01, 2.900e+01],\n       [0.000e+00, 1.300e+01, 4.300e+01, 7.800e+01],\n       [0.000e+00, 0.000e+00, 2.500e+01, 6.400e+01],\n       [0.000e+00, 8.000e+00, 5.600e+01, 1.240e+02],\n       [0.000e+00, 8.000e+00, 5.600e+01, 1.240e+02],\n       [0.000e+00, 8.000e+00, 5.600e+01, 1.240e+02],\n       [0.000e+00, 2.000e+00, 1.600e+01, 4.500e+01],\n       [0.000e+00, 2.000e+00, 2.000e+01, 4.000e+01],\n       [1.000e+00, 2.400e+01, 7.000e+01, 1.170e+02],\n       [0.000e+00, 5.000e+00, 1.900e+01, 4.400e+01],\n       [0.000e+00, 0.000e+00, 3.000e+00, 1.100e+01],\n       [0.000e+00, 3.000e+00, 1.400e+01, 2.300e+01],\n       [0.000e+00, 9.000e+00, 3.400e+01, 5.200e+01],\n       [0.000e+00, 9.000e+00, 3.400e+01, 5.200e+01],\n       [0.000e+00, 1.000e+00, 6.000e+00, 1.300e+01],\n       [0.000e+00, 1.000e+00, 5.000e+00, 1.000e+01],\n       [2.000e+00, 7.000e+00, 1.500e+01, 2.400e+01],\n       [0.000e+00, 2.000e+00, 7.000e+00, 4.600e+01],\n       [1.000e+00, 1.100e+01, 3.700e+01, 7.500e+01],\n       [0.000e+00, 7.000e+00, 1.500e+01, 3.600e+01],\n       [0.000e+00, 2.000e+00, 2.900e+01, 5.800e+01],\n       [0.000e+00, 2.000e+00, 2.900e+01, 5.800e+01],\n       [0.000e+00, 5.000e+00, 1.200e+01, 3.100e+01],\n       [0.000e+00, 4.000e+00, 1.500e+01, 3.300e+01],\n       [1.000e+00, 7.000e+00, 4.000e+01, 6.700e+01],\n       [0.000e+00, 2.000e+00, 7.000e+00, 2.100e+01],\n       [2.000e+00, 3.100e+01, 7.900e+01, 1.080e+02],\n       [0.000e+00, 1.000e+00, 4.000e+00, 1.200e+01],\n       [0.000e+00, 3.000e+00, 1.900e+01, 4.400e+01],\n       [0.000e+00, 0.000e+00, 2.000e+00, 2.400e+01],\n       [0.000e+00, 3.000e+00, 1.500e+01, 2.900e+01],\n       [1.000e+00, 9.000e+00, 2.200e+01, 4.200e+01],\n       [0.000e+00, 0.000e+00, 3.000e+00, 6.000e+00],\n       [0.000e+00, 1.000e+00, 2.000e+01, 4.800e+01],\n       [1.000e+00, 8.000e+00, 1.400e+01, 2.800e+01],\n       [0.000e+00, 6.000e+00, 2.500e+01, 3.900e+01],\n       [0.000e+00, 1.000e+00, 2.100e+01, 3.400e+01],\n       [0.000e+00, 0.000e+00, 9.000e+00, 1.600e+01],\n       [0.000e+00, 3.000e+00, 9.000e+00, 2.200e+01],\n       [0.000e+00, 0.000e+00, 2.000e+00, 1.000e+01],\n       [0.000e+00, 1.000e+00, 4.000e+00, 8.000e+00],\n       [0.000e+00, 1.000e+00, 4.000e+00, 8.000e+00],\n       [0.000e+00, 1.000e+00, 4.000e+00, 8.000e+00],\n       [0.000e+00, 5.000e+00, 1.300e+01, 1.900e+01],\n       [1.000e+00, 3.000e+00, 1.400e+01, 2.700e+01],\n       [1.000e+00, 3.000e+00, 1.400e+01, 2.700e+01],\n       [0.000e+00, 4.000e+00, 1.000e+01, 2.000e+01],\n       [0.000e+00, 2.000e+00, 1.100e+01, 2.000e+01],\n       [0.000e+00, 1.000e+00, 1.700e+01, 3.600e+01],\n       [0.000e+00, 0.000e+00, 1.000e+01, 2.700e+01],\n       [0.000e+00, 3.000e+00, 1.000e+01, 1.300e+01],\n       [0.000e+00, 0.000e+00, 4.000e+00, 1.100e+01],\n       [0.000e+00, 1.000e+00, 8.000e+00, 1.300e+01],\n       [0.000e+00, 0.000e+00, 1.000e+00, 3.000e+00],\n       [0.000e+00, 0.000e+00, 3.000e+00, 1.100e+01],\n       [0.000e+00, 0.000e+00, 5.000e+00, 2.000e+01],\n       [0.000e+00, 1.000e+00, 8.000e+00, 2.300e+01],\n       [0.000e+00, 0.000e+00, 7.000e+00, 1.400e+01],\n       [0.000e+00, 1.000e+00, 8.000e+00, 1.100e+01],\n       [0.000e+00, 1.000e+00, 8.000e+00, 1.400e+01],\n       [0.000e+00, 0.000e+00, 4.000e+00, 8.000e+00],\n       [0.000e+00, 4.000e+00, 6.000e+00, 7.000e+00],\n       [0.000e+00, 1.000e+00, 3.000e+00, 8.000e+00],\n       [0.000e+00, 0.000e+00, 0.000e+00, 3.000e+00],\n       [0.000e+00, 2.000e+00, 5.000e+00, 6.000e+00],\n       [0.000e+00, 1.000e+00, 5.000e+00, 8.000e+00],\n       [0.000e+00, 0.000e+00, 1.000e+00, 1.000e+00]])"
     },
     "execution_count": 112,
     "metadata": {},
     "output_type": "execute_result"
    }
   ],
   "source": [
    "data"
   ],
   "metadata": {
    "collapsed": false,
    "pycharm": {
     "name": "#%%\n"
    }
   }
  },
  {
   "cell_type": "code",
   "execution_count": 113,
   "outputs": [
    {
     "data": {
      "text/plain": "<matplotlib.collections.LineCollection at 0x17e46828190>"
     },
     "execution_count": 113,
     "metadata": {},
     "output_type": "execute_result"
    },
    {
     "data": {
      "text/plain": "<Figure size 432x288 with 1 Axes>",
      "image/png": "[encoded data removed]"
     },
     "metadata": {
      "needs_background": "light"
     },
     "output_type": "display_data"
    }
   ],
   "source": [
    "df_transpose = df.transpose()\n",
    "df_transpose.plot()\n",
    "plt.hlines(100, 0, 5)"
   ],
   "metadata": {
    "collapsed": false,
    "pycharm": {
     "name": "#%%\n"
    }
   }
  },
  {
   "cell_type": "code",
   "execution_count": 114,
   "outputs": [
    {
     "data": {
      "text/plain": "   KITTI  Cars Dataset  Synthia  nuImages  nuScenes   GTA5  CamVid  \\\n0    1.0           0.0      0.0       5.0       5.0    0.0     1.0   \n1    7.0           1.0     31.0      97.0      97.0   23.0     6.0   \n2   90.0          10.0    142.0     479.0     479.0  125.0    17.0   \n3  259.0          34.0    356.0    1056.0    1056.0  304.0    32.0   \n\n   Oxford Robot Car  GTSRB  Caltech Lanes  ...  PREVENTION  Boxy  openDD  \\\n0               8.0    1.0            0.0  ...         0.0   0.0     0.0   \n1              56.0   14.0            1.0  ...         0.0   1.0     1.0   \n2             169.0   34.0            5.0  ...         7.0   8.0     8.0   \n3             330.0   50.0           17.0  ...        14.0  11.0    14.0   \n\n   MCity Data Collection  Semantic KITTI  Small Obstacle  TRoM  PepScenes  \\\n0                    0.0             0.0             0.0   0.0        0.0   \n1                    0.0             4.0             1.0   0.0        2.0   \n2                    4.0             6.0             3.0   0.0        5.0   \n3                    8.0             7.0             8.0   3.0        6.0   \n\n   The USyd Campus Dataset  MIT-AVT Clustered Driving Scene Dataset  \n0                      0.0                                      0.0  \n1                      1.0                                      0.0  \n2                      5.0                                      1.0  \n3                      8.0                                      1.0  \n\n[4 rows x 115 columns]",
      "text/html": "<div>\n<style scoped>\n    .dataframe tbody tr th:only-of-type {\n        vertical-align: middle;\n    }\n\n    .dataframe tbody tr th {\n        vertical-align: top;\n    }\n\n    .dataframe thead th {\n        text-align: right;\n    }\n</style>\n<table border=\"1\" class=\"dataframe\">\n  <thead>\n    <tr style=\"text-align: right;\">\n      <th></th>\n      <th>KITTI</th>\n      <th>Cars Dataset</th>\n      <th>Synthia</th>\n      <th>nuImages</th>\n      <th>nuScenes</th>\n      <th>GTA5</th>\n      <th>CamVid</th>\n      <th>Oxford Robot Car</th>\n      <th>GTSRB</th>\n      <th>Caltech Lanes</th>\n      <th>...</th>\n      <th>PREVENTION</th>\n      <th>Boxy</th>\n      <th>openDD</th>\n      <th>MCity Data Collection</th>\n      <th>Semantic KITTI</th>\n      <th>Small Obstacle</th>\n      <th>TRoM</th>\n      <th>PepScenes</th>\n      <th>The USyd Campus Dataset</th>\n      <th>MIT-AVT Clustered Driving Scene Dataset</th>\n    </tr>\n  </thead>\n  <tbody>\n    <tr>\n      <th>0</th>\n      <td>1.0</td>\n      <td>0.0</td>\n      <td>0.0</td>\n      <td>5.0</td>\n      <td>5.0</td>\n      <td>0.0</td>\n      <td>1.0</td>\n      <td>8.0</td>\n      <td>1.0</td>\n      <td>0.0</td>\n      <td>...</td>\n      <td>0.0</td>\n      <td>0.0</td>\n      <td>0.0</td>\n      <td>0.0</td>\n      <td>0.0</td>\n      <td>0.0</td>\n      <td>0.0</td>\n      <td>0.0</td>\n      <td>0.0</td>\n      <td>0.0</td>\n    </tr>\n    <tr>\n      <th>1</th>\n      <td>7.0</td>\n      <td>1.0</td>\n      <td>31.0</td>\n      <td>97.0</td>\n      <td>97.0</td>\n      <td>23.0</td>\n      <td>6.0</td>\n      <td>56.0</td>\n      <td>14.0</td>\n      <td>1.0</td>\n      <td>...</td>\n      <td>0.0</td>\n      <td>1.0</td>\n      <td>1.0</td>\n      <td>0.0</td>\n      <td>4.0</td>\n      <td>1.0</td>\n      <td>0.0</td>\n      <td>2.0</td>\n      <td>1.0</td>\n      <td>0.0</td>\n    </tr>\n    <tr>\n      <th>2</th>\n      <td>90.0</td>\n      <td>10.0</td>\n      <td>142.0</td>\n      <td>479.0</td>\n      <td>479.0</td>\n      <td>125.0</td>\n      <td>17.0</td>\n      <td>169.0</td>\n      <td>34.0</td>\n      <td>5.0</td>\n      <td>...</td>\n      <td>7.0</td>\n      <td>8.0</td>\n      <td>8.0</td>\n      <td>4.0</td>\n      <td>6.0</td>\n      <td>3.0</td>\n      <td>0.0</td>\n      <td>5.0</td>\n      <td>5.0</td>\n      <td>1.0</td>\n    </tr>\n    <tr>\n      <th>3</th>\n      <td>259.0</td>\n      <td>34.0</td>\n      <td>356.0</td>\n      <td>1056.0</td>\n      <td>1056.0</td>\n      <td>304.0</td>\n      <td>32.0</td>\n      <td>330.0</td>\n      <td>50.0</td>\n      <td>17.0</td>\n      <td>...</td>\n      <td>14.0</td>\n      <td>11.0</td>\n      <td>14.0</td>\n      <td>8.0</td>\n      <td>7.0</td>\n      <td>8.0</td>\n      <td>3.0</td>\n      <td>6.0</td>\n      <td>8.0</td>\n      <td>1.0</td>\n    </tr>\n  </tbody>\n</table>\n<p>4 rows × 115 columns</p>\n</div>"
     },
     "execution_count": 114,
     "metadata": {},
     "output_type": "execute_result"
    }
   ],
   "source": [
    "df_transpose"
   ],
   "metadata": {
    "collapsed": false,
    "pycharm": {
     "name": "#%%\n"
    }
   }
  },
  {
   "cell_type": "code",
   "execution_count": 115,
   "outputs": [
    {
     "data": {
      "text/plain": "<Figure size 432x288 with 1 Axes>",
      "image/png": "[encoded data removed]"
     },
     "metadata": {
      "needs_background": "light"
     },
     "output_type": "display_data"
    }
   ],
   "source": [
    "wcss = []\n",
    "for k in range(3, 10):\n",
    "    kmeans = KMeans(n_clusters=k, random_state=0).fit(data)\n",
    "    wcss_iter = kmeans.inertia_\n",
    "    wcss.append(wcss_iter)\n",
    "plt.plot([*range(3, 10)], wcss)\n",
    "plt.title('Elbow Plot')\n",
    "plt.xlabel('clusters')\n",
    "plt.ylabel('wcss')\n",
    "plt.show()\n",
    "#choose last bend"
   ],
   "metadata": {
    "collapsed": false,
    "pycharm": {
     "name": "#%%\n"
    }
   }
  },
  {
   "cell_type": "code",
   "execution_count": 116,
   "outputs": [
    {
     "name": "stdout",
     "output_type": "stream",
     "text": [
      "82\n",
      "2\n",
      "7\n",
      "24\n"
     ]
    },
    {
     "data": {
      "text/plain": "<Figure size 432x288 with 1 Axes>",
      "image/png": "[encoded data removed]"
     },
     "metadata": {
      "needs_background": "light"
     },
     "output_type": "display_data"
    }
   ],
   "source": [
    "kmeans = KMeans(n_clusters=4, random_state=0).fit(data)\n",
    "clusters = kmeans.cluster_centers_\n",
    "colors = ['#648fff', '#fe6100', '#dc267f', '#ffb000', '#785ef0', '#A740AE'] #\n",
    "labels = pd.Series(kmeans.labels_)\n",
    "labels = labels.value_counts(ascending=True).sort_index()\n",
    "for label, cluster in enumerate(clusters):\n",
    "    plt.plot([*range(0, cluster.shape[0])], cluster, alpha=1, label=label, color=colors[label] ,lw=labels.iloc[label]/5)\n",
    "    print(labels.iloc[label])\n",
    "y_lim = 500\n",
    "plt.ylim(0, y_lim)\n",
    "plt.vlines(1, 0, y_lim, colors='black', linestyles='dashed', alpha=0.6)\n",
    "plt.vlines(2, 0, y_lim, colors='black', linestyles='dashed', alpha=0.6)\n",
    "plt.vlines(3, 0, y_lim, colors='black', linestyles='dashed', alpha=0.6)\n",
    "plt.xticks([*range(0, cluster.shape[0])])\n",
    "plt.ylabel('citations')\n",
    "plt.xlabel('years after publication')\n",
    "#plt.title('Centers of Clusters from k-Means')\n",
    "plt.savefig('output/citations_clustering.pdf', bbox_inches='tight')\n",
    "#plt.legend()\n",
    "#plt.hlines(50, 0, 5, linestyles='dashed', color='black')\n",
    "plt.show()\n"
   ],
   "metadata": {
    "collapsed": false,
    "pycharm": {
     "name": "#%%\n"
    }
   }
  },
  {
   "cell_type": "code",
   "execution_count": 117,
   "outputs": [],
   "source": [
    "#np.lexsort((kmeans.cluster_centers_[:,-1]))"
   ],
   "metadata": {
    "collapsed": false,
    "pycharm": {
     "name": "#%%\n"
    }
   }
  },
  {
   "cell_type": "code",
   "execution_count": 118,
   "outputs": [
    {
     "data": {
      "text/plain": "1     2\n2     7\n3    24\n0    82\ndtype: int64"
     },
     "execution_count": 118,
     "metadata": {},
     "output_type": "execute_result"
    }
   ],
   "source": [
    "labels = pd.Series(kmeans.labels_)\n",
    "labels.value_counts(ascending=True)"
   ],
   "metadata": {
    "collapsed": false,
    "pycharm": {
     "name": "#%%\n"
    }
   }
  },
  {
   "cell_type": "code",
   "execution_count": 119,
   "outputs": [
    {
     "data": {
      "text/plain": "<Figure size 432x288 with 1 Axes>",
      "image/png": "[encoded data removed]"
     },
     "metadata": {
      "needs_background": "light"
     },
     "output_type": "display_data"
    }
   ],
   "source": [
    "colors = ['#648fff', '#fe6100', '#dc267f', '#ffb000', '#785ef0', '#A740AE']\n",
    "for idx, cluster in enumerate(clusters):\n",
    "    plt.plot([*range(0, cluster.shape[0])], cluster, alpha=1, color=colors[idx])\n",
    "y_lim = 1000\n",
    "plt.ylim(0, y_lim)\n",
    "plt.vlines(1, 0, y_lim, colors='black', linestyles='dashed', alpha=0.6)\n",
    "plt.vlines(2, 0, y_lim, colors='black', linestyles='dashed', alpha=0.6)\n",
    "plt.vlines(3, 0, y_lim, colors='black', linestyles='dashed', alpha=0.6)\n",
    "plt.xticks([*range(0, cluster.shape[0])])\n",
    "plt.ylabel('citations')\n",
    "plt.xlabel('years after publication')\n",
    "plt.title('Centers of Clusters from k-Means')\n",
    "plt.savefig('output/citations_clustering_1000.svg')\n",
    "#plt.hlines(50, 0, 5, linestyles='dashed', color='black')\n",
    "plt.show()"
   ],
   "metadata": {
    "collapsed": false,
    "pycharm": {
     "name": "#%%\n"
    }
   }
  },
  {
   "cell_type": "code",
   "execution_count": 120,
   "outputs": [],
   "source": [
    "def calc_h_score(citations):\n",
    "    if citations:\n",
    "        citations = np.array(citations)\n",
    "        n         = citations.shape[0]\n",
    "        array     = np.arange(1, n+1)\n",
    "        # reverse sorting\n",
    "        citations = np.sort(citations)[::-1]\n",
    "        # intersection of citations and k\n",
    "        h_idx = np.max(np.minimum(citations, array))\n",
    "        return h_idx\n",
    "    else:\n",
    "        return 0"
   ],
   "metadata": {
    "collapsed": false,
    "pycharm": {
     "name": "#%%\n"
    }
   }
  },
  {
   "cell_type": "code",
   "execution_count": 121,
   "outputs": [
    {
     "data": {
      "text/plain": "\"def expected_impact_score(o_paper, upper_bound, alpha=1, beta=1, gamma=1, theta=1): #Todo sum of weights = 1\\n    lower_bound = 5\\n    scorer = scoring(o_paper, lower_bound, upper_bound, 3)\\n    citation_c = scorer.just_citations(o_paper)\\n    reference_score_c = scorer.reference_score(o_paper)\\n    citations_citations_c = scorer.citations_citations_score(o_paper)\\n    ls_author_scores = []\\n    for author_number, author in enumerate(o_paper['paperInfo']['authors']):\\n        single_author_score = scorer.citations_single_author_score(o_paper, author_number)\\n        ls_author_scores.append(single_author_score)\\n    mean_author_score = np.mean(ls_author_scores)\\n    #print('Median author score', mean_author_score)\\n    return round(alpha*reference_score_c + beta*citations_citations_c + gamma*citation_c + theta*mean_author_score, 1)\""
     },
     "execution_count": 121,
     "metadata": {},
     "output_type": "execute_result"
    }
   ],
   "source": [
    "'''def expected_impact_score(o_paper, upper_bound, alpha=1, beta=1, gamma=1, theta=1): #Todo sum of weights = 1\n",
    "    lower_bound = 5\n",
    "    scorer = scoring(o_paper, lower_bound, upper_bound, 3)\n",
    "    citation_c = scorer.just_citations(o_paper)\n",
    "    reference_score_c = scorer.reference_score(o_paper)\n",
    "    citations_citations_c = scorer.citations_citations_score(o_paper)\n",
    "    ls_author_scores = []\n",
    "    for author_number, author in enumerate(o_paper['paperInfo']['authors']):\n",
    "        single_author_score = scorer.citations_single_author_score(o_paper, author_number)\n",
    "        ls_author_scores.append(single_author_score)\n",
    "    mean_author_score = np.mean(ls_author_scores)\n",
    "    #print('Median author score', mean_author_score)\n",
    "    return round(alpha*reference_score_c + beta*citations_citations_c + gamma*citation_c + theta*mean_author_score, 1)'''"
   ],
   "metadata": {
    "collapsed": false,
    "pycharm": {
     "name": "#%%\n"
    }
   }
  },
  {
   "cell_type": "code",
   "execution_count": 122,
   "outputs": [],
   "source": [
    "def create_modelling_df(retrieved_data, lower_bound, upper_bound, impact_year):\n",
    "    array = np.zeros([len(retrieved_data), 5])\n",
    "\n",
    "    for paper_idx, paper in enumerate(tqdm(retrieved_data)):\n",
    "        if 'paperInfo' in retrieved_data[paper_idx].keys() and 'year' in retrieved_data[paper_idx]['paperInfo'].keys():\n",
    "            array_idx = 0\n",
    "            o_paper = retrieved_data[paper_idx]\n",
    "            scorer = scoring(o_paper, lower_bound, upper_bound, impact_year)\n",
    "            citation_c = scorer.just_citations()\n",
    "            citations_citations_c = scorer.citations_citations_score()\n",
    "            reference_score_c = scorer.reference_score()\n",
    "            ls_author_scores = []\n",
    "            for author_number, author in enumerate(o_paper['paperInfo']['authors']):\n",
    "                single_author_score = scorer.citations_single_author_score(author_number)\n",
    "                ls_author_scores.append(single_author_score)\n",
    "            first_author_score = round(ls_author_scores[0], 0)\n",
    "            if len(ls_author_scores)>1:\n",
    "                #print(len(ls_author_scores), ls_author_scores)\n",
    "                mean_author_score = round(np.mean(ls_author_scores[1:], 0))\n",
    "            elif len(ls_author_scores)==2:\n",
    "                mean_author_score = ls_author_scores[1]\n",
    "            else:\n",
    "                mean_author_score = 0\n",
    "            array[paper_idx][:5] = [citation_c, citations_citations_c, reference_score_c,  mean_author_score, first_author_score]\n",
    "            array_idx += 1\n",
    "    names = []\n",
    "    year = []\n",
    "    sensors = []\n",
    "    frames = []\n",
    "    similar_age_3m = []\n",
    "    row_w_missing_data = []\n",
    "    for idx_paper, paper in enumerate(retrieved_data):\n",
    "        names.append(paper['id'])\n",
    "        try:\n",
    "            year_value = paper['paperInfo']['year']\n",
    "        except:\n",
    "            row_w_missing_data.append(idx_paper)\n",
    "            continue\n",
    "        try:\n",
    "            similar_age_3m_value = paper['altmetrics'][2]['similar_age_3m_percentile']\n",
    "        except:\n",
    "            row_w_missing_data.append(idx_paper)\n",
    "            continue\n",
    "        try:\n",
    "            sensors_value = int(len(list(paper['sensors'].split(','))))\n",
    "            if paper['frames'] != \"-\":\n",
    "                frames_value = (paper['frames'])\n",
    "            else:\n",
    "                row_w_missing_data.append(idx_paper)\n",
    "                continue\n",
    "        except:\n",
    "            row_w_missing_data.append(idx_paper)\n",
    "            continue\n",
    "        year.append(year_value)\n",
    "        frames.append(frames_value)\n",
    "        sensors.append(sensors_value)\n",
    "        similar_age_3m.append(similar_age_3m_value)\n",
    "    df = pd.DataFrame(array).set_axis(names)\n",
    "    df['year'] = year\n",
    "    df = df.drop(df.index[row_w_missing_data])\n",
    "    print(\"Missing Data:\", len(row_w_missing_data))\n",
    "    df['year'] = year\n",
    "    df['sensors'] = sensors\n",
    "    df['frames'] = frames\n",
    "    df['similar_age_3m_percentile'] = similar_age_3m\n",
    "    cols = list(df.columns)\n",
    "    cols[:5] = ['citation_c', 'citations_citations_c', 'reference_score_c', 'mean_author_score', 'first_author_score']\n",
    "    df.columns = cols\n",
    "\n",
    "\n",
    "    #print(row_w_missing_data)\n",
    "    print(df.shape)\n",
    "    df = df[df.year <= 2020] #2019\n",
    "    print(df.shape)\n",
    "    return df"
   ],
   "metadata": {
    "collapsed": false,
    "pycharm": {
     "name": "#%%\n"
    }
   }
  },
  {
   "cell_type": "code",
   "execution_count": 123,
   "outputs": [],
   "source": [
    "def create_modelling_df_no_sensor(retrieved_data, lower_bound, upper_bound, impact_year):\n",
    "    array = np.zeros([len(retrieved_data), 5])\n",
    "\n",
    "    for paper_idx, paper in enumerate(tqdm(retrieved_data)):\n",
    "        if 'paperInfo' in retrieved_data[paper_idx].keys() and 'year' in retrieved_data[paper_idx]['paperInfo'].keys():\n",
    "            array_idx = 0\n",
    "            o_paper = retrieved_data[paper_idx]\n",
    "            scorer = scoring(o_paper, lower_bound, upper_bound, impact_year)\n",
    "            citation_c = scorer.just_citations()\n",
    "            reference_score_c = scorer.reference_score()\n",
    "            citations_citations_c = scorer.citations_citations_score()\n",
    "            ls_author_scores = []\n",
    "            for author_number, author in enumerate(o_paper['paperInfo']['authors']):\n",
    "                single_author_score = scorer.citations_single_author_score(author_number)\n",
    "                ls_author_scores.append(single_author_score)\n",
    "            first_author_score = round(ls_author_scores[0], 0)\n",
    "            if len(ls_author_scores)>1:\n",
    "                #print(len(ls_author_scores), ls_author_scores)\n",
    "                mean_author_score = round(np.mean(ls_author_scores[1:], 0))\n",
    "            elif len(ls_author_scores)==2:\n",
    "                mean_author_score = ls_author_scores[1]\n",
    "            else:\n",
    "                mean_author_score = 0\n",
    "            array[paper_idx][:5] = [citation_c, citations_citations_c, reference_score_c,  mean_author_score, first_author_score]\n",
    "            array_idx += 1\n",
    "    names = []\n",
    "    year = []\n",
    "    sensors = []\n",
    "    frames = []\n",
    "    similar_age_3m = []\n",
    "    row_w_missing_data = []\n",
    "    for idx_paper, paper in enumerate(retrieved_data):\n",
    "        names.append(paper['id'])\n",
    "        try:\n",
    "            year_value = paper['paperInfo']['year']\n",
    "        except:\n",
    "            row_w_missing_data.append(idx_paper)\n",
    "            continue\n",
    "        try:\n",
    "            similar_age_3m_value = paper['altmetrics'][2]['similar_age_3m_percentile']\n",
    "        except:\n",
    "            row_w_missing_data.append(idx_paper)\n",
    "            continue\n",
    "        try:\n",
    "            if paper['frames'] != \"-\":\n",
    "                frames_value = (paper['frames'])\n",
    "            else:\n",
    "                row_w_missing_data.append(idx_paper)\n",
    "                continue\n",
    "        except:\n",
    "            row_w_missing_data.append(idx_paper)\n",
    "            continue\n",
    "        year.append(year_value)\n",
    "        frames.append(frames_value)\n",
    "        similar_age_3m.append(similar_age_3m_value)\n",
    "    df = pd.DataFrame(array).set_axis(names)\n",
    "    df['year'] = year\n",
    "    df = df.drop(df.index[row_w_missing_data])\n",
    "    print(\"Missing Data:\", len(row_w_missing_data))\n",
    "    df['year'] = year\n",
    "    df['frames'] = frames\n",
    "    df['similar_age_3m_percentile'] = similar_age_3m\n",
    "    cols = list(df.columns)\n",
    "    cols[:5] = ['citation_c', 'citations_citations_c', 'reference_score_c', 'mean_author_score', 'first_author_score']\n",
    "    df.columns = cols\n",
    "\n",
    "\n",
    "    #print(row_w_missing_data)\n",
    "    print(df.shape)\n",
    "    df = df[df.year <= 2020] #2019\n",
    "    print(df.shape)\n",
    "    return df"
   ],
   "metadata": {
    "collapsed": false,
    "pycharm": {
     "name": "#%%\n"
    }
   }
  },
  {
   "cell_type": "code",
   "execution_count": 124,
   "outputs": [],
   "source": [
    "def convert_data(df, drop='citations_citations_c', dependent_var='citation_c'):\n",
    "    replacement = df.at['Street Learn', 'frames'].replace(',', '')\n",
    "    #print(replacement)\n",
    "    df.at['Street Learn', 'frames'] = replacement\n",
    "    modelling_df = df\n",
    "    modelling_df = modelling_df.drop(['BDD100k', 'Argoverse Motion Forecasting'], axis=0)\n",
    "    modelling_df = modelling_df.drop([drop], axis=1)\n",
    "    for idx_column, col in enumerate(modelling_df.columns):\n",
    "        modelling_df[col] = modelling_df[col].astype(\"float\")\n",
    "    for idx, variable in enumerate(modelling_df):\n",
    "        plt.scatter(modelling_df[variable], modelling_df[dependent_var])\n",
    "        plt.xlabel(list(modelling_df.columns)[idx])\n",
    "        plt.show()\n",
    "        plt.hist(modelling_df[variable])\n",
    "        plt.show()\n",
    "    print(modelling_df.frames.max())\n",
    "    modelling_df[dependent_var] = np.log(modelling_df[dependent_var]+1)\n",
    "    modelling_df.frames = np.log(modelling_df.frames)\n",
    "    return modelling_df\n",
    "\n",
    "def normalize(modelling_df, dependent_var='citation_c'):\n",
    "    modelling_df['similar_age_3m_percentile'] = np.log(modelling_df.similar_age_3m_percentile+1)\n",
    "    for idx_column, col in enumerate(modelling_df.columns):\n",
    "        if col != dependent_var:\n",
    "                modelling_df[col] = (modelling_df[col]-modelling_df[col].mean())/(modelling_df[col].std())\n",
    "                plt.scatter(modelling_df[col], modelling_df[dependent_var])\n",
    "                plt.xlabel(list(modelling_df.columns)[idx_column])\n",
    "                plt.show()\n",
    "\n",
    "    modelling_df['similar_age_3m_percentile2'] = np.square(modelling_df.similar_age_3m_percentile)\n",
    "    modelling_df['first_author_score2'] = np.square(modelling_df.first_author_score)\n",
    "    modelling_df['mean_author_score2'] = np.square(modelling_df.mean_author_score)\n",
    "    return modelling_df\n",
    "\n",
    "def mean_centering(modelling_df):\n",
    "    modelling_df['similar_age_3m_percentile'] = modelling_df['similar_age_3m_percentile']-modelling_df['similar_age_3m_percentile'].mean()\n",
    "    modelling_df['mean_author_score'] = modelling_df['mean_author_score']-modelling_df['mean_author_score'].mean()\n",
    "    modelling_df['similar_age_3m_percentile'] = np.square(modelling_df.similar_age_3m_percentile)\n",
    "    modelling_df['mean_author_score2'] = np.square(modelling_df.mean_author_score)\n",
    "    return modelling_df\n",
    "\n",
    "def modelling(modelling_df, dependent_var='citation_c'):\n",
    "    independent_vars = modelling_df.drop([dependent_var], axis=1)\n",
    "    X = add_constant(independent_vars)\n",
    "    y = modelling_df[dependent_var]\n",
    "    mod = sm.regression.linear_model.OLS(y, independent_vars.assign(intercept=1))\n",
    "    res = mod.fit(cov_type=\"HC1\")\n",
    "    print(res.summary())\n",
    "    test = sm.stats.diagnostic.het_breuschpagan(res.resid, res.model.exog)\n",
    "    print('test', test)\n",
    "    vif = pd.Series([variance_inflation_factor(X.values, i)\n",
    "               for i in range(X.shape[1])],\n",
    "              index=X.columns)\n",
    "    print(vif)\n",
    "    fitted_y = res.fittedvalues\n",
    "    plot = sns.residplot(x=fitted_y, y=modelling_df[dependent_var], data=modelling_df, lowess=True)\n",
    "    plt.show()\n",
    "    for variable in independent_vars:\n",
    "        plot = sns.residplot(x=independent_vars[variable], y=modelling_df[dependent_var], data=modelling_df, lowess=True)\n",
    "        plt.show()\n",
    "    return res, fitted_y, y, independent_vars\n",
    "\n",
    "\n",
    "wd = os.getcwd()\n",
    "wd = wd.replace('.ipynb_checkpoints', '')\n",
    "directory = os.path.join(wd, 'data', 'requests4')\n",
    "retrieved_data =  []\n",
    "for file in os.listdir(directory):\n",
    "    with open(os.path.join(directory, file), \"r\") as j:\n",
    "        a = json.loads(j.read())\n",
    "        retrieved_data.append(a)\n",
    "        #print('Added ', file)\n",
    "#retrieved_data\n",
    "retrieved_data = sorted(retrieved_data, key=itemgetter('citationCount'), reverse=True)\n",
    "\n"
   ],
   "metadata": {
    "collapsed": false,
    "pycharm": {
     "name": "#%%\n"
    }
   }
  },
  {
   "cell_type": "code",
   "execution_count": 125,
   "outputs": [
    {
     "name": "stderr",
     "output_type": "stream",
     "text": [
      "  0%|          | 0/150 [00:00<?, ?it/s]\n"
     ]
    },
    {
     "ename": "KeyError",
     "evalue": "'year'",
     "output_type": "error",
     "traceback": [
      "\u001B[1;31m---------------------------------------------------------------------------\u001B[0m",
      "\u001B[1;31mKeyError\u001B[0m                                  Traceback (most recent call last)",
      "Input \u001B[1;32mIn [125]\u001B[0m, in \u001B[0;36m<cell line: 1>\u001B[1;34m()\u001B[0m\n\u001B[1;32m----> 1\u001B[0m df \u001B[38;5;241m=\u001B[39m \u001B[43mcreate_modelling_df\u001B[49m\u001B[43m(\u001B[49m\u001B[43mretrieved_data\u001B[49m\u001B[43m,\u001B[49m\u001B[43m \u001B[49m\u001B[38;5;241;43m3\u001B[39;49m\u001B[43m,\u001B[49m\u001B[43m \u001B[49m\u001B[38;5;241;43m0\u001B[39;49m\u001B[43m,\u001B[49m\u001B[43m \u001B[49m\u001B[38;5;241;43m3\u001B[39;49m\u001B[43m)\u001B[49m\n\u001B[0;32m      2\u001B[0m df\n",
      "Input \u001B[1;32mIn [122]\u001B[0m, in \u001B[0;36mcreate_modelling_df\u001B[1;34m(retrieved_data, lower_bound, upper_bound, impact_year)\u001B[0m\n\u001B[0;32m      9\u001B[0m citation_c \u001B[38;5;241m=\u001B[39m scorer\u001B[38;5;241m.\u001B[39mjust_citations()\n\u001B[0;32m     10\u001B[0m citations_citations_c \u001B[38;5;241m=\u001B[39m scorer\u001B[38;5;241m.\u001B[39mcitations_citations_score()\n\u001B[1;32m---> 11\u001B[0m reference_score_c \u001B[38;5;241m=\u001B[39m \u001B[43mscorer\u001B[49m\u001B[38;5;241;43m.\u001B[39;49m\u001B[43mreference_score\u001B[49m\u001B[43m(\u001B[49m\u001B[43m)\u001B[49m\n\u001B[0;32m     12\u001B[0m ls_author_scores \u001B[38;5;241m=\u001B[39m []\n\u001B[0;32m     13\u001B[0m \u001B[38;5;28;01mfor\u001B[39;00m author_number, author \u001B[38;5;129;01min\u001B[39;00m \u001B[38;5;28menumerate\u001B[39m(o_paper[\u001B[38;5;124m'\u001B[39m\u001B[38;5;124mpaperInfo\u001B[39m\u001B[38;5;124m'\u001B[39m][\u001B[38;5;124m'\u001B[39m\u001B[38;5;124mauthors\u001B[39m\u001B[38;5;124m'\u001B[39m]):\n",
      "Input \u001B[1;32mIn [104]\u001B[0m, in \u001B[0;36mscoring.reference_score\u001B[1;34m(self)\u001B[0m\n\u001B[0;32m     53\u001B[0m \u001B[38;5;28;01mdef\u001B[39;00m \u001B[38;5;21mreference_score\u001B[39m(\u001B[38;5;28mself\u001B[39m):\n\u001B[1;32m---> 54\u001B[0m     \u001B[38;5;28;01mreturn\u001B[39;00m calc_h_score(\u001B[38;5;28;43mself\u001B[39;49m\u001B[38;5;241;43m.\u001B[39;49m\u001B[43mnumber_citations_ref\u001B[49m\u001B[43m(\u001B[49m\u001B[43m)\u001B[49m)\n",
      "Input \u001B[1;32mIn [104]\u001B[0m, in \u001B[0;36mscoring.number_citations_ref\u001B[1;34m(self, dimension, dimension_papers)\u001B[0m\n\u001B[0;32m     25\u001B[0m ls_citations \u001B[38;5;241m=\u001B[39m []\n\u001B[0;32m     26\u001B[0m \u001B[38;5;28;01mfor\u001B[39;00m paper \u001B[38;5;129;01min\u001B[39;00m \u001B[38;5;28mself\u001B[39m\u001B[38;5;241m.\u001B[39mo_paper[\u001B[38;5;124m'\u001B[39m\u001B[38;5;124mpaperInfo\u001B[39m\u001B[38;5;124m'\u001B[39m][dimension]:\n\u001B[1;32m---> 27\u001B[0m     \u001B[38;5;28;01mif\u001B[39;00m \u001B[43mpaper\u001B[49m\u001B[43m[\u001B[49m\u001B[38;5;124;43m'\u001B[39;49m\u001B[38;5;124;43myear\u001B[39;49m\u001B[38;5;124;43m'\u001B[39;49m\u001B[43m]\u001B[49m \u001B[38;5;129;01mis\u001B[39;00m \u001B[38;5;129;01mnot\u001B[39;00m \u001B[38;5;28;01mNone\u001B[39;00m \u001B[38;5;129;01mand\u001B[39;00m paper[\u001B[38;5;124m'\u001B[39m\u001B[38;5;124myear\u001B[39m\u001B[38;5;124m'\u001B[39m] \u001B[38;5;241m<\u001B[39m\u001B[38;5;241m=\u001B[39m \u001B[38;5;28mself\u001B[39m\u001B[38;5;241m.\u001B[39mupper_bound \u001B[38;5;129;01mand\u001B[39;00m \u001B[38;5;124m'\u001B[39m\u001B[38;5;124mcitations\u001B[39m\u001B[38;5;124m'\u001B[39m \u001B[38;5;129;01min\u001B[39;00m paper\u001B[38;5;241m.\u001B[39mkeys():\n\u001B[0;32m     28\u001B[0m         numb_cit \u001B[38;5;241m=\u001B[39m \u001B[38;5;241m0\u001B[39m\n\u001B[0;32m     29\u001B[0m         \u001B[38;5;28;01mfor\u001B[39;00m citation \u001B[38;5;129;01min\u001B[39;00m paper[dimension_papers]: \u001B[38;5;66;03m#TODO: maybe change dimension_paper and paper?\u001B[39;00m\n",
      "\u001B[1;31mKeyError\u001B[0m: 'year'"
     ]
    }
   ],
   "source": [
    "df = create_modelling_df(retrieved_data, 3, 0, 3)\n",
    "df"
   ],
   "metadata": {
    "collapsed": false,
    "pycharm": {
     "name": "#%%\n"
    }
   }
  },
  {
   "cell_type": "code",
   "execution_count": null,
   "outputs": [],
   "source": [
    "df = create_modelling_df_no_sensor(retrieved_data, 3, 0, 3)\n",
    "df"
   ],
   "metadata": {
    "collapsed": false,
    "pycharm": {
     "name": "#%%\n"
    }
   }
  },
  {
   "cell_type": "code",
   "execution_count": null,
   "outputs": [],
   "source": [
    "df = create_modelling_df(retrieved_data, 3, 0, 3)\n",
    "modelling_df = convert_data(df)\n",
    "modelling_df_normalized = normalize(modelling_df)\n",
    "res, fitted_y, y_ols, x = modelling(modelling_df_normalized)\n",
    "print(sm.tools.eval_measures.mse(np.exp(fitted_y)-1, np.exp(y_ols))-1)\n",
    "# df = create_modelling_df(retrieved_data, 3, 0, 3)\n",
    "# modelling_df = convert_data(df)\n",
    "# modelling_df.corr()"
   ],
   "metadata": {
    "collapsed": false,
    "pycharm": {
     "name": "#%%\n"
    }
   }
  },
  {
   "cell_type": "code",
   "execution_count": null,
   "outputs": [],
   "source": [
    "#https://www.statalist.org/forums/forum/general-stata-discussion/general/1440566-statistically-significant-squared-term-but-insignificant-level-term\n",
    "sm.regression.linear_model.RegressionResults.f_test()\n"
   ],
   "metadata": {
    "collapsed": false,
    "pycharm": {
     "name": "#%%\n"
    }
   }
  },
  {
   "cell_type": "markdown",
   "source": [
    "\"Second, the linear effect in a quadratic relationship must not be significant if the quadratic effect is significant.\n",
    "A good read for non-linear relationships is\n",
    "Haans, R. F., Pieters, C., & He, Z. L. (2016). Thinking about U: Theorizing and testing U‐and inverted U‐shaped relationships in strategy research. Strategic Management Journal, 37(7), 1177–1195.\""
   ],
   "metadata": {
    "collapsed": false,
    "pycharm": {
     "name": "#%% md\n"
    }
   }
  },
  {
   "cell_type": "code",
   "execution_count": null,
   "outputs": [],
   "source": [
    "def convert_data_poisson(df, drop='citations_citations_c', dependent_var='citation_c'):\n",
    "    replacement = df.at['Street Learn', 'frames'].replace(',', '')\n",
    "    #print(replacement)\n",
    "    df.at['Street Learn', 'frames'] = replacement\n",
    "    modelling_df = df\n",
    "    modelling_df = modelling_df.drop(['BDD100k', 'Argoverse Motion Forecasting'], axis=0)\n",
    "    modelling_df = modelling_df.drop([drop], axis=1)\n",
    "    for idx_column, col in enumerate(modelling_df.columns):\n",
    "        modelling_df[col] = modelling_df[col].astype(\"float\")\n",
    "    for idx, variable in enumerate(modelling_df):\n",
    "        plt.scatter(modelling_df[variable], modelling_df[dependent_var])\n",
    "        plt.xlabel(list(modelling_df.columns)[idx])\n",
    "        plt.show()\n",
    "        plt.hist(modelling_df[variable])\n",
    "        plt.show()\n",
    "    print(modelling_df.frames.max())\n",
    "    modelling_df.frames = np.log(modelling_df.frames + 1)\n",
    "    return modelling_df\n",
    "\n",
    "def poisson(modelling_df, dependent_var='citation_c'):\n",
    "    independent_vars = modelling_df.drop([dependent_var], axis=1)\n",
    "    X = add_constant(independent_vars)\n",
    "    y = modelling_df[dependent_var]\n",
    "    mod = Poisson(y, independent_vars.assign(intercept=1))\n",
    "    res = mod.fit(cov_type='HC1')\n",
    "    print(res.summary())\n",
    "    test = sm.stats.diagnostic.het_breuschpagan(res.resid, res.model.exog)\n",
    "    print('test', test)\n",
    "    vif = pd.Series([variance_inflation_factor(X.values, i)\n",
    "               for i in range(X.shape[1])],\n",
    "              index=X.columns)\n",
    "    print(vif)\n",
    "\n",
    "    fitted_y = res.fittedvalues\n",
    "    plot = sns.residplot(x=fitted_y, y=modelling_df[dependent_var], data=modelling_df, lowess=True)\n",
    "    plt.show()\n",
    "    for variable in independent_vars:\n",
    "        plot = sns.residplot(x=independent_vars[variable], y=modelling_df[dependent_var], data=modelling_df, lowess=True)\n",
    "        plt.show()\n",
    "    return res, fitted_y, y, independent_vars\n",
    "\n",
    "wd = os.getcwd()\n",
    "wd = wd.replace('.ipynb_checkpoints', '')\n",
    "directory = os.path.join(wd, 'data', 'requests')\n",
    "retrieved_data =  []\n",
    "for file in os.listdir(directory):\n",
    "    with open(os.path.join(directory, file), \"r\") as j:\n",
    "        a = json.loads(j.read())\n",
    "        retrieved_data.append(a)\n",
    "        print('Added ', file)\n",
    "#retrieved_data\n",
    "retrieved_data = sorted(retrieved_data, key=itemgetter('citationCount'), reverse=True)\n",
    "\n",
    "df = create_modelling_df(retrieved_data, 3, 0, 3)\n",
    "modelling_df = convert_data_poisson(df)\n",
    "modelling_df_normalized = normalize(modelling_df)\n",
    "res, fitted_y, y, x = poisson(modelling_df)\n",
    "print(sm.tools.eval_measures.mse(fitted_y, y))\n",
    "print(sm.tools.eval_measures.mse(y, np.exp(y_ols))-1)"
   ],
   "metadata": {
    "collapsed": false,
    "pycharm": {
     "name": "#%%\n"
    }
   }
  },
  {
   "cell_type": "code",
   "execution_count": null,
   "outputs": [],
   "source": [
    "# plt.hist(df.citation_c, bins=30)\n",
    "# plt.show()"
   ],
   "metadata": {
    "collapsed": false,
    "pycharm": {
     "name": "#%%\n"
    }
   }
  },
  {
   "cell_type": "code",
   "execution_count": null,
   "outputs": [],
   "source": [],
   "metadata": {
    "collapsed": false,
    "pycharm": {
     "name": "#%%\n"
    }
   }
  },
  {
   "cell_type": "code",
   "execution_count": null,
   "outputs": [],
   "source": [
    "wd = os.getcwd()\n",
    "wd = wd.replace('.ipynb_checkpoints', '')\n",
    "directory = os.path.join(wd, 'data', 'requests')\n",
    "retrieved_data =  []\n",
    "for file in os.listdir(directory):\n",
    "    with open(os.path.join(directory, file), \"r\") as j:\n",
    "        a = json.loads(j.read())\n",
    "        retrieved_data.append(a)\n",
    "        print('Added ', file)\n",
    "#retrieved_data\n",
    "retrieved_data = sorted(retrieved_data, key=itemgetter('citationCount'), reverse=True)"
   ],
   "metadata": {
    "collapsed": false,
    "pycharm": {
     "name": "#%%\n"
    }
   }
  },
  {
   "cell_type": "code",
   "execution_count": null,
   "outputs": [],
   "source": [
    "yr = 2022\n",
    "array = np.empty([len(retrieved_data), 6])\n",
    "array[:] = np.nan\n",
    "names = []\n",
    "for paper_idx, o_paper in enumerate(tqdm(retrieved_data)):\n",
    "    scorer = scoring(o_paper, 200, yr, yr)\n",
    "    reference = scorer.reference_score()\n",
    "    citations_citations = scorer.citations_citations_score()\n",
    "    citations = scorer.just_citations()\n",
    "    ls_author_scores = []\n",
    "    names.append(o_paper['id'])\n",
    "    for author_number, author in enumerate(o_paper['paperInfo']['authors']):\n",
    "        single_author_score = scorer.citations_single_author_score(author_number)\n",
    "        ls_author_scores.append(single_author_score)\n",
    "    author = np.mean(ls_author_scores)\n",
    "    try:\n",
    "        score = o_paper['altmetrics'][0]['score']\n",
    "        total_readers = o_paper['altmetrics'][3]['total_readers']\n",
    "    except:\n",
    "        percentile = float(\"NaN\")\n",
    "        total_readers = float(\"NaN\")\n",
    "    array[paper_idx][:] = [citations, citations_citations, total_readers, score, reference, author,]\n",
    "array"
   ],
   "metadata": {
    "collapsed": false,
    "pycharm": {
     "name": "#%%\n"
    }
   }
  },
  {
   "cell_type": "code",
   "execution_count": null,
   "outputs": [],
   "source": [
    "spider_web = pd.DataFrame(array, columns=['citations', 'citations_citations', 'total_readers', 'score', 'reference', 'author']).set_axis(names)\n",
    "spider_web['Altmetric'] = spider_web.score.rank(pct = True)\n",
    "spider_web['cit'] = spider_web.citations.rank(pct = True)\n",
    "spider_web['h-cit'] = spider_web.citations_citations.rank(pct = True)\n",
    "spider_web['readers'] = spider_web.total_readers.rank(pct = True)\n",
    "spider_web['refs'] = spider_web.reference.rank(pct = True)\n",
    "spider_web['authors'] = spider_web.author.rank(pct = True)\n",
    "spider_web"
   ],
   "metadata": {
    "collapsed": false,
    "pycharm": {
     "name": "#%%\n"
    }
   }
  },
  {
   "cell_type": "code",
   "execution_count": null,
   "outputs": [],
   "source": [
    "import numpy as np\n",
    "\n",
    "import matplotlib.pyplot as plt\n",
    "from matplotlib.patches import Circle, RegularPolygon\n",
    "from matplotlib.path import Path\n",
    "from matplotlib.projections.polar import PolarAxes\n",
    "from matplotlib.projections import register_projection\n",
    "from matplotlib.spines import Spine\n",
    "from matplotlib.transforms import Affine2D\n",
    "\n",
    "\n",
    "def radar_factory(num_vars, frame='circle'):\n",
    "    \"\"\"\n",
    "    Create a radar chart with `num_vars` axes.\n",
    "\n",
    "    This function creates a RadarAxes projection and registers it.\n",
    "\n",
    "    Parameters\n",
    "    ----------\n",
    "    num_vars : int\n",
    "        Number of variables for radar chart.\n",
    "    frame : {'circle', 'polygon'}\n",
    "        Shape of frame surrounding axes.\n",
    "\n",
    "    \"\"\"\n",
    "    # calculate evenly-spaced axis angles\n",
    "    theta = np.linspace(0, 2*np.pi, num_vars, endpoint=False)\n",
    "\n",
    "    class RadarTransform(PolarAxes.PolarTransform):\n",
    "\n",
    "        def transform_path_non_affine(self, path):\n",
    "            # Paths with non-unit interpolation steps correspond to gridlines,\n",
    "            # in which case we force interpolation (to defeat PolarTransform's\n",
    "            # autoconversion to circular arcs).\n",
    "            if path._interpolation_steps > 1:\n",
    "                path = path.interpolated(num_vars)\n",
    "            return Path(self.transform(path.vertices), path.codes)\n",
    "\n",
    "    class RadarAxes(PolarAxes):\n",
    "\n",
    "        name = 'radar'\n",
    "        # use 1 line segment to connect specified points\n",
    "        RESOLUTION = 1\n",
    "        PolarTransform = RadarTransform\n",
    "\n",
    "        def __init__(self, *args, **kwargs):\n",
    "            super().__init__(*args, **kwargs)\n",
    "            # rotate plot such that the first axis is at the top\n",
    "            self.set_theta_zero_location('N')\n",
    "\n",
    "        def fill(self, *args, closed=True, **kwargs):\n",
    "            \"\"\"Override fill so that line is closed by default\"\"\"\n",
    "            return super().fill(closed=closed, *args, **kwargs)\n",
    "\n",
    "        def plot(self, *args, **kwargs):\n",
    "            \"\"\"Override plot so that line is closed by default\"\"\"\n",
    "            lines = super().plot(*args, **kwargs)\n",
    "            for line in lines:\n",
    "                self._close_line(line)\n",
    "\n",
    "        def _close_line(self, line):\n",
    "            x, y = line.get_data()\n",
    "            # FIXME: markers at x[0], y[0] get doubled-up\n",
    "            if x[0] != x[-1]:\n",
    "                x = np.append(x, x[0])\n",
    "                y = np.append(y, y[0])\n",
    "                line.set_data(x, y)\n",
    "\n",
    "        def set_varlabels(self, labels):\n",
    "            self.set_thetagrids(np.degrees(theta), labels)\n",
    "\n",
    "        def _gen_axes_patch(self):\n",
    "            # The Axes patch must be centered at (0.5, 0.5) and of radius 0.5\n",
    "            # in axes coordinates.\n",
    "            if frame == 'circle':\n",
    "                return Circle((0.5, 0.5), 0.5)\n",
    "            elif frame == 'polygon':\n",
    "                return RegularPolygon((0.5, 0.5), num_vars,\n",
    "                                      radius=.5, edgecolor=\"k\")\n",
    "            else:\n",
    "                raise ValueError(\"Unknown value for 'frame': %s\" % frame)\n",
    "\n",
    "        def _gen_axes_spines(self):\n",
    "            if frame == 'circle':\n",
    "                return super()._gen_axes_spines()\n",
    "            elif frame == 'polygon':\n",
    "                # spine_type must be 'left'/'right'/'top'/'bottom'/'circle'.\n",
    "                spine = Spine(axes=self,\n",
    "                              spine_type='circle',\n",
    "                              path=Path.unit_regular_polygon(num_vars))\n",
    "                # unit_regular_polygon gives a polygon of radius 1 centered at\n",
    "                # (0, 0) but we want a polygon of radius 0.5 centered at (0.5,\n",
    "                # 0.5) in axes coordinates.\n",
    "                spine.set_transform(Affine2D().scale(.5).translate(.5, .5)\n",
    "                                    + self.transAxes)\n",
    "                return {'polar': spine}\n",
    "            else:\n",
    "                raise ValueError(\"Unknown value for 'frame': %s\" % frame)\n",
    "\n",
    "    register_projection(RadarAxes)\n",
    "    return theta\n",
    "\n",
    "N = 6\n",
    "theta = radar_factory(N, frame='polygon')\n",
    "values = [[], [], [], []]\n",
    "web_names = [[], [], [], []]\n",
    "data = []\n",
    "k = 0\n",
    "for i in range(12):\n",
    "    row = (spider_web.iloc[i][-6:])\n",
    "    if i%3 == 0 and i != 0:\n",
    "        k += 1\n",
    "    print(k)\n",
    "    values[k].append( list(row))\n",
    "    web_names[k].append(row.name)\n",
    "\n",
    "dimension_names = []\n",
    "for name in enumerate(list(spider_web.columns[-6:])):\n",
    "    #print(name[1])\n",
    "    dimension_names.append(name[1].replace('author', '   author'))\n",
    "data = [dimension_names, ('', web_names[0], values[0]), ('', web_names[1], values[1]), ('', web_names[2], values[2]), ('', web_names[3], values[3])]\n",
    "\n",
    "#print(data)\n",
    "spoke_labels = data.pop(0)\n",
    "\n",
    "fig, axs = plt.subplots(figsize=(16, 4), nrows=1, ncols=4,\n",
    "                        subplot_kw=dict(projection='radar'))\n",
    "fig.subplots_adjust(wspace=0.8, hspace=0.0, top=0.95, bottom=0.05)\n",
    "\n",
    "# Plot the four cases from the example data on separate axes\n",
    "colors = ['#648fff', '#dc267f', '#ffb000'] #['#648fff', '#785ef0', '#dc267f', '#fe6100', '#ffb000']\n",
    "for ax, (title, label, case_data) in zip(axs.flat, data):\n",
    "    ax.set_rgrids([0.2, 0.4, 0.6, 0.8])\n",
    "    ax.set_title(title, weight='bold', size='medium', position=(0.5, 1.1),\n",
    "                 horizontalalignment='center', verticalalignment='center')\n",
    "    for d, color in zip(case_data, colors):\n",
    "        ax.plot(theta, d, color=color)\n",
    "        ax.fill(theta, d, facecolor=color, alpha=0.25, label='_nolegend_')\n",
    "    ax.set_varlabels(spoke_labels)\n",
    "    ax.legend(label, loc=(0.75, -0.15),\n",
    "                          labelspacing=0.1, fontsize='small')\n",
    "\n",
    "# add legend relative to top-left plot\n",
    "#labels = ('Factor 1', 'Factor 2', 'Factor 3', 'Factor 4', 'Factor 5')\n",
    "#legend = axs[0, 0].legend(labels, loc=(0.9, .95),\n",
    "#                          labelspacing=0.1, fontsize='small')\n",
    "\n",
    "#fig.text(0.5, 0.7, 'Influence of Successful Papers',\n",
    "#         horizontalalignment='center', color='black', weight='bold',\n",
    "#         size='large')\n",
    "plt.savefig('output/spider_web_at.pdf', bbox_inches='tight')\n",
    "plt.show()"
   ],
   "metadata": {
    "collapsed": false,
    "pycharm": {
     "name": "#%%\n"
    }
   }
  },
  {
   "cell_type": "code",
   "execution_count": null,
   "outputs": [],
   "source": [
    "N = 6\n",
    "theta = radar_factory(N, frame='polygon')\n",
    "'''values = [[], [], [], []]\n",
    "web_names = [[], [], [], []]\n",
    "for i in range(2):\n",
    "    row = (spider_web.iloc[i][-6:])\n",
    "    values[0].append(list(row))\n",
    "    web_names[0].append(row.name)'''\n",
    "\n",
    "values_21 = [[], []]\n",
    "web_names_21 = [[], []]\n",
    "for index, i in enumerate(['Waymo Open Motion', 'SemKITTI-DVPS', 'Cityscapes-DVPS', 'ONCE', 'MAVD Multimodal Audio-Visual Detection', 'MOTSynth', 'RoadAnomaly21']):\n",
    "    # top 6 ['Waymo Open Motion', 'SemKITTI-DVPS', 'Cityscapes-DVPS', 'ONCE', 'RoadAnomaly21', 'MOTSynth', 'RoadAnomaly21'] #'SemKITTI-DVPS', 'Cityscapes-DVPS' are the same\n",
    "    if i == 'SemKITTI-DVPS':\n",
    "        continue\n",
    "    row = (spider_web.loc[i][-6:])\n",
    "    if index <= 3:\n",
    "        values_21[0].append(list(row))\n",
    "        web_names_21[0].append(row.name)\n",
    "    else:\n",
    "        values_21[1].append(list(row))\n",
    "        web_names_21[1].append(row.name)\n",
    "dimension_names = []\n",
    "\n",
    "for name in enumerate(list(spider_web.columns[-6:])):\n",
    "    #print(name[1])\n",
    "    dimension_names.append(name[1].replace('_', '\\n'))\n",
    "data = [dimension_names, ('', web_names_21[0], values_21[0]), ('', web_names_21[1], values_21[1])]\n",
    "\n",
    "print(data)\n",
    "spoke_labels = data.pop(0)\n",
    "\n",
    "fig, axs = plt.subplots(figsize=(10, 4), nrows=1, ncols=2,\n",
    "                        subplot_kw=dict(projection='radar'))\n",
    "fig.subplots_adjust(wspace=0.2, hspace=0.10, top=0.9, bottom=0.1)\n",
    "\n",
    "# Plot the four cases from the example data on separate axes\n",
    "colors = ['#648fff', '#dc267f', '#ffb000'] #['#648fff', '#785ef0', '#dc267f', '#fe6100', '#ffb000']\n",
    "for ax, (title, label, case_data) in zip(axs.flat, data):\n",
    "    ax.set_rgrids([0.2, 0.4, 0.6, 0.8])\n",
    "    '''ax.set_title(title, weight='bold', size='medium', position=(0.5, 1.4),\n",
    "                 horizontalalignment='center', verticalalignment='center')'''\n",
    "    a = 0\n",
    "    for d, color in zip(case_data, colors):\n",
    "        ax.plot(theta, d, color=color)\n",
    "        ax.fill(theta, d, facecolor=color, alpha=0.25, label='_nolegend_')\n",
    "        a += 1\n",
    "    ax.set_varlabels(spoke_labels)\n",
    "    ax.legend(label, loc=(0.7, -0.1),\n",
    "                          labelspacing=0.1, fontsize='small')\n",
    "\n",
    "# add legend relative to top-left plot\n",
    "#labels = ('Factor 1', 'Factor 2', 'Factor 3', 'Factor 4', 'Factor 5')\n",
    "#legend = axs[0, 0].legend(labels, loc=(0.9, .95),\n",
    "#                          labelspacing=0.1, fontsize='small')\n",
    "\n",
    "plt.savefig('output/spider_web_at_best_of_21.pdf', bbox_inches='tight')\n",
    "plt.show()"
   ],
   "metadata": {
    "collapsed": false,
    "pycharm": {
     "name": "#%%\n"
    }
   }
  },
  {
   "cell_type": "code",
   "execution_count": null,
   "outputs": [],
   "source": [
    "same_start_year = False\n",
    "if same_start_year:\n",
    "    references_array = np.empty([len(retrieved_data), 15])\n",
    "    citations_array = np.empty([len(retrieved_data), 15])\n",
    "    citations_citations_array = np.empty([len(retrieved_data), 15])\n",
    "    author_array = np.empty([len(retrieved_data), 15])\n",
    "\n",
    "    references_array[:] = np.nan\n",
    "    citations_array[:] = np.nan\n",
    "    citations_citations_array[:] = np.nan\n",
    "    author_array[:] = np.nan\n",
    "    names = []\n",
    "    for paper_idx, o_paper in enumerate(tqdm(retrieved_data)):\n",
    "        names.append(o_paper['id'])\n",
    "        for index in range(16):\n",
    "            yr = o_paper['paperInfo']['year'] + index\n",
    "            if yr > 2022:\n",
    "                break\n",
    "            scorer = scoring(o_paper, 50, index, index)\n",
    "\n",
    "            ls_author_scores = []\n",
    "            for author_number, author in enumerate(o_paper['paperInfo']['authors']):\n",
    "                single_author_score = scorer.citations_single_author_score(author_number)\n",
    "                ls_author_scores.append(single_author_score)\n",
    "            author_array[paper_idx, index] = np.mean(ls_author_scores)\n",
    "            references_array[paper_idx, index] = scorer.reference_score()\n",
    "            citations_array[paper_idx, index] = scorer.just_citations()\n",
    "            citations_citations_array[paper_idx, index] = scorer.citations_citations_score()"
   ],
   "metadata": {
    "collapsed": false,
    "pycharm": {
     "name": "#%%\n"
    }
   }
  },
  {
   "cell_type": "code",
   "execution_count": null,
   "outputs": [],
   "source": [
    "if not same_start_year:\n",
    "    references_array = np.empty([len(retrieved_data), 15])\n",
    "    citations_array = np.empty([len(retrieved_data), 15])\n",
    "    citations_citations_array = np.empty([len(retrieved_data), 15])\n",
    "    author_array = np.empty([len(retrieved_data), 15])\n",
    "    citations_citations_sum_array = np.empty([len(retrieved_data), 15])\n",
    "    references_array[:] = np.nan\n",
    "    citations_array[:] = np.nan\n",
    "    citations_citations_array[:] = np.nan\n",
    "    author_array[:] = np.nan\n",
    "    citations_citations_sum_array[:] = np.nan\n",
    "    names = []\n",
    "    for paper_idx, o_paper in enumerate(tqdm(retrieved_data)):\n",
    "        names.append(o_paper['id'])\n",
    "        for index in range(14, 0, -1): #index = 16 = year 2022\n",
    "            dist = 2008+ index-o_paper['paperInfo']['year']\n",
    "            if dist < 0:\n",
    "                break\n",
    "            scorer = scoring(o_paper, 50, dist, dist)\n",
    "\n",
    "            ls_author_scores = []\n",
    "            for author_number, author in enumerate(o_paper['paperInfo']['authors']):\n",
    "                single_author_score = scorer.citations_single_author_score(author_number)\n",
    "                ls_author_scores.append(single_author_score)\n",
    "            author_array[paper_idx, index] = np.mean(ls_author_scores)\n",
    "            references_array[paper_idx, index] = scorer.reference_score()\n",
    "            citations_array[paper_idx, index] = scorer.just_citations()\n",
    "            citations_citations_array[paper_idx, index] = scorer.citations_citations_score()\n",
    "            citations_citations_sum_array[paper_idx, index] = scorer.citations_citations_sum()\n"
   ],
   "metadata": {
    "collapsed": false,
    "pycharm": {
     "name": "#%%\n"
    }
   }
  },
  {
   "cell_type": "code",
   "execution_count": null,
   "outputs": [],
   "source": [
    "author_df = pd.DataFrame(author_array).set_axis(names)\n",
    "references_df = pd.DataFrame(references_array).set_axis(names)\n",
    "citations_df = pd.DataFrame(citations_array).set_axis(names)\n",
    "citations_citations_df = pd.DataFrame(citations_citations_array).set_axis(names)\n",
    "citations_citations_sum_df = pd.DataFrame(citations_citations_sum_array).set_axis(names)\n",
    "for i in range(15):\n",
    "    author_df.iloc[:, i] = author_df.iloc[:, i].rank(pct = True)\n",
    "    references_df.iloc[:, i] = references_df.iloc[:, i].rank(pct = True)\n",
    "    citations_df.iloc[:, i] = citations_df.iloc[:, i].rank(pct = True)\n",
    "    citations_citations_df.iloc[:, i] = citations_citations_df.iloc[:, i].rank(pct = True)\n",
    "author_df"
   ],
   "metadata": {
    "collapsed": false,
    "pycharm": {
     "name": "#%%\n"
    }
   }
  },
  {
   "cell_type": "code",
   "execution_count": null,
   "outputs": [],
   "source": [
    "percentile_scores = {\"authors\": author_df, \"references\": references_df, \"citations\": citations_df, \"citations_citations\": citations_citations_df}"
   ],
   "metadata": {
    "collapsed": false,
    "pycharm": {
     "name": "#%%\n"
    }
   }
  },
  {
   "cell_type": "code",
   "execution_count": null,
   "outputs": [],
   "source": [
    "def relevance_score(scores, alpha=0.25, beta=0.25, gamma=0.25, theta=0.25, relative_c2=False): #Todo sum of weights = 1\n",
    "    result = scores['references']*alpha + scores['authors']*beta + scores['citations']*gamma + scores['citations_citations']*theta\n",
    "    if relative_c2:\n",
    "        result = scores['citations_citations']/scores['citations']\n",
    "    return result"
   ],
   "metadata": {
    "collapsed": false,
    "pycharm": {
     "name": "#%%\n"
    }
   }
  },
  {
   "cell_type": "code",
   "execution_count": null,
   "outputs": [],
   "source": [
    "relevance_scores = relevance_score(percentile_scores).round(3)\n",
    "relevance_scores.columns = [*range(2008, 2023)]\n"
   ],
   "metadata": {
    "collapsed": false,
    "pycharm": {
     "name": "#%%\n"
    }
   }
  },
  {
   "cell_type": "code",
   "execution_count": null,
   "outputs": [],
   "source": [
    "relevance_scores = relevance_scores[pd.notna(relevance_scores[2019])]\n",
    "relevance_scores = relevance_scores.sort_values([2022], ascending=[False])\n",
    "relevance_scores.to_csv('output/infSco_equal_weigths.csv', header=[*range(2008, 2023)])"
   ],
   "metadata": {
    "collapsed": false,
    "pycharm": {
     "name": "#%%\n"
    }
   }
  },
  {
   "cell_type": "code",
   "execution_count": null,
   "outputs": [],
   "source": [
    "relevance_scores.duplicated(subset=[2022])"
   ],
   "metadata": {
    "collapsed": false,
    "pycharm": {
     "name": "#%%\n"
    }
   }
  },
  {
   "cell_type": "code",
   "execution_count": null,
   "outputs": [],
   "source": [
    "relevance_scores = relevance_score(percentile_scores, alpha=0, beta=0, gamma=0.5, theta=0.5)"
   ],
   "metadata": {
    "collapsed": false,
    "pycharm": {
     "name": "#%%\n"
    }
   }
  },
  {
   "cell_type": "code",
   "execution_count": null,
   "outputs": [],
   "source": [
    "colors=['#648fff', '#785ef0', '#dc267f', '#fe6100', '#ffb000', '#A740AE']\n",
    "datasets = ['KITTI','Cars Dataset', 'Synthia', 'Waymo Open Motion', 'Cityscapes-DVPS', 'ONCE']\n",
    "interest = relevance_scores.loc[datasets]"
   ],
   "metadata": {
    "collapsed": false,
    "pycharm": {
     "name": "#%%\n"
    }
   }
  },
  {
   "cell_type": "code",
   "execution_count": null,
   "outputs": [],
   "source": [
    "ws = [('citations', [0, 0, 1, 0]), ('equal weights', [0.25, 0.25, 0.25, 0.25]), ('citations of citations', [0, 0, 0, 1]),  ('references, authors, citations', [0.33, 0.33, 0.33, 0])]\n",
    "'''w = ws[0]\n",
    "relevance_scores = relevance_score(percentile_scores, alpha=w[0], beta=w[1], gamma=w[2], theta=w[3])\n",
    "for i_row, row in enumerate(datasets):\n",
    "    plt.plot(relevance_scores.loc[row], label=relevance_scores.loc[row].name, color=colors[i_row])\n",
    "plt.legend(loc='best')\n",
    "plt.show()'''\n",
    "fig, axs = plt.subplots(figsize=(14, 8), nrows=2, ncols=2)\n",
    "fig.subplots_adjust(wspace=0.2, hspace=0.2, top=0.95, bottom=0.1)\n",
    "\n",
    "first = True\n",
    "for ax, (scenario_name, w) in zip(axs.flat, ws):\n",
    "    relevance_scores = relevance_score(percentile_scores, alpha=w[0], beta=w[1], gamma=w[2], theta=w[3])\n",
    "    for i_row, row in enumerate(datasets):\n",
    "        ax.plot([*range(2008, 2023)], relevance_scores.loc[row], label=relevance_scores.loc[row].name, color=colors[i_row])\n",
    "    ax.set(xlim=(2014, 2022), ylim=(0, 1.04), xticks=[*range(2014, 2023, 2)], xlabel='years', ylabel=scenario_name)\n",
    "    if first:\n",
    "        ax.legend(datasets, loc='lower center', labelspacing=0.1, fontsize='medium')\n",
    "        first = False\n",
    "plt.savefig('output/influence_scores.pdf')\n",
    "plt.show()"
   ],
   "metadata": {
    "collapsed": false,
    "pycharm": {
     "name": "#%%\n"
    }
   }
  },
  {
   "cell_type": "code",
   "execution_count": null,
   "outputs": [],
   "source": [],
   "metadata": {
    "collapsed": false,
    "pycharm": {
     "name": "#%%\n"
    }
   }
  },
  {
   "cell_type": "code",
   "execution_count": null,
   "outputs": [],
   "source": [
    "ws = [('citations', [0, 0, 1, 0]), ('equal weights', [0.25, 0.25, 0.25, 0.25]), ('citations of citations', [0, 0, 0, 1]),  ('references, authors, citations', [0.33, 0.33, 0.33, 0])]\n",
    "'''w = ws[0]\n",
    "relevance_scores = relevance_score(percentile_scores, alpha=w[0], beta=w[1], gamma=w[2], theta=w[3])\n",
    "for i_row, row in enumerate(datasets):\n",
    "    plt.plot(relevance_scores.loc[row], label=relevance_scores.loc[row].name, color=colors[i_row])\n",
    "plt.legend(loc='best')\n",
    "plt.show()'''\n",
    "fig, axs = plt.subplots(figsize=(14, 8), nrows=2, ncols=2)\n",
    "fig.subplots_adjust(wspace=0.2, hspace=0.2, top=0.95, bottom=0.1)\n",
    "\n",
    "first = True\n",
    "for ax, (scenario_name, w) in zip(axs.flat, ws):\n",
    "    relevance_scores = relevance_score(percentile_scores, alpha=w[0], beta=w[1], gamma=w[2], theta=w[3])\n",
    "    for i_row, row in enumerate(list(relevance_scores.index.values)):\n",
    "        #print(relevance_scores.loc[row])\n",
    "        ax.plot([*range(2008, 2023)], relevance_scores.iloc[i_row], label=relevance_scores.iloc[i_row])\n",
    "    ax.set(xlim=(2014, 2022), ylim=(0, 1.04), xticks=[*range(2014, 2023, 2)], xlabel='years', ylabel=scenario_name)\n",
    "    if first:\n",
    "        ax.legend(datasets, loc='lower center', labelspacing=0.1, fontsize='medium')\n",
    "        first = False\n",
    "plt.savefig('output/influence_scores_3.pdf')\n",
    "plt.show()"
   ],
   "metadata": {
    "collapsed": false,
    "pycharm": {
     "name": "#%%\n"
    }
   }
  },
  {
   "cell_type": "code",
   "execution_count": null,
   "outputs": [],
   "source": [
    "a =\n",
    "ws = [('citations', [0, 0, 1, 0]), ('equal weights', [0.25, 0.25, 0.25, 0.25]), ('citations of citations', [0, 0, 0, 1]),  ('references, authors, citations', [0.33, 0.33, 0.33, 0])]\n",
    "'''w = ws[0]\n",
    "relevance_scores = relevance_score(percentile_scores, alpha=w[0], beta=w[1], gamma=w[2], theta=w[3])\n",
    "for i_row, row in enumerate(datasets):\n",
    "    plt.plot(relevance_scores.loc[row], label=relevance_scores.loc[row].name, color=colors[i_row])\n",
    "plt.legend(loc='best')\n",
    "plt.show()'''\n",
    "fig, axs = plt.subplots(figsize=(14, 8), nrows=2, ncols=2)\n",
    "fig.subplots_adjust(wspace=0.2, hspace=0.2, top=0.95, bottom=0.1)\n",
    "\n",
    "first = True\n",
    "for ax, (scenario_name, w) in zip(axs.flat, ws):\n",
    "    relevance_scores = relevance_score(percentile_scores, alpha=w[0], beta=w[1], gamma=w[2], theta=w[3])\n",
    "    for i_row, row in enumerate(list(relevance_scores.index.values)):\n",
    "        #print(relevance_scores.iloc[i_row])\n",
    "        for i, score in enumerate(relevance_scores.iloc[i_row]):\n",
    "            if score is not None:\n",
    "                ax.scatter((2008+i), score, label=relevance_scores.iloc[i_row], alpha=0.3)\n",
    "    ax.set(xlim=(2014, 2022), ylim=(0, 1.04), xticks=[*range(2014, 2023, 2)], xlabel='years', ylabel=scenario_name)\n",
    "    if first:\n",
    "        ax.legend(datasets, loc='lower center', labelspacing=0.1, fontsize='medium')\n",
    "        first = False\n",
    "plt.savefig('output/influence_scores_3.pdf')\n",
    "plt.show()"
   ],
   "metadata": {
    "collapsed": false,
    "pycharm": {
     "name": "#%%\n"
    }
   }
  },
  {
   "cell_type": "code",
   "execution_count": null,
   "outputs": [],
   "source": [
    "ws = [('equal weights', [0.25, 0.25, 0.25, 0.25])]\n",
    "ax = plt.subplot()\n",
    "#ax.subplots_adjust(wspace=0.2, hspace=0.2, top=0.95, bottom=0.1)\n",
    "\n",
    "first = True\n",
    "for (scenario_name, w) in ws:\n",
    "    relevance_scores = relevance_score(percentile_scores, alpha=w[0], beta=w[1], gamma=w[2], theta=w[3])\n",
    "    for i_row, row in enumerate(list(relevance_scores.index.values)):\n",
    "        #print(relevance_scores.iloc[i_row])\n",
    "        for i, score in enumerate(relevance_scores.iloc[i_row]):\n",
    "            if score is not None:\n",
    "                ax.scatter((2008+i), score, label=relevance_scores.iloc[i_row], alpha=0.3)\n",
    "    ax.set(xlim=(2008, 2023), ylim=(0, 1.04), xticks=[*range(2008, 2024, 2)], xlabel='years', ylabel=scenario_name)\n",
    "    #if first:\n",
    "    #    ax.legend(datasets, loc='lower center', labelspacing=0.1, fontsize='medium')\n",
    "    #    first = False\n",
    "plt.savefig('output/influence_scores_3.pdf')\n",
    "plt.show()"
   ],
   "metadata": {
    "collapsed": false,
    "pycharm": {
     "name": "#%%\n"
    }
   }
  },
  {
   "cell_type": "code",
   "execution_count": null,
   "outputs": [],
   "source": [
    "ws = [('citations', [0, 0, 1, 0]), ('h-index of citations', [0, 0, 0, 1]), ('references', [1, 0, 0, 0]), ('authors', [0, 1, 0, 0]), ('equal weights', [0.25, 0.25, 0.25, 0.25]), ('early post release', [0.5, 0, 0.5, 0])]\n",
    "fig, axs = plt.subplots(figsize=(20, 8), nrows=2, ncols=3)\n",
    "fig.subplots_adjust(wspace=0.2, hspace=0.2, top=0.8, bottom=0.2)\n",
    "\n",
    "first = True\n",
    "for ax, (scenario_name, w) in zip(axs.flat, ws):\n",
    "    relevance_scores = relevance_score(percentile_scores, alpha=w[0], beta=w[1], gamma=w[2], theta=w[3])\n",
    "    for i_row, row in enumerate(datasets):\n",
    "        ax.plot([*range(2008, 2023)], relevance_scores.loc[row], label=relevance_scores.loc[row].name, color=colors[i_row])\n",
    "    ax.set(xlim=(2012, 2022), ylim=(0, 1.04), xticks=[*range(2012, 2023, 2)], xlabel='years', ylabel=scenario_name)\n",
    "    if first:\n",
    "        ax.legend(datasets, loc='lower center', labelspacing=0.1, fontsize='small')\n",
    "        first = False\n",
    "plt.savefig('output/influence_scores2.pdf', bbox_inches='tight')\n",
    "plt.show()"
   ],
   "metadata": {
    "collapsed": false,
    "pycharm": {
     "name": "#%%\n"
    }
   }
  },
  {
   "cell_type": "code",
   "execution_count": null,
   "outputs": [],
   "source": [
    "colors=['#648fff', '#785ef0', '#dc267f', '#fe6100', '#ffb000', '#E7581E']\n",
    "ws = [('citations', [0, 0, 1, 0]), ('citations of citations', [0, 0, 0, 1])]\n",
    "fig, axs = plt.subplots(figsize=(18, 4), nrows=1, ncols=3)\n",
    "fig.subplots_adjust(wspace=0.2, hspace=0, top=0.8, bottom=0.2)\n",
    "datasets = ['KITTI', 'Cars Dataset', 'CamVid', 'DIPLECS Autonomous Driving Datasets', 'Illumination Changes in a day', 'AMUSE']\n",
    "first = True\n",
    "for ax, (scenario_name, w) in zip(axs.flat, ws):\n",
    "    relevance_scores = relevance_score(percentile_scores, alpha=w[0], beta=w[1], gamma=w[2], theta=w[3], relative_c2=False)\n",
    "    for i_row, row in enumerate(datasets):\n",
    "        ax.plot([*range(2008, 2023)], relevance_scores.loc[row], label=relevance_scores.loc[row].name, color=colors[i_row])\n",
    "    ax.set(xlim=(2014, 2022), ylim=(0, 1.04), xticks=[*range(2014, 2023, 2)], xlabel='years', ylabel=scenario_name)\n",
    "    if first:\n",
    "        ax.legend(datasets, loc='best', labelspacing=0.1, fontsize='small')\n",
    "        first = False\n",
    "#plt.savefig('output/influence_scores2.pdf')\n",
    "plt.show()"
   ],
   "metadata": {
    "collapsed": false,
    "pycharm": {
     "name": "#%%\n"
    }
   }
  },
  {
   "cell_type": "code",
   "execution_count": null,
   "outputs": [],
   "source": [
    "colors=['#648fff', '#785ef0', '#dc267f', '#fe6100', '#ffb000', '#A740AE']\n",
    "datasets = ['KITTI','Synthia', 'nuScenes', 'Waymo Open Motion', 'Cityscapes-DVPS', 'ONCE']\n",
    "interest = relevance_scores.loc[datasets]"
   ],
   "metadata": {
    "collapsed": false,
    "pycharm": {
     "name": "#%%\n"
    }
   }
  },
  {
   "cell_type": "code",
   "execution_count": null,
   "outputs": [],
   "source": [
    "author_df = pd.DataFrame(author_array).set_axis(names)\n",
    "references_df = pd.DataFrame(references_array).set_axis(names)\n",
    "citations_df = pd.DataFrame(citations_array).set_axis(names)\n",
    "citations_citations_df = pd.DataFrame(citations_citations_array).set_axis(names)\n",
    "citations_citations_sum_df = pd.DataFrame(citations_citations_sum_array).set_axis(names)"
   ],
   "metadata": {
    "collapsed": false,
    "pycharm": {
     "name": "#%%\n"
    }
   }
  },
  {
   "cell_type": "code",
   "execution_count": null,
   "outputs": [],
   "source": [
    "df = citations_citations_sum_df.iloc[:144]\n",
    "df['citations_citations_rank'] = citations_citations_sum_df.iloc[:144][14]#/citations_df.iloc[:144][14]).rank(pct = True)\n",
    "df['citation_rank'] = citations_df.iloc[:144][14] #.rank(pct = True)\n",
    "plt.scatter(df.citation_rank, df.citations_citations_rank, color='#648fff')\n",
    "plt.xlabel('(citations)')\n",
    "plt.xlim(0, 1000)\n",
    "plt.ylabel('(citations of citations)')\n",
    "plt.savefig('output/citations_of_citations_per_citation.pdf')\n",
    "plt.show()"
   ],
   "metadata": {
    "collapsed": false,
    "pycharm": {
     "name": "#%%\n"
    }
   }
  },
  {
   "cell_type": "code",
   "execution_count": null,
   "outputs": [],
   "source": [
    "from scipy.stats import pearsonr\n",
    "pearsonr(df.citation_rank, df.citations_citations_rank)\n",
    "#correlation coeff, p-value"
   ],
   "metadata": {
    "collapsed": false,
    "pycharm": {
     "name": "#%%\n"
    }
   }
  },
  {
   "cell_type": "code",
   "execution_count": null,
   "outputs": [],
   "source": [
    "x = pd.DataFrame(df.citation_rank)\n",
    "mod = sm.OLS(df.citations_citations_rank, x.assign(intercept=1))\n",
    "res = mod.fit()\n",
    "print(res.summary())"
   ],
   "metadata": {
    "collapsed": false,
    "pycharm": {
     "name": "#%%\n"
    }
   }
  },
  {
   "cell_type": "code",
   "execution_count": null,
   "outputs": [],
   "source": [
    "score  = (df.citations_citations_rank - res.fittedvalues).rank(pct=True)"
   ],
   "metadata": {
    "collapsed": false,
    "pycharm": {
     "name": "#%%\n"
    }
   }
  },
  {
   "cell_type": "code",
   "execution_count": null,
   "outputs": [],
   "source": [
    "plt.scatter(df.citation_rank, list(score), alpha=1, s=4)\n",
    "plt.xlim(0, 100)\n",
    "plt.show()"
   ],
   "metadata": {
    "collapsed": false,
    "pycharm": {
     "name": "#%%\n"
    }
   }
  },
  {
   "cell_type": "code",
   "execution_count": null,
   "outputs": [],
   "source": [
    "res.params"
   ],
   "metadata": {
    "collapsed": false,
    "pycharm": {
     "name": "#%%\n"
    }
   }
  },
  {
   "cell_type": "code",
   "execution_count": null,
   "outputs": [],
   "source": [
    "score"
   ],
   "metadata": {
    "collapsed": false,
    "pycharm": {
     "name": "#%%\n"
    }
   }
  },
  {
   "cell_type": "code",
   "execution_count": null,
   "outputs": [],
   "source": [
    "df = citations_citations_df.iloc[:144]\n",
    "df['citations_citations_rank'] = citations_citations_df.iloc[:144][14].rank(pct = True)\n",
    "df['citation_rank'] = citations_df.iloc[:144][14].rank(pct = True)\n",
    "plt.scatter(df.citation_rank, df.citations_citations_rank, color='#648fff')\n",
    "plt.xlabel('rank(citations)')\n",
    "plt.ylabel('rank(citations of citations h)')\n",
    "plt.savefig('output/citations_of_citations_per_citation.pdf')\n",
    "plt.show()"
   ],
   "metadata": {
    "collapsed": false,
    "pycharm": {
     "name": "#%%\n"
    }
   }
  },
  {
   "cell_type": "code",
   "execution_count": null,
   "outputs": [],
   "source": [
    "from scipy.stats import pearsonr\n",
    "pearsonr(df.citation_rank, df.citations_citations_rank)\n",
    "#correlation coeff, p-value"
   ],
   "metadata": {
    "collapsed": false,
    "pycharm": {
     "name": "#%%\n"
    }
   }
  },
  {
   "cell_type": "code",
   "execution_count": null,
   "outputs": [],
   "source": [],
   "metadata": {
    "collapsed": false,
    "pycharm": {
     "name": "#%%\n"
    }
   }
  }
 ],
 "metadata": {
  "kernelspec": {
   "display_name": "Python 3",
   "language": "python",
   "name": "python3"
  },
  "language_info": {
   "codemirror_mode": {
    "name": "ipython",
    "version": 2
   },
   "file_extension": ".py",
   "mimetype": "text/x-python",
   "name": "python",
   "nbconvert_exporter": "python",
   "pygments_lexer": "ipython2",
   "version": "2.7.6"
  }
 },
 "nbformat": 4,
 "nbformat_minor": 0
}