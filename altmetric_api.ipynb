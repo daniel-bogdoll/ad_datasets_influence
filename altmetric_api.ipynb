{
 "cells": [
  {
   "cell_type": "code",
   "execution_count": 36,
   "outputs": [],
   "source": [
    "import json\n",
    "import warnings\n",
    "import requests\n",
    "import tqdm"
   ],
   "metadata": {
    "collapsed": false,
    "pycharm": {
     "name": "#%%\n"
    }
   }
  },
  {
   "cell_type": "code",
   "execution_count": 50,
   "outputs": [
    {
     "data": {
      "text/plain": "{'total_number_of_other_articles': 22545203,\n 'mean': 10.140114810243793,\n 'rank': 2379437,\n 'this_scored_higher_than_pct': 89,\n 'this_scored_higher_than': 20154515,\n 'rank_type': 'exact',\n 'sample_size': 22545203,\n 'percentile': 89}"
     },
     "execution_count": 50,
     "metadata": {},
     "output_type": "execute_result"
    }
   ],
   "source": [
    "#Load your api key\n",
    "with open('api_keys.json') as f:\n",
    "    api_keys = json.load(f)\n",
    "alt_metric_key = api_keys['alt_metric']\n",
    "def get_reduced_alt_values(r):\n",
    "    \"\"\"when some info is missing extracts less information from the response object\"\"\"\n",
    "    total_readers = 0\n",
    "    for key in r['counts']['readers'].keys():\n",
    "        total_readers += int(r['counts']['readers'][key])\n",
    "    score = r['score']\n",
    "    percentile = -100 #r['altmetric_score']['context_for_score']['all']['percentile']\n",
    "    similar_age_3m_percentile= -100 #r['altmetric_score']['context_for_score']['similar_age_3m']  #['percentile']\n",
    "    alt_values = {'score': score}, {'percentile': percentile}, {'similar_age_3m_percentile': similar_age_3m_percentile}, {'total_readers': total_readers}\n",
    "    return alt_values\n",
    "def get_alt_values(r):\n",
    "    \"\"\"extracts relevant information from the response object\"\"\"\n",
    "    total_readers = 0\n",
    "    for key in r['counts']['readers'].keys():\n",
    "        total_readers += int(r['counts']['readers'][key])\n",
    "    score = r['score']\n",
    "    percentile = 0 #r['altmetric_score']['context_for_score']['all']['percentile']\n",
    "    similar_age_3m_percentile= r['altmetric_score']['context_for_score']['similar_age_3m']  #['percentile']\n",
    "    alt_values = {'score': score}, {'percentile': percentile}, {'similar_age_3m_percentile': similar_age_3m_percentile}, {'total_readers': total_readers}\n",
    "    return alt_values\n",
    "def altmetric_arxiv_requests(arxiv):\n",
    "    global alt_metric_key\n",
    "    r = requests.get(f'https://api.altmetric.com/v1/fetch/arxiv_id/{arxiv}?key={alt_metric_key}').json()\n",
    "    return r\n",
    "def altmetric_doi_requests(doi):\n",
    "    global alt_metric_key\n",
    "    r = requests.get(f'https://api.altmetric.com/v1/fetch/doi/{doi}?key={alt_metric_key}').json()\n",
    "    return r\n",
    "altmetric_doi_requests('10.1177%2F0278364913491297')['altmetric_score']['context_for_score']['all']"
   ],
   "metadata": {
    "collapsed": false,
    "pycharm": {
     "name": "#%%\n"
    }
   }
  },
  {
   "cell_type": "code",
   "execution_count": 52,
   "outputs": [
    {
     "name": "stdout",
     "output_type": "stream",
     "text": [
      "Number of Datasets: 186\n"
     ]
    },
    {
     "name": "stderr",
     "output_type": "stream",
     "text": [
      "C:\\Users\\jonas\\AppData\\Local\\Temp\\ipykernel_16296\\1662549837.py:19: UserWarning: GTSDB caused: 'arxivId'\n",
      "  warnings.warn(f'{paper[\"id\"]} caused: {ex}')\n",
      "C:\\Users\\jonas\\AppData\\Local\\Temp\\ipykernel_16296\\1662549837.py:19: UserWarning: Malaga Stereo and Laser Urban caused: 'arxivId'\n",
      "  warnings.warn(f'{paper[\"id\"]} caused: {ex}')\n",
      "C:\\Users\\jonas\\AppData\\Local\\Temp\\ipykernel_16296\\1662549837.py:19: UserWarning: Stanford Track Collection caused: 'arxivId'\n",
      "  warnings.warn(f'{paper[\"id\"]} caused: {ex}')\n",
      "C:\\Users\\jonas\\AppData\\Local\\Temp\\ipykernel_16296\\1662549837.py:19: UserWarning: Complex Urban caused: 'arxivId'\n",
      "  warnings.warn(f'{paper[\"id\"]} caused: {ex}')\n",
      "C:\\Users\\jonas\\AppData\\Local\\Temp\\ipykernel_16296\\1662549837.py:19: UserWarning: UAH-DriveSet caused: 'arxivId'\n",
      "  warnings.warn(f'{paper[\"id\"]} caused: {ex}')\n",
      "C:\\Users\\jonas\\AppData\\Local\\Temp\\ipykernel_16296\\1662549837.py:19: UserWarning: HD1K caused: 'arxivId'\n",
      "  warnings.warn(f'{paper[\"id\"]} caused: {ex}')\n",
      "C:\\Users\\jonas\\AppData\\Local\\Temp\\ipykernel_16296\\1662549837.py:19: UserWarning: rounD caused: 'arxivId'\n",
      "  warnings.warn(f'{paper[\"id\"]} caused: {ex}')\n",
      "C:\\Users\\jonas\\AppData\\Local\\Temp\\ipykernel_16296\\1662549837.py:19: UserWarning: DriveU Traffic Light caused: 'arxivId'\n",
      "  warnings.warn(f'{paper[\"id\"]} caused: {ex}')\n",
      "C:\\Users\\jonas\\AppData\\Local\\Temp\\ipykernel_16296\\1662549837.py:19: UserWarning: PREVENTION caused: 'arxivId'\n",
      "  warnings.warn(f'{paper[\"id\"]} caused: {ex}')\n",
      "C:\\Users\\jonas\\AppData\\Local\\Temp\\ipykernel_16296\\1662549837.py:19: UserWarning: Boxy caused: 'arxivId'\n",
      "  warnings.warn(f'{paper[\"id\"]} caused: {ex}')\n",
      "C:\\Users\\jonas\\AppData\\Local\\Temp\\ipykernel_16296\\1662549837.py:19: UserWarning: TRoM caused: 'arxivId'\n",
      "  warnings.warn(f'{paper[\"id\"]} caused: {ex}')\n",
      "C:\\Users\\jonas\\AppData\\Local\\Temp\\ipykernel_16296\\1662549837.py:19: UserWarning: WildDash 2 caused: 'arxivId'\n",
      "  warnings.warn(f'{paper[\"id\"]} caused: {ex}')\n",
      "C:\\Users\\jonas\\AppData\\Local\\Temp\\ipykernel_16296\\1662549837.py:19: UserWarning: LUMPI caused: 'arxivId'\n",
      "  warnings.warn(f'{paper[\"id\"]} caused: {ex}')\n",
      "C:\\Users\\jonas\\AppData\\Local\\Temp\\ipykernel_16296\\1662549837.py:19: UserWarning: CarlaScenes caused: 'arxivId'\n",
      "  warnings.warn(f'{paper[\"id\"]} caused: {ex}')\n",
      "C:\\Users\\jonas\\AppData\\Local\\Temp\\ipykernel_16296\\1662549837.py:19: UserWarning: RoadSaW caused: 'arxivId'\n",
      "  warnings.warn(f'{paper[\"id\"]} caused: {ex}')\n",
      "C:\\Users\\jonas\\AppData\\Local\\Temp\\ipykernel_16296\\1662549837.py:19: UserWarning: VLMV - Vehicle Lane Merge Visual Benchmark caused: 'arxivId'\n",
      "  warnings.warn(f'{paper[\"id\"]} caused: {ex}')\n",
      "C:\\Users\\jonas\\AppData\\Local\\Temp\\ipykernel_16296\\1662549837.py:19: UserWarning: GROUNDED caused: 'arxivId'\n",
      "  warnings.warn(f'{paper[\"id\"]} caused: {ex}')\n",
      "C:\\Users\\jonas\\AppData\\Local\\Temp\\ipykernel_16296\\1662549837.py:19: UserWarning: exiD caused: 'arxivId'\n",
      "  warnings.warn(f'{paper[\"id\"]} caused: {ex}')\n",
      "C:\\Users\\jonas\\AppData\\Local\\Temp\\ipykernel_16296\\1662549837.py:19: UserWarning: K-Radar caused: 'arxivId'\n",
      "  warnings.warn(f'{paper[\"id\"]} caused: {ex}')\n",
      "C:\\Users\\jonas\\AppData\\Local\\Temp\\ipykernel_16296\\1662549837.py:19: UserWarning: R3 Driving caused: Expecting value: line 1 column 1 (char 0)\n",
      "  warnings.warn(f'{paper[\"id\"]} caused: {ex}')\n",
      "C:\\Users\\jonas\\AppData\\Local\\Temp\\ipykernel_16296\\1662549837.py:19: UserWarning: MuIRan caused: 'arxivId'\n",
      "  warnings.warn(f'{paper[\"id\"]} caused: {ex}')\n",
      "C:\\Users\\jonas\\AppData\\Local\\Temp\\ipykernel_16296\\1662549837.py:19: UserWarning: Boreas caused: Expecting value: line 1 column 1 (char 0)\n",
      "  warnings.warn(f'{paper[\"id\"]} caused: {ex}')\n",
      "C:\\Users\\jonas\\AppData\\Local\\Temp\\ipykernel_16296\\1662549837.py:19: UserWarning: OpenMPD caused: 'arxivId'\n",
      "  warnings.warn(f'{paper[\"id\"]} caused: {ex}')\n",
      "C:\\Users\\jonas\\AppData\\Local\\Temp\\ipykernel_16296\\1662549837.py:19: UserWarning: Autonomous Platform Inertial caused: 'arxivId'\n",
      "  warnings.warn(f'{paper[\"id\"]} caused: {ex}')\n",
      "C:\\Users\\jonas\\AppData\\Local\\Temp\\ipykernel_16296\\1662549837.py:19: UserWarning: HDBD caused: 'arxivId'\n",
      "  warnings.warn(f'{paper[\"id\"]} caused: {ex}')\n",
      "C:\\Users\\jonas\\AppData\\Local\\Temp\\ipykernel_16296\\1662549837.py:19: UserWarning: RUGD: Robot Unstructured Ground Driving caused: 'arxivId'\n",
      "  warnings.warn(f'{paper[\"id\"]} caused: {ex}')\n"
     ]
    },
    {
     "name": "stdout",
     "output_type": "stream",
     "text": [
      "found: 159 / 186\n"
     ]
    }
   ],
   "source": [
    "suffix = '_22_12_2022'\n",
    "file_name = f'data/data_sorted_only_w_ids{suffix}.json'\n",
    "with open(file_name, \"r\") as ds:\n",
    "    retrieved_data = json.load(ds)\n",
    "print('Number of Datasets:', len(retrieved_data))\n",
    "c = 0\n",
    "c_doi = 0\n",
    "for idx_paper, paper in enumerate(retrieved_data):\n",
    "    c += 1\n",
    "    try:\n",
    "        doi = paper['DOI']\n",
    "        r = altmetric_doi_requests(doi)\n",
    "        c_doi += 1\n",
    "    except:\n",
    "        try:\n",
    "            r = altmetric_arxiv_requests(paper['arxivId'])\n",
    "            c_doi += 1\n",
    "        except Exception as ex:\n",
    "            warnings.warn(f'{paper[\"id\"]} caused: {ex}')\n",
    "        continue\n",
    "    try:\n",
    "        alt_values = get_alt_values(r)\n",
    "    except:\n",
    "        try:\n",
    "            alt_values = get_reduced_alt_values(r)\n",
    "        except Exception as exec:\n",
    "            print(exec)\n",
    "            c_doi -= 1\n",
    "    retrieved_data[idx_paper].update({'altmetrics': alt_values})\n",
    "with open(f'data/data_sorted_only_w_ids{suffix}_altmetrics.json', 'w', encoding='utf-8') as f:\n",
    "    json.dump(retrieved_data, f)\n",
    "print('found:', c_doi, '/', c)"
   ],
   "metadata": {
    "collapsed": false,
    "pycharm": {
     "name": "#%%\n"
    }
   }
  },
  {
   "cell_type": "code",
   "execution_count": 53,
   "outputs": [
    {
     "data": {
      "text/plain": "0"
     },
     "execution_count": 53,
     "metadata": {},
     "output_type": "execute_result"
    }
   ],
   "source": [
    "zero_counter = 0\n",
    "for data in retrieved_data:\n",
    "    try:\n",
    "        perc = data['altmetrics']['similar_age_3m_percentile']\n",
    "        if perc == 0:\n",
    "            zero_counter += 1\n",
    "    except:\n",
    "        continue\n",
    "zero_counter"
   ],
   "metadata": {
    "collapsed": false,
    "pycharm": {
     "name": "#%%\n"
    }
   }
  }
 ],
 "metadata": {
  "kernelspec": {
   "display_name": "Python 3",
   "language": "python",
   "name": "python3"
  },
  "language_info": {
   "codemirror_mode": {
    "name": "ipython",
    "version": 2
   },
   "file_extension": ".py",
   "mimetype": "text/x-python",
   "name": "python",
   "nbconvert_exporter": "python",
   "pygments_lexer": "ipython2",
   "version": "2.7.6"
  }
 },
 "nbformat": 4,
 "nbformat_minor": 0
}