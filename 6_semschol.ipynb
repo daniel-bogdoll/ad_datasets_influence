{
 "cells": [
  {
   "cell_type": "code",
   "execution_count": 14,
   "metadata": {
    "collapsed": true
   },
   "outputs": [
    {
     "name": "stderr",
     "output_type": "stream",
     "text": [
      "C:\\Users\\jonas\\AppData\\Local\\Temp\\ipykernel_18672\\267114431.py:2: DeprecationWarning: Please use `pearsonr` from the `scipy.stats` namespace, the `scipy.stats.stats` namespace is deprecated.\n",
      "  from scipy.stats.stats import pearsonr\n"
     ]
    }
   ],
   "source": [
    "import json\n",
    "from scipy.stats.stats import pearsonr\n",
    "import requests\n",
    "import tqdm"
   ]
  },
  {
   "cell_type": "code",
   "execution_count": 3,
   "outputs": [],
   "source": [
    "with open('api_keys.json') as f:\n",
    "    api_keys = json.load(f)\n",
    "key = api_keys['semantic_scholar']"
   ],
   "metadata": {
    "collapsed": false,
    "pycharm": {
     "name": "#%%\n"
    }
   }
  },
  {
   "cell_type": "code",
   "execution_count": 4,
   "outputs": [],
   "source": [
    "suffix = '_22_12_2022'\n",
    "file_name = f'data/data_sorted_only_w_ids{suffix}.json'\n",
    "with open(file_name, \"r\") as ds:\n",
    "    retrieved_data = json.load(ds)"
   ],
   "metadata": {
    "collapsed": false,
    "pycharm": {
     "name": "#%%\n"
    }
   }
  },
  {
   "cell_type": "code",
   "execution_count": 12,
   "outputs": [
    {
     "name": "stdout",
     "output_type": "stream",
     "text": [
      "https://api.semanticscholar.org/graph/v1/paper/79b949d9b35c3f51dd20fb5c746cc81fc87147eb?fields=citationCount,influentialCitationCount\n",
      "https://api.semanticscholar.org/graph/v1/paper/a83cec6a91701bd8500f8c43ad731d4353c71d55?fields=citationCount,influentialCitationCount\n",
      "https://api.semanticscholar.org/graph/v1/paper/9e475a514f54665478aac6038c262e5a6bac5e64?fields=citationCount,influentialCitationCount\n",
      "https://api.semanticscholar.org/graph/v1/paper/9e475a514f54665478aac6038c262e5a6bac5e64?fields=citationCount,influentialCitationCount\n",
      "https://api.semanticscholar.org/graph/v1/paper/9358d2ae944cfbdcb4b48e2e0c5f7ad97118b74e?fields=citationCount,influentialCitationCount\n",
      "https://api.semanticscholar.org/graph/v1/paper/4d9d25e67ebabbfc0acd63798f1a260cb2c8a9bd?fields=citationCount,influentialCitationCount\n",
      "https://api.semanticscholar.org/graph/v1/paper/3e083dc8aeb7983a5cdff146985363d38caf0886?fields=citationCount,influentialCitationCount\n",
      "https://api.semanticscholar.org/graph/v1/paper/e03bbca03dc10c4dfb10eca7439aa1a19233aa5a?fields=citationCount,influentialCitationCount\n",
      "https://api.semanticscholar.org/graph/v1/paper/d74ed94c7a83298a4b4f0e1c70200126e464cc05?fields=citationCount,influentialCitationCount\n",
      "https://api.semanticscholar.org/graph/v1/paper/2f7e8d0cfe601b9bb3d07d7783ecd80424994517?fields=citationCount,influentialCitationCount\n",
      "https://api.semanticscholar.org/graph/v1/paper/22fe619996b59c09cb73be40103a123d2e328111?fields=citationCount,influentialCitationCount\n",
      "https://api.semanticscholar.org/graph/v1/paper/79828e6e9f137a583082b8b5a9dfce0c301989b8?fields=citationCount,influentialCitationCount\n",
      "https://api.semanticscholar.org/graph/v1/paper/e6c40fd5adf616b31766f7578fd8c18e18158b78?fields=citationCount,influentialCitationCount\n",
      "https://api.semanticscholar.org/graph/v1/paper/4f0b8f730273e9f11b2bfad2415485414b96299f?fields=citationCount,influentialCitationCount\n",
      "https://api.semanticscholar.org/graph/v1/paper/60c7a5d919806e18e31f139b7df9f1172b776f17?fields=citationCount,influentialCitationCount\n",
      "https://api.semanticscholar.org/graph/v1/paper/8e66c7e494476eb0dee846349df1bd705ceac6c3?fields=citationCount,influentialCitationCount\n",
      "https://api.semanticscholar.org/graph/v1/paper/8e66c7e494476eb0dee846349df1bd705ceac6c3?fields=citationCount,influentialCitationCount\n",
      "https://api.semanticscholar.org/graph/v1/paper/ba640d55b77407f3170e9c1bd5f2cfbcbfd67df5?fields=citationCount,influentialCitationCount\n",
      "https://api.semanticscholar.org/graph/v1/paper/7a26c15a97142b05796738f34901b98a37e65b36?fields=citationCount,influentialCitationCount\n",
      "https://api.semanticscholar.org/graph/v1/paper/cdd8bad29b5e90a1f92080eaca51ba123f34ada5?fields=citationCount,influentialCitationCount\n",
      "https://api.semanticscholar.org/graph/v1/paper/5383ee00a5c0c3372081fccfeceb812b7854c9ea?fields=citationCount,influentialCitationCount\n",
      "https://api.semanticscholar.org/graph/v1/paper/6c8bddd67871a45bc2f0cd008648de1104b25df1?fields=citationCount,influentialCitationCount\n",
      "https://api.semanticscholar.org/graph/v1/paper/6c0270f1ca5afa0b50f47952e9215c6f362aea40?fields=citationCount,influentialCitationCount\n",
      "https://api.semanticscholar.org/graph/v1/paper/a45770aa3d77a53ffb81fef6cdec35f19f1f614d?fields=citationCount,influentialCitationCount\n",
      "https://api.semanticscholar.org/graph/v1/paper/22d046e926d3ed12d00063b8668cb11fed26e1f1?fields=citationCount,influentialCitationCount\n",
      "https://api.semanticscholar.org/graph/v1/paper/44a462b3240a1987756cf6071427b29653446af1?fields=citationCount,influentialCitationCount\n",
      "https://api.semanticscholar.org/graph/v1/paper/fcfc344628c7604232804317eb90db268dfc85e8?fields=citationCount,influentialCitationCount\n",
      "https://api.semanticscholar.org/graph/v1/paper/a64fc28e37b01a89a3c352827db2838d85f3134d?fields=citationCount,influentialCitationCount\n",
      "https://api.semanticscholar.org/graph/v1/paper/0e12be89cfe05315a18aaa6d43ef1d336b7e476e?fields=citationCount,influentialCitationCount\n",
      "https://api.semanticscholar.org/graph/v1/paper/186336fb15a47ebdc6f0730d0cf4f56c58c5b906?fields=citationCount,influentialCitationCount\n",
      "https://api.semanticscholar.org/graph/v1/paper/d16e66f0e4a3bcbfac5ea4c19e60ed53f6608f45?fields=citationCount,influentialCitationCount\n",
      "https://api.semanticscholar.org/graph/v1/paper/8ceee47c407e1e9a9bc736ca18e0f93a13457e38?fields=citationCount,influentialCitationCount\n",
      "https://api.semanticscholar.org/graph/v1/paper/ebd4d0ca94b86de68ff37a15f7cf1b6a577e7cd5?fields=citationCount,influentialCitationCount\n",
      "https://api.semanticscholar.org/graph/v1/paper/9aa3a0f681322f008e151d031d6009965e11b653?fields=citationCount,influentialCitationCount\n",
      "https://api.semanticscholar.org/graph/v1/paper/31553c941660ad6170ae83bb003e6a47fce300e9?fields=citationCount,influentialCitationCount\n",
      "https://api.semanticscholar.org/graph/v1/paper/e316d7b26f7e459a2350793c5e1b9224a4fd485f?fields=citationCount,influentialCitationCount\n",
      "https://api.semanticscholar.org/graph/v1/paper/e316d7b26f7e459a2350793c5e1b9224a4fd485f?fields=citationCount,influentialCitationCount\n",
      "https://api.semanticscholar.org/graph/v1/paper/914e98db74f29fc608106ff438edde58965037c5?fields=citationCount,influentialCitationCount\n",
      "https://api.semanticscholar.org/graph/v1/paper/4e27e155a81b5f1b5638fe6223c68de133417d7f?fields=citationCount,influentialCitationCount\n",
      "https://api.semanticscholar.org/graph/v1/paper/3a7d5410c52213a53d3e1d8567a88a404684c045?fields=citationCount,influentialCitationCount\n",
      "https://api.semanticscholar.org/graph/v1/paper/04964e2697778dc843671c7764f0f912e46991ca?fields=citationCount,influentialCitationCount\n",
      "https://api.semanticscholar.org/graph/v1/paper/6b85cc6fb81d4aa0615a2bde68ba0009e82f6be8?fields=citationCount,influentialCitationCount\n",
      "https://api.semanticscholar.org/graph/v1/paper/19bc52323383732c3c7d73e11726f6232515d2f9?fields=citationCount,influentialCitationCount\n",
      "https://api.semanticscholar.org/graph/v1/paper/5ff9429efe7b6c4e7c039064920600e2b7664828?fields=citationCount,influentialCitationCount\n",
      "https://api.semanticscholar.org/graph/v1/paper/5ff9429efe7b6c4e7c039064920600e2b7664828?fields=citationCount,influentialCitationCount\n",
      "https://api.semanticscholar.org/graph/v1/paper/5ff9429efe7b6c4e7c039064920600e2b7664828?fields=citationCount,influentialCitationCount\n",
      "https://api.semanticscholar.org/graph/v1/paper/76b1fed0cf23aa218bbbde1936f02dc3e07f8eca?fields=citationCount,influentialCitationCount\n",
      "https://api.semanticscholar.org/graph/v1/paper/57de1a6cc6035d4ac6305121367ad3c6d3fd5104?fields=citationCount,influentialCitationCount\n",
      "https://api.semanticscholar.org/graph/v1/paper/07e3db9c2034b522c3cf04399602cc7124964306?fields=citationCount,influentialCitationCount\n",
      "https://api.semanticscholar.org/graph/v1/paper/08682f0517cdd61b233c1614c48b6865805015a7?fields=citationCount,influentialCitationCount\n",
      "https://api.semanticscholar.org/graph/v1/paper/08682f0517cdd61b233c1614c48b6865805015a7?fields=citationCount,influentialCitationCount\n",
      "https://api.semanticscholar.org/graph/v1/paper/b07fb2dbaeda171c5f1d821f492dd0cb8bd4e668?fields=citationCount,influentialCitationCount\n",
      "https://api.semanticscholar.org/graph/v1/paper/1373195c26eab581138579f7389cdf8b7a94a4bb?fields=citationCount,influentialCitationCount\n",
      "https://api.semanticscholar.org/graph/v1/paper/229e105fd4d34815e476702dd5ca4362943c475d?fields=citationCount,influentialCitationCount\n",
      "https://api.semanticscholar.org/graph/v1/paper/3d0e1272dae0b8edefd02121a1164e1828120fc9?fields=citationCount,influentialCitationCount\n",
      "https://api.semanticscholar.org/graph/v1/paper/952ad66354edf09132ee37cf9ba1286c6881ce84?fields=citationCount,influentialCitationCount\n",
      "https://api.semanticscholar.org/graph/v1/paper/e6052969b1220a56f73a304a158e7cddfe5612c8?fields=citationCount,influentialCitationCount\n",
      "https://api.semanticscholar.org/graph/v1/paper/c40bfdc874cf4f8d3931f21e3975054ce8a75513?fields=citationCount,influentialCitationCount\n",
      "https://api.semanticscholar.org/graph/v1/paper/c40bfdc874cf4f8d3931f21e3975054ce8a75513?fields=citationCount,influentialCitationCount\n",
      "https://api.semanticscholar.org/graph/v1/paper/927ee108115e03cc14c70e567b044e66423fb54b?fields=citationCount,influentialCitationCount\n",
      "https://api.semanticscholar.org/graph/v1/paper/d7d1bbade9453f0348fac8a5c60d131528b87fcf?fields=citationCount,influentialCitationCount\n",
      "https://api.semanticscholar.org/graph/v1/paper/e24f9317ad8e391902c43f6b160730e98ad9904d?fields=citationCount,influentialCitationCount\n",
      "https://api.semanticscholar.org/graph/v1/paper/48b7b474af1e86ee6e9db66972155c10cbbdace6?fields=citationCount,influentialCitationCount\n",
      "https://api.semanticscholar.org/graph/v1/paper/3fa5acebaa27401976ed900157ebce1c2d9fd0cb?fields=citationCount,influentialCitationCount\n",
      "https://api.semanticscholar.org/graph/v1/paper/0e4b0d177e550d365f456375781cd0e4f7a04979?fields=citationCount,influentialCitationCount\n",
      "https://api.semanticscholar.org/graph/v1/paper/892f0d45074f1d8053ddcd6b8be2f50ebbcf014a?fields=citationCount,influentialCitationCount\n",
      "https://api.semanticscholar.org/graph/v1/paper/128360ee782b8078f5410f4cfa7b63a582abb1bd?fields=citationCount,influentialCitationCount\n",
      "https://api.semanticscholar.org/graph/v1/paper/10a83f9a07c803ceef8e09e12ad606dc74ea76b8?fields=citationCount,influentialCitationCount\n",
      "https://api.semanticscholar.org/graph/v1/paper/ff3835b7b2d3f62e25564536dc519616d364f773?fields=citationCount,influentialCitationCount\n",
      "https://api.semanticscholar.org/graph/v1/paper/aa797b600d0e66b331088db38ad9d1958ae6ac74?fields=citationCount,influentialCitationCount\n",
      "https://api.semanticscholar.org/graph/v1/paper/5d2f340beac2389a6f0ac27672faf60fd86e3c2a?fields=citationCount,influentialCitationCount\n",
      "https://api.semanticscholar.org/graph/v1/paper/e35e0aea20abbf5ea3f414270ac5c70b7ef35d07?fields=citationCount,influentialCitationCount\n",
      "https://api.semanticscholar.org/graph/v1/paper/5f7d77117767417116a3cfbd9ee0c86000002fed?fields=citationCount,influentialCitationCount\n",
      "https://api.semanticscholar.org/graph/v1/paper/7c125b68099bed3d1ef010840c46f8b1b6510a62?fields=citationCount,influentialCitationCount\n",
      "https://api.semanticscholar.org/graph/v1/paper/57a0f2c6fc3c03e483f2b4ba8528b3c200b01b32?fields=citationCount,influentialCitationCount\n",
      "https://api.semanticscholar.org/graph/v1/paper/daace40473375f90283b2449760968c63c4e3870?fields=citationCount,influentialCitationCount\n",
      "https://api.semanticscholar.org/graph/v1/paper/4427aaadc8d88f21f9201f703050ecbd0225c050?fields=citationCount,influentialCitationCount\n",
      "https://api.semanticscholar.org/graph/v1/paper/4dde27160c8155b209b6630cd3797b6eea04c792?fields=citationCount,influentialCitationCount\n",
      "https://api.semanticscholar.org/graph/v1/paper/809043703da2103b61accdbdcfd5e633bf4ce76c?fields=citationCount,influentialCitationCount\n",
      "https://api.semanticscholar.org/graph/v1/paper/85e3a8a6c46788bd01ded879bcca8f8eed0ad4f7?fields=citationCount,influentialCitationCount\n",
      "https://api.semanticscholar.org/graph/v1/paper/6d422b430bda380fef9eec49b0ee7e0ec190077f?fields=citationCount,influentialCitationCount\n",
      "https://api.semanticscholar.org/graph/v1/paper/50c1ab22f442470efbe3198f0b338fb699416bc5?fields=citationCount,influentialCitationCount\n",
      "https://api.semanticscholar.org/graph/v1/paper/fde35ee9b345265fc26339148d440e1139ae10ae?fields=citationCount,influentialCitationCount\n",
      "https://api.semanticscholar.org/graph/v1/paper/aa279e8e9c37d0926c45681565bf1b6d4acd65df?fields=citationCount,influentialCitationCount\n",
      "https://api.semanticscholar.org/graph/v1/paper/61ac1603c0ad5268b202506bb2cddbfe10c45d9f?fields=citationCount,influentialCitationCount\n",
      "https://api.semanticscholar.org/graph/v1/paper/11a092c80e64e36f41178e779345d17d03fb9c6f?fields=citationCount,influentialCitationCount\n",
      "https://api.semanticscholar.org/graph/v1/paper/d8d13c540c326d45824073c32499590d7cfb291e?fields=citationCount,influentialCitationCount\n",
      "https://api.semanticscholar.org/graph/v1/paper/149f5a50eef5b115fc67c21693c4e701a6161c43?fields=citationCount,influentialCitationCount\n",
      "https://api.semanticscholar.org/graph/v1/paper/149f5a50eef5b115fc67c21693c4e701a6161c43?fields=citationCount,influentialCitationCount\n",
      "https://api.semanticscholar.org/graph/v1/paper/1de7bc87547b1162fddcc7b69dd21023d4844e9c?fields=citationCount,influentialCitationCount\n",
      "https://api.semanticscholar.org/graph/v1/paper/15d351dbd12891b3118ed40b107b685118fe7c86?fields=citationCount,influentialCitationCount\n",
      "https://api.semanticscholar.org/graph/v1/paper/4286427a685ddea72aec0afa6f8bdbd714765cd4?fields=citationCount,influentialCitationCount\n",
      "https://api.semanticscholar.org/graph/v1/paper/5d52bdbb478f31749f33ead669cab87107af6b52?fields=citationCount,influentialCitationCount\n",
      "https://api.semanticscholar.org/graph/v1/paper/423b4c481fbb31bfa0b0ea2745217727f39e4132?fields=citationCount,influentialCitationCount\n",
      "https://api.semanticscholar.org/graph/v1/paper/176e8eeefce2039189bfd65a8d0346e480591db7?fields=citationCount,influentialCitationCount\n",
      "https://api.semanticscholar.org/graph/v1/paper/176e8eeefce2039189bfd65a8d0346e480591db7?fields=citationCount,influentialCitationCount\n",
      "https://api.semanticscholar.org/graph/v1/paper/176e8eeefce2039189bfd65a8d0346e480591db7?fields=citationCount,influentialCitationCount\n",
      "https://api.semanticscholar.org/graph/v1/paper/144d19b3f820c96b7816842356dadebf16678a8e?fields=citationCount,influentialCitationCount\n",
      "https://api.semanticscholar.org/graph/v1/paper/96555d62bfb1281ecf86627ca6d91ff96cda5343?fields=citationCount,influentialCitationCount\n",
      "https://api.semanticscholar.org/graph/v1/paper/5de8507ec6e986da6a6c662e869fc725ed1104cf?fields=citationCount,influentialCitationCount\n",
      "https://api.semanticscholar.org/graph/v1/paper/26d08a90848c8dba9e4e7c2adee6c38d713699d3?fields=citationCount,influentialCitationCount\n",
      "https://api.semanticscholar.org/graph/v1/paper/05f44a3a3ff0cf3573d59b1fde67e8311b84ad5d?fields=citationCount,influentialCitationCount\n",
      "https://api.semanticscholar.org/graph/v1/paper/e39147dd6b652ec1360db13fbcb92fff99f548a2?fields=citationCount,influentialCitationCount\n",
      "https://api.semanticscholar.org/graph/v1/paper/b88b38ec61a4881173ab94647d1e97500f4af15b?fields=citationCount,influentialCitationCount\n",
      "https://api.semanticscholar.org/graph/v1/paper/0ec2528cc8b03c85d476bc1110a44edee6649198?fields=citationCount,influentialCitationCount\n",
      "https://api.semanticscholar.org/graph/v1/paper/0ec2528cc8b03c85d476bc1110a44edee6649198?fields=citationCount,influentialCitationCount\n",
      "https://api.semanticscholar.org/graph/v1/paper/6d39bc2169e612456739e6a6414597fb75e7f68d?fields=citationCount,influentialCitationCount\n",
      "https://api.semanticscholar.org/graph/v1/paper/2b07be24909169c1708fcde15a5c333eeab83a81?fields=citationCount,influentialCitationCount\n",
      "https://api.semanticscholar.org/graph/v1/paper/65e40b0c9327b9e1cfe30cfec61a8708b334b8eb?fields=citationCount,influentialCitationCount\n",
      "https://api.semanticscholar.org/graph/v1/paper/de1bf2dc076813bb9924ebf2f019ed237305254d?fields=citationCount,influentialCitationCount\n",
      "https://api.semanticscholar.org/graph/v1/paper/02eb1b9cc14996713d1e653ada100ea14201b3e6?fields=citationCount,influentialCitationCount\n",
      "https://api.semanticscholar.org/graph/v1/paper/93ff162855c388691bebe841eac81332340183e6?fields=citationCount,influentialCitationCount\n",
      "https://api.semanticscholar.org/graph/v1/paper/852f7ea030e5bb259754816c09e529a1826bd5ac?fields=citationCount,influentialCitationCount\n",
      "https://api.semanticscholar.org/graph/v1/paper/cee8ad964ff20dd5ff6c10c783ee271a7222987e?fields=citationCount,influentialCitationCount\n",
      "https://api.semanticscholar.org/graph/v1/paper/0d8a19424f81cda87814ea12500da6a80c270fea?fields=citationCount,influentialCitationCount\n",
      "https://api.semanticscholar.org/graph/v1/paper/0980ac67119bcaec6828511e38a02f051b6987fe?fields=citationCount,influentialCitationCount\n",
      "https://api.semanticscholar.org/graph/v1/paper/eda7539707295872bfc025877a77b2d330f4bf91?fields=citationCount,influentialCitationCount\n",
      "https://api.semanticscholar.org/graph/v1/paper/b9a93ff7a2e69f77520015d59f1c0e365f5ca526?fields=citationCount,influentialCitationCount\n",
      "https://api.semanticscholar.org/graph/v1/paper/bfd0448e6243a53460f5f9472ae502bd9d15df9f?fields=citationCount,influentialCitationCount\n",
      "https://api.semanticscholar.org/graph/v1/paper/525cd1e13b4f9e34a3b2b6486b3d9fadc1813b78?fields=citationCount,influentialCitationCount\n",
      "https://api.semanticscholar.org/graph/v1/paper/a2bc75607c30690d409105bc464909047d38a51f?fields=citationCount,influentialCitationCount\n",
      "https://api.semanticscholar.org/graph/v1/paper/12d970641c712ba99eff92820f2829cf02e93070?fields=citationCount,influentialCitationCount\n",
      "https://api.semanticscholar.org/graph/v1/paper/1161f4bf5ba34b3800ae9f7f4bc9da2f85168036?fields=citationCount,influentialCitationCount\n",
      "https://api.semanticscholar.org/graph/v1/paper/3e6513e32ad445d2a8275f44ec02cecace2ae9e4?fields=citationCount,influentialCitationCount\n",
      "https://api.semanticscholar.org/graph/v1/paper/ed3b6e824b22be5df01148b0ad04c8e40e6b3bce?fields=citationCount,influentialCitationCount\n",
      "https://api.semanticscholar.org/graph/v1/paper/e71d5143d41293489ee65eb940445f0535d577e0?fields=citationCount,influentialCitationCount\n",
      "https://api.semanticscholar.org/graph/v1/paper/a492e402574c18a41888de96ce64f50060d42de7?fields=citationCount,influentialCitationCount\n",
      "https://api.semanticscholar.org/graph/v1/paper/45af4ce7b9c12448df7ff400fa299a2d94f3f151?fields=citationCount,influentialCitationCount\n",
      "https://api.semanticscholar.org/graph/v1/paper/a491e340a1c6e639392e147dd6b6205dc4bce438?fields=citationCount,influentialCitationCount\n",
      "https://api.semanticscholar.org/graph/v1/paper/ff32b7ee590aaf7bdd58d7a6249ea33f98f921a7?fields=citationCount,influentialCitationCount\n",
      "https://api.semanticscholar.org/graph/v1/paper/f1e92f09209c7f50e05599c7551520ca129a6de4?fields=citationCount,influentialCitationCount\n",
      "https://api.semanticscholar.org/graph/v1/paper/7047496e6159cdac94b2871516b593bf1c6bf0c5?fields=citationCount,influentialCitationCount\n",
      "https://api.semanticscholar.org/graph/v1/paper/99ec20cb1f8c45820bac323b903e58eb928541c5?fields=citationCount,influentialCitationCount\n",
      "https://api.semanticscholar.org/graph/v1/paper/cee6e2190a59013f6fd4ad86fdffba938b3d2ca6?fields=citationCount,influentialCitationCount\n",
      "https://api.semanticscholar.org/graph/v1/paper/ebb5d9db9152ce81671143c35c5d6ce58b23255e?fields=citationCount,influentialCitationCount\n",
      "https://api.semanticscholar.org/graph/v1/paper/69eb71c3b306aa7e8494b88cd96491aaf01acf33?fields=citationCount,influentialCitationCount\n",
      "https://api.semanticscholar.org/graph/v1/paper/8c2c4e3db2de3305b1d25368695c258fea6a6076?fields=citationCount,influentialCitationCount\n",
      "https://api.semanticscholar.org/graph/v1/paper/15ef0cb38239a1f74bea8ff9521778cad99420f3?fields=citationCount,influentialCitationCount\n",
      "https://api.semanticscholar.org/graph/v1/paper/c7901a519fd19f483b85b5483cdd31c67c93f973?fields=citationCount,influentialCitationCount\n",
      "https://api.semanticscholar.org/graph/v1/paper/6b2af377fd4876a3feeea9c9a9eec88e911af382?fields=citationCount,influentialCitationCount\n",
      "https://api.semanticscholar.org/graph/v1/paper/1e3635f8c1c78f224a0c1c4d3a2197eaeb38723f?fields=citationCount,influentialCitationCount\n",
      "https://api.semanticscholar.org/graph/v1/paper/76593fe7ff4b767a524a0d0b0a013fdd01132636?fields=citationCount,influentialCitationCount\n",
      "https://api.semanticscholar.org/graph/v1/paper/5c6dc6f825f63a339c50e1d334ef860d5fb0c41f?fields=citationCount,influentialCitationCount\n",
      "https://api.semanticscholar.org/graph/v1/paper/9a6f72226f6cb0e8b68d6108b06ede5bd43cbd01?fields=citationCount,influentialCitationCount\n",
      "https://api.semanticscholar.org/graph/v1/paper/400da52f90ddfc2bdc1b356f4438d585a4c66545?fields=citationCount,influentialCitationCount\n",
      "https://api.semanticscholar.org/graph/v1/paper/81d5294e093ca79c27b15aa08275d729118b83ce?fields=citationCount,influentialCitationCount\n",
      "https://api.semanticscholar.org/graph/v1/paper/182df40034d937c74df0edb0acb295088e63f1ed?fields=citationCount,influentialCitationCount\n",
      "https://api.semanticscholar.org/graph/v1/paper/8e66c7e494476eb0dee846349df1bd705ceac6c3?fields=citationCount,influentialCitationCount\n",
      "https://api.semanticscholar.org/graph/v1/paper/77502b6f556c6c88a76e4541749de15d3ae502c6?fields=citationCount,influentialCitationCount\n",
      "https://api.semanticscholar.org/graph/v1/paper/86f88bc71034122eb9d4f8ea16371ebd3efd42cc?fields=citationCount,influentialCitationCount\n",
      "https://api.semanticscholar.org/graph/v1/paper/86f88bc71034122eb9d4f8ea16371ebd3efd42cc?fields=citationCount,influentialCitationCount\n",
      "https://api.semanticscholar.org/graph/v1/paper/2bf078aba178133b7cd43acfbaa6fcf27db3eee9?fields=citationCount,influentialCitationCount\n",
      "https://api.semanticscholar.org/graph/v1/paper/397660e626a0bd016c22c6639ffb15c9a4d91f9c?fields=citationCount,influentialCitationCount\n",
      "https://api.semanticscholar.org/graph/v1/paper/98d5e7387b6427ca8bddce8c47be2db47c15189c?fields=citationCount,influentialCitationCount\n",
      "https://api.semanticscholar.org/graph/v1/paper/7168f7c41a31d19fd35f414e2ad0d0d061be74b3?fields=citationCount,influentialCitationCount\n",
      "https://api.semanticscholar.org/graph/v1/paper/ce05ebc31e7aa8e4152673bb240b9f8d27ebea21?fields=citationCount,influentialCitationCount\n",
      "https://api.semanticscholar.org/graph/v1/paper/99a25cf80bcc1b0d8c89bf458c376f3e0f5a1298?fields=citationCount,influentialCitationCount\n",
      "https://api.semanticscholar.org/graph/v1/paper/0dcd5e0c87835ad05d241935ff5a5c05fcbc5dc2?fields=citationCount,influentialCitationCount\n",
      "https://api.semanticscholar.org/graph/v1/paper/41752656e26384c2538ad0a9c267254ad76162fe?fields=citationCount,influentialCitationCount\n",
      "https://api.semanticscholar.org/graph/v1/paper/566fe8e049ba041db3fa7ff7b09fd024e587131a?fields=citationCount,influentialCitationCount\n",
      "https://api.semanticscholar.org/graph/v1/paper/0d0f6396ba436f2e1a4fd8bfa7a562a35b058fca?fields=citationCount,influentialCitationCount\n",
      "https://api.semanticscholar.org/graph/v1/paper/1614645a0fa9689a187dedefa36bdf5be43734f6?fields=citationCount,influentialCitationCount\n",
      "https://api.semanticscholar.org/graph/v1/paper/6d33fbbaf490c5118748201b7f8f506aac84d5e7?fields=citationCount,influentialCitationCount\n",
      "https://api.semanticscholar.org/graph/v1/paper/ddb80e2c3e1c2ba012ff33bafaef86f02b7275b0?fields=citationCount,influentialCitationCount\n",
      "https://api.semanticscholar.org/graph/v1/paper/4e60703e33c7d358a39d9a4afb48d64bf6bbea0c?fields=citationCount,influentialCitationCount\n",
      "https://api.semanticscholar.org/graph/v1/paper/ebe5bb169c539cf84c2a38e9f01863c9984a1e35?fields=citationCount,influentialCitationCount\n",
      "https://api.semanticscholar.org/graph/v1/paper/b53e2f44381f72286f1f0b3416de8f763fd26efd?fields=citationCount,influentialCitationCount\n",
      "https://api.semanticscholar.org/graph/v1/paper/79b99c780323b5f58a25658d31b5207058f26505?fields=citationCount,influentialCitationCount\n",
      "https://api.semanticscholar.org/graph/v1/paper/79b99c780323b5f58a25658d31b5207058f26505?fields=citationCount,influentialCitationCount\n",
      "https://api.semanticscholar.org/graph/v1/paper/79b99c780323b5f58a25658d31b5207058f26505?fields=citationCount,influentialCitationCount\n",
      "https://api.semanticscholar.org/graph/v1/paper/1c989d93b966cdd76734ce31e7ad14d89d418f4b?fields=citationCount,influentialCitationCount\n",
      "https://api.semanticscholar.org/graph/v1/paper/52d7ef6b0ca31c6da90da2645781dd8332536394?fields=citationCount,influentialCitationCount\n",
      "https://api.semanticscholar.org/graph/v1/paper/36194c76ce53be8e8fba71acbf8d235c7b39342b?fields=citationCount,influentialCitationCount\n",
      "https://api.semanticscholar.org/graph/v1/paper/dee86cf4ddab965169297960b55a4a2c0aee58d5?fields=citationCount,influentialCitationCount\n",
      "https://api.semanticscholar.org/graph/v1/paper/fee42fe77d4beaaeb9316a07f66c10ab21bc9eb2?fields=citationCount,influentialCitationCount\n",
      "https://api.semanticscholar.org/graph/v1/paper/7b5bd8535e49747b752c5eb8c0d80cd45a30078b?fields=citationCount,influentialCitationCount\n",
      "https://api.semanticscholar.org/graph/v1/paper/497db84d084c34cf2db8883f95000953deeeddcc?fields=citationCount,influentialCitationCount\n",
      "https://api.semanticscholar.org/graph/v1/paper/07dd4a2c0c5d783206684eb8977a8a8d9e130a0a?fields=citationCount,influentialCitationCount\n",
      "https://api.semanticscholar.org/graph/v1/paper/2899f5a1a706028b44dd6fdeaf67367d2c3bd3c0?fields=citationCount,influentialCitationCount\n",
      "https://api.semanticscholar.org/graph/v1/paper/55303cc7773e5e0528b1dc579bcc348c0fc38569?fields=citationCount,influentialCitationCount\n",
      "https://api.semanticscholar.org/graph/v1/paper/3773df00a1ac019fbda36ad965248e60b93cd76e?fields=citationCount,influentialCitationCount\n",
      "https://api.semanticscholar.org/graph/v1/paper/de2e439641d968448bace28f4c347ae8344be938?fields=citationCount,influentialCitationCount\n",
      "https://api.semanticscholar.org/graph/v1/paper/5e5af1388c8e168c898b8f0475a0b9b77abf26fa?fields=citationCount,influentialCitationCount\n",
      "https://api.semanticscholar.org/graph/v1/paper/e38ab881e5de9d191f08e532d33edd486e239503?fields=citationCount,influentialCitationCount\n",
      "https://api.semanticscholar.org/graph/v1/paper/33aa722a1112c847856ea97756e503f15f091744?fields=citationCount,influentialCitationCount\n",
      "https://api.semanticscholar.org/graph/v1/paper/4203655f56185b494431f9bab23141100e44a2c3?fields=citationCount,influentialCitationCount\n"
     ]
    }
   ],
   "source": [
    "cit = []\n",
    "inflCit = []\n",
    "for paper in retrieved_data:\n",
    "    paperId = paper['paperId']\n",
    "    fields = 'citationCount,influentialCitationCount'\n",
    "    req_str = f'https://api.semanticscholar.org/graph/v1/paper/{paperId}?fields={fields}'\n",
    "    print(req_str)\n",
    "    req = requests.get(req_str, headers={'x-api-key':key}, timeout=30).json()\n",
    "    if 'message' in req.keys():\n",
    "        print(req['message'])\n",
    "        raise Exception('Probs too many requests :(')\n",
    "    cit.append(req['citationCount'])\n",
    "    inflCit.append(req['influentialCitationCount'])\n"
   ],
   "metadata": {
    "collapsed": false,
    "pycharm": {
     "name": "#%%\n"
    }
   }
  },
  {
   "cell_type": "code",
   "execution_count": 17,
   "outputs": [
    {
     "data": {
      "text/plain": "(0.9806436669588944, 2.9596808603022016e-132)"
     },
     "execution_count": 17,
     "metadata": {},
     "output_type": "execute_result"
    }
   ],
   "source": [
    "pearsonr(cit,inflCit)"
   ],
   "metadata": {
    "collapsed": false,
    "pycharm": {
     "name": "#%%\n"
    }
   }
  },
  {
   "cell_type": "markdown",
   "source": [
    "Influential citations and citations are highly correlated - mostly represent the same thing"
   ],
   "metadata": {
    "collapsed": false,
    "pycharm": {
     "name": "#%% md\n"
    }
   }
  }
 ],
 "metadata": {
  "kernelspec": {
   "display_name": "Python 3",
   "language": "python",
   "name": "python3"
  },
  "language_info": {
   "codemirror_mode": {
    "name": "ipython",
    "version": 2
   },
   "file_extension": ".py",
   "mimetype": "text/x-python",
   "name": "python",
   "nbconvert_exporter": "python",
   "pygments_lexer": "ipython2",
   "version": "2.7.6"
  }
 },
 "nbformat": 4,
 "nbformat_minor": 0
}